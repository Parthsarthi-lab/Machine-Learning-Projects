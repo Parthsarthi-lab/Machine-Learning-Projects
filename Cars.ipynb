{
  "nbformat": 4,
  "nbformat_minor": 0,
  "metadata": {
    "colab": {
      "provenance": [],
      "authorship_tag": "ABX9TyOHn9DJ8EvNX6YSD5KNPzXl",
      "include_colab_link": true
    },
    "kernelspec": {
      "name": "python3",
      "display_name": "Python 3"
    },
    "language_info": {
      "name": "python"
    }
  },
  "cells": [
    {
      "cell_type": "markdown",
      "metadata": {
        "id": "view-in-github",
        "colab_type": "text"
      },
      "source": [
        "<a href=\"https://colab.research.google.com/github/Parthsarthi-lab/Machine-Learning-Projects/blob/main/Cars.ipynb\" target=\"_parent\"><img src=\"https://colab.research.google.com/assets/colab-badge.svg\" alt=\"Open In Colab\"/></a>"
      ]
    },
    {
      "cell_type": "code",
      "metadata": {
        "colab": {
          "base_uri": "https://localhost:8080/"
        },
        "id": "RumLeQF97oQP",
        "outputId": "1391af46-cbcb-47b2-a72f-f61dcf13e4a3"
      },
      "source": [
        "from google.colab import drive\n",
        "drive.mount(\"/content/drive\")"
      ],
      "execution_count": null,
      "outputs": [
        {
          "output_type": "stream",
          "text": [
            "Mounted at /content/drive\n"
          ],
          "name": "stdout"
        }
      ]
    },
    {
      "cell_type": "code",
      "metadata": {
        "id": "bcLtB7i58ETD"
      },
      "source": [
        "import pandas as pd\n",
        "import numpy as np\n",
        "import matplotlib.pyplot as plt\n",
        "import seaborn as sns\n",
        "from sklearn.preprocessing import LabelEncoder\n",
        "from sklearn import model_selection\n",
        "from xgboost import XGBClassifier\n",
        "from sklearn.ensemble import AdaBoostClassifier"
      ],
      "execution_count": null,
      "outputs": []
    },
    {
      "cell_type": "code",
      "metadata": {
        "colab": {
          "base_uri": "https://localhost:8080/",
          "height": 198
        },
        "id": "j1iiRwyI8pHQ",
        "outputId": "48e2a6cb-b989-4d41-c22a-501eb9093dff"
      },
      "source": [
        "df = pd.read_csv(\"/content/drive/MyDrive/Data Science/1566806560_lesson_9_project/car_evaluation.csv\")\n",
        "df.head()"
      ],
      "execution_count": null,
      "outputs": [
        {
          "output_type": "execute_result",
          "data": {
            "text/html": [
              "<div>\n",
              "<style scoped>\n",
              "    .dataframe tbody tr th:only-of-type {\n",
              "        vertical-align: middle;\n",
              "    }\n",
              "\n",
              "    .dataframe tbody tr th {\n",
              "        vertical-align: top;\n",
              "    }\n",
              "\n",
              "    .dataframe thead th {\n",
              "        text-align: right;\n",
              "    }\n",
              "</style>\n",
              "<table border=\"1\" class=\"dataframe\">\n",
              "  <thead>\n",
              "    <tr style=\"text-align: right;\">\n",
              "      <th></th>\n",
              "      <th>buying</th>\n",
              "      <th>maint</th>\n",
              "      <th>doors</th>\n",
              "      <th>persons</th>\n",
              "      <th>lug_boot</th>\n",
              "      <th>safety</th>\n",
              "      <th>class</th>\n",
              "    </tr>\n",
              "  </thead>\n",
              "  <tbody>\n",
              "    <tr>\n",
              "      <th>0</th>\n",
              "      <td>vhigh</td>\n",
              "      <td>vhigh</td>\n",
              "      <td>2</td>\n",
              "      <td>2</td>\n",
              "      <td>small</td>\n",
              "      <td>low</td>\n",
              "      <td>unacc</td>\n",
              "    </tr>\n",
              "    <tr>\n",
              "      <th>1</th>\n",
              "      <td>vhigh</td>\n",
              "      <td>vhigh</td>\n",
              "      <td>2</td>\n",
              "      <td>2</td>\n",
              "      <td>small</td>\n",
              "      <td>med</td>\n",
              "      <td>unacc</td>\n",
              "    </tr>\n",
              "    <tr>\n",
              "      <th>2</th>\n",
              "      <td>vhigh</td>\n",
              "      <td>vhigh</td>\n",
              "      <td>2</td>\n",
              "      <td>2</td>\n",
              "      <td>small</td>\n",
              "      <td>high</td>\n",
              "      <td>unacc</td>\n",
              "    </tr>\n",
              "    <tr>\n",
              "      <th>3</th>\n",
              "      <td>vhigh</td>\n",
              "      <td>vhigh</td>\n",
              "      <td>2</td>\n",
              "      <td>2</td>\n",
              "      <td>med</td>\n",
              "      <td>low</td>\n",
              "      <td>unacc</td>\n",
              "    </tr>\n",
              "    <tr>\n",
              "      <th>4</th>\n",
              "      <td>vhigh</td>\n",
              "      <td>vhigh</td>\n",
              "      <td>2</td>\n",
              "      <td>2</td>\n",
              "      <td>med</td>\n",
              "      <td>med</td>\n",
              "      <td>unacc</td>\n",
              "    </tr>\n",
              "  </tbody>\n",
              "</table>\n",
              "</div>"
            ],
            "text/plain": [
              "  buying  maint doors persons lug_boot safety  class\n",
              "0  vhigh  vhigh     2       2    small    low  unacc\n",
              "1  vhigh  vhigh     2       2    small    med  unacc\n",
              "2  vhigh  vhigh     2       2    small   high  unacc\n",
              "3  vhigh  vhigh     2       2      med    low  unacc\n",
              "4  vhigh  vhigh     2       2      med    med  unacc"
            ]
          },
          "metadata": {
            "tags": []
          },
          "execution_count": 6
        }
      ]
    },
    {
      "cell_type": "markdown",
      "metadata": {
        "id": "SiCGnP0q-Ksw"
      },
      "source": [
        "# EDA"
      ]
    },
    {
      "cell_type": "code",
      "metadata": {
        "colab": {
          "base_uri": "https://localhost:8080/",
          "height": 168
        },
        "id": "av1aBpaC-xM1",
        "outputId": "80094971-5ee9-4947-a644-a74cc682e074"
      },
      "source": [
        "df.describe()"
      ],
      "execution_count": null,
      "outputs": [
        {
          "output_type": "execute_result",
          "data": {
            "text/html": [
              "<div>\n",
              "<style scoped>\n",
              "    .dataframe tbody tr th:only-of-type {\n",
              "        vertical-align: middle;\n",
              "    }\n",
              "\n",
              "    .dataframe tbody tr th {\n",
              "        vertical-align: top;\n",
              "    }\n",
              "\n",
              "    .dataframe thead th {\n",
              "        text-align: right;\n",
              "    }\n",
              "</style>\n",
              "<table border=\"1\" class=\"dataframe\">\n",
              "  <thead>\n",
              "    <tr style=\"text-align: right;\">\n",
              "      <th></th>\n",
              "      <th>buying</th>\n",
              "      <th>maint</th>\n",
              "      <th>doors</th>\n",
              "      <th>persons</th>\n",
              "      <th>lug_boot</th>\n",
              "      <th>safety</th>\n",
              "      <th>class</th>\n",
              "    </tr>\n",
              "  </thead>\n",
              "  <tbody>\n",
              "    <tr>\n",
              "      <th>count</th>\n",
              "      <td>1728</td>\n",
              "      <td>1728</td>\n",
              "      <td>1728</td>\n",
              "      <td>1728</td>\n",
              "      <td>1728</td>\n",
              "      <td>1728</td>\n",
              "      <td>1728</td>\n",
              "    </tr>\n",
              "    <tr>\n",
              "      <th>unique</th>\n",
              "      <td>4</td>\n",
              "      <td>4</td>\n",
              "      <td>4</td>\n",
              "      <td>3</td>\n",
              "      <td>3</td>\n",
              "      <td>3</td>\n",
              "      <td>4</td>\n",
              "    </tr>\n",
              "    <tr>\n",
              "      <th>top</th>\n",
              "      <td>vhigh</td>\n",
              "      <td>vhigh</td>\n",
              "      <td>4</td>\n",
              "      <td>4</td>\n",
              "      <td>big</td>\n",
              "      <td>med</td>\n",
              "      <td>unacc</td>\n",
              "    </tr>\n",
              "    <tr>\n",
              "      <th>freq</th>\n",
              "      <td>432</td>\n",
              "      <td>432</td>\n",
              "      <td>432</td>\n",
              "      <td>576</td>\n",
              "      <td>576</td>\n",
              "      <td>576</td>\n",
              "      <td>1210</td>\n",
              "    </tr>\n",
              "  </tbody>\n",
              "</table>\n",
              "</div>"
            ],
            "text/plain": [
              "       buying  maint doors persons lug_boot safety  class\n",
              "count    1728   1728  1728    1728     1728   1728   1728\n",
              "unique      4      4     4       3        3      3      4\n",
              "top     vhigh  vhigh     4       4      big    med  unacc\n",
              "freq      432    432   432     576      576    576   1210"
            ]
          },
          "metadata": {
            "tags": []
          },
          "execution_count": 13
        }
      ]
    },
    {
      "cell_type": "code",
      "metadata": {
        "colab": {
          "base_uri": "https://localhost:8080/"
        },
        "id": "JjjzQ8uC-wBy",
        "outputId": "c4bbe20f-a4f9-4a01-b25b-2b73c98202c7"
      },
      "source": [
        "df.dtypes"
      ],
      "execution_count": null,
      "outputs": [
        {
          "output_type": "execute_result",
          "data": {
            "text/plain": [
              "buying      object\n",
              "maint       object\n",
              "doors       object\n",
              "persons     object\n",
              "lug_boot    object\n",
              "safety      object\n",
              "class       object\n",
              "dtype: object"
            ]
          },
          "metadata": {
            "tags": []
          },
          "execution_count": 12
        }
      ]
    },
    {
      "cell_type": "code",
      "metadata": {
        "id": "zWedYBC_87Nr",
        "colab": {
          "base_uri": "https://localhost:8080/"
        },
        "outputId": "779afed5-214d-4ac0-e50a-5c470bf09d93"
      },
      "source": [
        "df.isnull().sum()"
      ],
      "execution_count": null,
      "outputs": [
        {
          "output_type": "execute_result",
          "data": {
            "text/plain": [
              "buying      0\n",
              "maint       0\n",
              "doors       0\n",
              "persons     0\n",
              "lug_boot    0\n",
              "safety      0\n",
              "class       0\n",
              "dtype: int64"
            ]
          },
          "metadata": {
            "tags": []
          },
          "execution_count": 7
        }
      ]
    },
    {
      "cell_type": "code",
      "metadata": {
        "colab": {
          "base_uri": "https://localhost:8080/"
        },
        "id": "ynwkhZFb-eVD",
        "outputId": "b1fededf-affd-44ed-81da-ebf024429dac"
      },
      "source": [
        "for col in df.columns:\n",
        "  print(\"{} \\n{}\\n\".format(col,df[col].value_counts()))"
      ],
      "execution_count": null,
      "outputs": [
        {
          "output_type": "stream",
          "text": [
            "buying \n",
            "vhigh    432\n",
            "med      432\n",
            "high     432\n",
            "low      432\n",
            "Name: buying, dtype: int64\n",
            "\n",
            "maint \n",
            "vhigh    432\n",
            "med      432\n",
            "high     432\n",
            "low      432\n",
            "Name: maint, dtype: int64\n",
            "\n",
            "doors \n",
            "4        432\n",
            "5more    432\n",
            "3        432\n",
            "2        432\n",
            "Name: doors, dtype: int64\n",
            "\n",
            "persons \n",
            "4       576\n",
            "more    576\n",
            "2       576\n",
            "Name: persons, dtype: int64\n",
            "\n",
            "lug_boot \n",
            "big      576\n",
            "med      576\n",
            "small    576\n",
            "Name: lug_boot, dtype: int64\n",
            "\n",
            "safety \n",
            "med     576\n",
            "high    576\n",
            "low     576\n",
            "Name: safety, dtype: int64\n",
            "\n",
            "class \n",
            "unacc    1210\n",
            "acc       384\n",
            "good       69\n",
            "vgood      65\n",
            "Name: class, dtype: int64\n",
            "\n"
          ],
          "name": "stdout"
        }
      ]
    },
    {
      "cell_type": "markdown",
      "metadata": {
        "id": "anbX9FhxAoV9"
      },
      "source": [
        "Leaving column \"class\" ,in all the columns the values are equally distributed"
      ]
    },
    {
      "cell_type": "code",
      "metadata": {
        "colab": {
          "base_uri": "https://localhost:8080/"
        },
        "id": "8E44VKjt-_g_",
        "outputId": "b8fda146-ff7c-40a8-9e34-b3d3f9b05eab"
      },
      "source": [
        "# Using label encoder\n",
        "encoder = LabelEncoder()\n",
        "for col in df.columns:\n",
        "  df[col] = encoder.fit_transform(df[col])\n",
        "print(df.head())"
      ],
      "execution_count": null,
      "outputs": [
        {
          "output_type": "stream",
          "text": [
            "   buying  maint  doors  persons  lug_boot  safety  class\n",
            "0       3      3      0        0         2       1      2\n",
            "1       3      3      0        0         2       2      2\n",
            "2       3      3      0        0         2       0      2\n",
            "3       3      3      0        0         1       1      2\n",
            "4       3      3      0        0         1       2      2\n"
          ],
          "name": "stdout"
        }
      ]
    },
    {
      "cell_type": "code",
      "metadata": {
        "colab": {
          "base_uri": "https://localhost:8080/",
          "height": 354
        },
        "id": "9VfqgujIB85Y",
        "outputId": "4c40efa1-7b64-404a-eaaf-287faf0beb4a"
      },
      "source": [
        "sns.countplot(df['class'])"
      ],
      "execution_count": null,
      "outputs": [
        {
          "output_type": "stream",
          "text": [
            "/usr/local/lib/python3.7/dist-packages/seaborn/_decorators.py:43: FutureWarning: Pass the following variable as a keyword arg: x. From version 0.12, the only valid positional argument will be `data`, and passing other arguments without an explicit keyword will result in an error or misinterpretation.\n",
            "  FutureWarning\n"
          ],
          "name": "stderr"
        },
        {
          "output_type": "execute_result",
          "data": {
            "text/plain": [
              "<matplotlib.axes._subplots.AxesSubplot at 0x7f0550e4de10>"
            ]
          },
          "metadata": {
            "tags": []
          },
          "execution_count": 35
        },
        {
          "output_type": "display_data",
          "data": {
            "image/png": "[encoded data removed]",
            "text/plain": [
              "<Figure size 432x288 with 1 Axes>"
            ]
          },
          "metadata": {
            "tags": [],
            "needs_background": "light"
          }
        }
      ]
    },
    {
      "cell_type": "code",
      "metadata": {
        "colab": {
          "base_uri": "https://localhost:8080/",
          "height": 320
        },
        "id": "XgvTfw0_AcuG",
        "outputId": "ff3d2d43-8941-4a00-b376-612604c02ac7"
      },
      "source": [
        "# Correlations\n",
        "correlation = df.corr()\n",
        "sns.heatmap(correlation,annot=True)"
      ],
      "execution_count": null,
      "outputs": [
        {
          "output_type": "execute_result",
          "data": {
            "text/plain": [
              "<matplotlib.axes._subplots.AxesSubplot at 0x7f055146bcd0>"
            ]
          },
          "metadata": {
            "tags": []
          },
          "execution_count": 39
        },
        {
          "output_type": "display_data",
          "data": {
            "image/png": "[encoded data removed]",
            "text/plain": [
              "<Figure size 432x288 with 2 Axes>"
            ]
          },
          "metadata": {
            "tags": [],
            "needs_background": "light"
          }
        }
      ]
    },
    {
      "cell_type": "markdown",
      "metadata": {
        "id": "ApG-L1RuDxAf"
      },
      "source": [
        "Most of the columns have very weak correlation with the column \"CLASS\""
      ]
    },
    {
      "cell_type": "code",
      "metadata": {
        "id": "yW_Z5SywC0hW"
      },
      "source": [
        "X = df.drop(labels=['class'],axis=1)\n",
        "y = df['class']"
      ],
      "execution_count": null,
      "outputs": []
    },
    {
      "cell_type": "markdown",
      "metadata": {
        "id": "mNidG_-OER4L"
      },
      "source": [
        "MODELS THAT CAN BE MADE -- <BR>\n",
        "\n",
        "\n",
        "*  Logistic Regression\n",
        "*   Random Forest-\n",
        "*   SVM\n",
        "*   Gradient Boosting\n",
        "*   AdaBoost\n",
        "*   XGBOOST\n",
        "\n",
        "\n",
        "\n",
        "\n",
        "\n"
      ]
    },
    {
      "cell_type": "code",
      "metadata": {
        "colab": {
          "base_uri": "https://localhost:8080/"
        },
        "id": "iHGbIQ7PEFPu",
        "outputId": "17b2a4ac-80cc-48e5-a2a5-adb3adcecaf2"
      },
      "source": [
        "# LOGISTIC REGRESSION\n",
        "from sklearn.linear_model import LogisticRegression\n",
        "from sklearn.metrics import accuracy_score\n",
        "\n",
        "kfold = model_selection.KFold(n_splits=10,shuffle=True)\n",
        "logreg = LogisticRegression()\n",
        "acc = model_selection.cross_val_score(logreg,X,y,cv=kfold,scoring=\"accuracy\")\n",
        "print(\"Accuracy of Logistic Regression Model \",acc.mean())"
      ],
      "execution_count": null,
      "outputs": [
        {
          "output_type": "stream",
          "text": [
            "Accuracy of Logistic Regression Model  0.6857474122865976\n"
          ],
          "name": "stdout"
        }
      ]
    },
    {
      "cell_type": "code",
      "metadata": {
        "colab": {
          "base_uri": "https://localhost:8080/"
        },
        "id": "N_mQOoftGnYk",
        "outputId": "e53e0fca-222e-4a99-c257-5a37d1582748"
      },
      "source": [
        "# Random Forest CLassifier\n",
        "from sklearn.ensemble import RandomForestClassifier\n",
        "from sklearn.metrics import accuracy_score\n",
        "\n",
        "kfold = model_selection.KFold(n_splits=10,shuffle=True)\n",
        "rfc = RandomForestClassifier()\n",
        "acc = model_selection.cross_val_score(rfc,X,y,cv=kfold,scoring=\"accuracy\")\n",
        "print(\"Accuracy of Random Forest Classifier  is  \",acc.mean())"
      ],
      "execution_count": null,
      "outputs": [
        {
          "output_type": "stream",
          "text": [
            "Accuracy of Random Forest Classifier  is   0.9832101088856028\n"
          ],
          "name": "stdout"
        }
      ]
    },
    {
      "cell_type": "code",
      "metadata": {
        "colab": {
          "base_uri": "https://localhost:8080/"
        },
        "id": "sGt6OCiaGDpC",
        "outputId": "23626d5d-d4fe-42da-bda8-eaf97362d257"
      },
      "source": [
        "# Random Forest CLassifier\n",
        "from sklearn.ensemble import RandomForestClassifier\n",
        "from sklearn.metrics import accuracy_score\n",
        "\n",
        "kfold = model_selection.KFold(n_splits=10,shuffle=True)\n",
        "rfc = RandomForestClassifier(n_estimators=50,criterion=\"entropy\",max_depth=10,max_features=6,max_leaf_nodes=None)\n",
        "acc = model_selection.cross_val_score(rfc,X,y,cv=kfold,scoring=\"accuracy\")\n",
        "print(\"Accuracy of Random Forest Classifier  with hyperparameter tuning is  \",acc.mean())"
      ],
      "execution_count": null,
      "outputs": [
        {
          "output_type": "stream",
          "text": [
            "Accuracy of Random Forest Classifier  with hyperparameter tuning is   0.9797385401263611\n"
          ],
          "name": "stdout"
        }
      ]
    },
    {
      "cell_type": "code",
      "metadata": {
        "id": "8Ha37_OxGk04",
        "colab": {
          "base_uri": "https://localhost:8080/"
        },
        "outputId": "867b13a8-29d3-4cff-f4b7-c596d7e25ae5"
      },
      "source": [
        "# Support Vector Machine\n",
        "from sklearn.svm import SVC\n",
        "from sklearn.metrics import accuracy_score\n",
        "\n",
        "kfold = model_selection.KFold(n_splits=10,shuffle=True)\n",
        "support_vm = SVC()\n",
        "acc = model_selection.cross_val_score(support_vm,X,y,cv=kfold,scoring=\"accuracy\")\n",
        "print(\"Accuracy of SUPPORT VECTOR MACHINE \",acc.mean())"
      ],
      "execution_count": null,
      "outputs": [
        {
          "output_type": "stream",
          "text": [
            "Accuracy of SUPPORT VECTOR MACHINE  0.9305719854819197\n"
          ],
          "name": "stdout"
        }
      ]
    },
    {
      "cell_type": "code",
      "metadata": {
        "colab": {
          "base_uri": "https://localhost:8080/"
        },
        "id": "MVIfN61LQHPO",
        "outputId": "224a09d3-cb0d-46ac-ae7b-15f02fd380ad"
      },
      "source": [
        "# Gradient BOOSTING\n",
        "from sklearn.ensemble import GradientBoostingClassifier\n",
        "from sklearn.metrics import accuracy_score\n",
        "\n",
        "kfold = model_selection.KFold(n_splits=10,shuffle=True)\n",
        "gb_boost = GradientBoostingClassifier()\n",
        "acc = model_selection.cross_val_score(gb_boost,X,y,cv=kfold,scoring=\"accuracy\")\n",
        "print(\"Accuracy of Gradient Boosting is  \",acc.mean())"
      ],
      "execution_count": null,
      "outputs": [
        {
          "output_type": "stream",
          "text": [
            "Accuracy of Gradient Boosting is   0.9826387955370344\n"
          ],
          "name": "stdout"
        }
      ]
    },
    {
      "cell_type": "code",
      "metadata": {
        "colab": {
          "base_uri": "https://localhost:8080/"
        },
        "id": "nYdvt2FRQaGs",
        "outputId": "7da0726c-4a53-4792-c5a5-bbaaba1a0af7"
      },
      "source": [
        "# AdaBoostClassifier\n",
        "from sklearn.ensemble import AdaBoostClassifier\n",
        "from sklearn.metrics import accuracy_score\n",
        "\n",
        "kfold = model_selection.KFold(n_splits=10,shuffle=True)\n",
        "abc = AdaBoostClassifier(n_estimators=30,random_state=7)\n",
        "acc = model_selection.cross_val_score(abc,X,y,cv=kfold,scoring=\"accuracy\")\n",
        "print(\"Accuracy of AdaBoostClassifier is  \",acc.mean())"
      ],
      "execution_count": null,
      "outputs": [
        {
          "output_type": "stream",
          "text": [
            "Accuracy of AdaBoostClassifier is   0.7668268584487162\n"
          ],
          "name": "stdout"
        }
      ]
    },
    {
      "cell_type": "code",
      "metadata": {
        "colab": {
          "base_uri": "https://localhost:8080/"
        },
        "id": "5JuN99e_RBWW",
        "outputId": "809e0292-fd68-4abc-cc88-f72fd96b8f68"
      },
      "source": [
        "# XGBoostClassifier\n",
        "from xgboost import XGBClassifier\n",
        "from sklearn.metrics import accuracy_score\n",
        "\n",
        "kfold = model_selection.KFold(n_splits=10,shuffle=True)\n",
        "xg_boost = XGBClassifier()\n",
        "acc = model_selection.cross_val_score(xg_boost,X,y,cv=kfold,scoring=\"accuracy\")\n",
        "print(\"Accuracy of XGBOOST is  \",acc.mean())"
      ],
      "execution_count": null,
      "outputs": [
        {
          "output_type": "stream",
          "text": [
            "Accuracy of XGBOOST is   0.9403985750772954\n"
          ],
          "name": "stdout"
        }
      ]
    },
    {
      "cell_type": "markdown",
      "metadata": {
        "id": "ilTSL-cqRcNh"
      },
      "source": [
        "COMPARING THE ACCURACY -- <BR>\n",
        "Accuracy of Logistic Regression Model  0.6857474122865976 <BR>\n",
        "Accuracy of Random Forest Classifier  is   0.9832101088856028<BR>\n",
        "Accuracy of Random Forest Classifier  with hyperparameter tuning is   0.9797385401263611<BR>\n",
        "Accuracy of SUPPORT VECTOR MACHINE  0.9305719854819197<BR>\n",
        "Accuracy of Gradient Boosting is   0.9826387955370344<BR>\n",
        "Accuracy of AdaBoostClassifier is   0.7668268584487162<BR>\n",
        "Accuracy of XGBOOST is   0.9403985750772954<BR>\n"
      ]
    },
    {
      "cell_type": "markdown",
      "metadata": {
        "id": "vT_wo0pDR61q"
      },
      "source": [
        "THEREFORE THE ACCURACY OF  **RANDOM FOREST CLASSIFIER**  IS THE HIGHEST\n",
        "**0.9832101088856028**"
      ]
    },
    {
      "cell_type": "code",
      "metadata": {
        "id": "tET8spP2RRqp"
      },
      "source": [],
      "execution_count": null,
      "outputs": []
    }
  ]
}