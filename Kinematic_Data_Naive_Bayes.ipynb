{
  "nbformat": 4,
  "nbformat_minor": 0,
  "metadata": {
    "colab": {
      "name": "Kinematic_Data_Naive_Bayes.ipynb",
      "provenance": [],
      "collapsed_sections": [],
      "authorship_tag": "ABX9TyP8UazH+WMCfjW/H2xGAT7Z",
      "include_colab_link": true
    },
    "kernelspec": {
      "name": "python3",
      "display_name": "Python 3"
    },
    "language_info": {
      "name": "python"
    }
  },
  "cells": [
    {
      "cell_type": "markdown",
      "metadata": {
        "id": "view-in-github",
        "colab_type": "text"
      },
      "source": [
        "<a href=\"https://colab.research.google.com/github/Parthsarthi-lab/Machine-Learning-Projects/blob/main/Kinematic_Data_Naive_Bayes.ipynb\" target=\"_parent\"><img src=\"https://colab.research.google.com/assets/colab-badge.svg\" alt=\"Open In Colab\"/></a>"
      ]
    },
    {
      "cell_type": "code",
      "metadata": {
        "colab": {
          "base_uri": "https://localhost:8080/"
        },
        "id": "yPDnR4BmQReX",
        "outputId": "34101b8e-f09d-4d70-e0b9-b2ab03d1b315"
      },
      "source": [
        "from google.colab import drive \n",
        "drive.mount('/content/drive')"
      ],
      "execution_count": null,
      "outputs": [
        {
          "output_type": "stream",
          "text": [
            "Mounted at /content/drive\n"
          ],
          "name": "stdout"
        }
      ]
    },
    {
      "cell_type": "code",
      "metadata": {
        "id": "GEdlhZuZQwK9"
      },
      "source": [
        "import pandas as pd\n",
        "import numpy as  np0\n",
        "import matplotlib.pyplot as plt\n",
        "%matplotlib inline\n",
        "from sklearn.model_selection import train_test_split\n",
        "from sklearn.metrics import accuracy_score,classification_report,confusion_matrix\n"
      ],
      "execution_count": null,
      "outputs": []
    },
    {
      "cell_type": "code",
      "metadata": {
        "colab": {
          "base_uri": "https://localhost:8080/",
          "height": 199
        },
        "id": "Tiz5f2SXR1mb",
        "outputId": "fb6f92a1-aa8e-4f51-8d31-4369bf2c2ca1"
      },
      "source": [
        "df = pd.read_csv(\"/content/drive/MyDrive/Data Science/Lesson end project 6.zip (Unzipped Files)/Lesson 6/run_or_walk.csv\")\n",
        "df.head()"
      ],
      "execution_count": null,
      "outputs": [
        {
          "output_type": "execute_result",
          "data": {
            "text/html": [
              "<div>\n",
              "<style scoped>\n",
              "    .dataframe tbody tr th:only-of-type {\n",
              "        vertical-align: middle;\n",
              "    }\n",
              "\n",
              "    .dataframe tbody tr th {\n",
              "        vertical-align: top;\n",
              "    }\n",
              "\n",
              "    .dataframe thead th {\n",
              "        text-align: right;\n",
              "    }\n",
              "</style>\n",
              "<table border=\"1\" class=\"dataframe\">\n",
              "  <thead>\n",
              "    <tr style=\"text-align: right;\">\n",
              "      <th></th>\n",
              "      <th>date</th>\n",
              "      <th>time</th>\n",
              "      <th>username</th>\n",
              "      <th>wrist</th>\n",
              "      <th>activity</th>\n",
              "      <th>acceleration_x</th>\n",
              "      <th>acceleration_y</th>\n",
              "      <th>acceleration_z</th>\n",
              "      <th>gyro_x</th>\n",
              "      <th>gyro_y</th>\n",
              "      <th>gyro_z</th>\n",
              "    </tr>\n",
              "  </thead>\n",
              "  <tbody>\n",
              "    <tr>\n",
              "      <th>0</th>\n",
              "      <td>2017-6-30</td>\n",
              "      <td>13:51:15:847724020</td>\n",
              "      <td>viktor</td>\n",
              "      <td>0</td>\n",
              "      <td>0</td>\n",
              "      <td>0.2650</td>\n",
              "      <td>-0.7814</td>\n",
              "      <td>-0.0076</td>\n",
              "      <td>-0.0590</td>\n",
              "      <td>0.0325</td>\n",
              "      <td>-2.9296</td>\n",
              "    </tr>\n",
              "    <tr>\n",
              "      <th>1</th>\n",
              "      <td>2017-6-30</td>\n",
              "      <td>13:51:16:246945023</td>\n",
              "      <td>viktor</td>\n",
              "      <td>0</td>\n",
              "      <td>0</td>\n",
              "      <td>0.6722</td>\n",
              "      <td>-1.1233</td>\n",
              "      <td>-0.2344</td>\n",
              "      <td>-0.1757</td>\n",
              "      <td>0.0208</td>\n",
              "      <td>0.1269</td>\n",
              "    </tr>\n",
              "    <tr>\n",
              "      <th>2</th>\n",
              "      <td>2017-6-30</td>\n",
              "      <td>13:51:16:446233987</td>\n",
              "      <td>viktor</td>\n",
              "      <td>0</td>\n",
              "      <td>0</td>\n",
              "      <td>0.4399</td>\n",
              "      <td>-1.4817</td>\n",
              "      <td>0.0722</td>\n",
              "      <td>-0.9105</td>\n",
              "      <td>0.1063</td>\n",
              "      <td>-2.4367</td>\n",
              "    </tr>\n",
              "    <tr>\n",
              "      <th>3</th>\n",
              "      <td>2017-6-30</td>\n",
              "      <td>13:51:16:646117985</td>\n",
              "      <td>viktor</td>\n",
              "      <td>0</td>\n",
              "      <td>0</td>\n",
              "      <td>0.3031</td>\n",
              "      <td>-0.8125</td>\n",
              "      <td>0.0888</td>\n",
              "      <td>0.1199</td>\n",
              "      <td>-0.4099</td>\n",
              "      <td>-2.9336</td>\n",
              "    </tr>\n",
              "    <tr>\n",
              "      <th>4</th>\n",
              "      <td>2017-6-30</td>\n",
              "      <td>13:51:16:846738994</td>\n",
              "      <td>viktor</td>\n",
              "      <td>0</td>\n",
              "      <td>0</td>\n",
              "      <td>0.4814</td>\n",
              "      <td>-0.9312</td>\n",
              "      <td>0.0359</td>\n",
              "      <td>0.0527</td>\n",
              "      <td>0.4379</td>\n",
              "      <td>2.4922</td>\n",
              "    </tr>\n",
              "  </tbody>\n",
              "</table>\n",
              "</div>"
            ],
            "text/plain": [
              "        date                time username  ...  gyro_x  gyro_y  gyro_z\n",
              "0  2017-6-30  13:51:15:847724020   viktor  ... -0.0590  0.0325 -2.9296\n",
              "1  2017-6-30  13:51:16:246945023   viktor  ... -0.1757  0.0208  0.1269\n",
              "2  2017-6-30  13:51:16:446233987   viktor  ... -0.9105  0.1063 -2.4367\n",
              "3  2017-6-30  13:51:16:646117985   viktor  ...  0.1199 -0.4099 -2.9336\n",
              "4  2017-6-30  13:51:16:846738994   viktor  ...  0.0527  0.4379  2.4922\n",
              "\n",
              "[5 rows x 11 columns]"
            ]
          },
          "metadata": {
            "tags": []
          },
          "execution_count": 3
        }
      ]
    },
    {
      "cell_type": "code",
      "metadata": {
        "colab": {
          "base_uri": "https://localhost:8080/"
        },
        "id": "EFBCcTplSBj0",
        "outputId": "795281b0-cbf2-4af7-e741-7e7c5dd3fe0a"
      },
      "source": [
        "# Columns in the dataset\n",
        "df.columns"
      ],
      "execution_count": null,
      "outputs": [
        {
          "output_type": "execute_result",
          "data": {
            "text/plain": [
              "Index(['date', 'time', 'username', 'wrist', 'activity', 'acceleration_x',\n",
              "       'acceleration_y', 'acceleration_z', 'gyro_x', 'gyro_y', 'gyro_z'],\n",
              "      dtype='object')"
            ]
          },
          "metadata": {
            "tags": []
          },
          "execution_count": 4
        }
      ]
    },
    {
      "cell_type": "code",
      "metadata": {
        "colab": {
          "base_uri": "https://localhost:8080/"
        },
        "id": "jmIAtjgRSOXz",
        "outputId": "a88da04c-cfac-45d2-d025-cc80b66a8817"
      },
      "source": [
        "X = df.drop(labels=['date','time','username','wrist','activity'],axis=1).values\n",
        "y = df.activity.values\n",
        "\n",
        "xtrain,xtest,ytrain,ytest = train_test_split(X,y,test_size=0.3,random_state=42)\n",
        "print(xtrain.shape)"
      ],
      "execution_count": null,
      "outputs": [
        {
          "output_type": "stream",
          "text": [
            "(62011, 6)\n"
          ],
          "name": "stdout"
        }
      ]
    },
    {
      "cell_type": "code",
      "metadata": {
        "colab": {
          "base_uri": "https://localhost:8080/"
        },
        "id": "0AfkgDYXSg3T",
        "outputId": "609dc8c3-9674-4fea-cf93-28f891c1d103"
      },
      "source": [
        "# Fitting the naive bayes model\n",
        "from sklearn.naive_bayes import GaussianNB\n",
        "naive_baye = GaussianNB()\n",
        "naive_baye.fit(xtrain,ytrain)\n"
      ],
      "execution_count": null,
      "outputs": [
        {
          "output_type": "execute_result",
          "data": {
            "text/plain": [
              "GaussianNB(priors=None, var_smoothing=1e-09)"
            ]
          },
          "metadata": {
            "tags": []
          },
          "execution_count": 18
        }
      ]
    },
    {
      "cell_type": "code",
      "metadata": {
        "colab": {
          "base_uri": "https://localhost:8080/"
        },
        "id": "jt7u6dxMT1El",
        "outputId": "67a30732-4a70-44ca-f2fc-ca1c41dfe9c5"
      },
      "source": [
        "y_pred = naive_baye.predict(xtest)\n",
        "accuracy_score(ytest,y_pred)"
      ],
      "execution_count": null,
      "outputs": [
        {
          "output_type": "execute_result",
          "data": {
            "text/plain": [
              "0.9575572863754374"
            ]
          },
          "metadata": {
            "tags": []
          },
          "execution_count": 20
        }
      ]
    },
    {
      "cell_type": "markdown",
      "metadata": {
        "id": "iXw_hdwDVwZF"
      },
      "source": [
        "#### MODEL WITH ONLY ACCELARATION VALUES"
      ]
    },
    {
      "cell_type": "code",
      "metadata": {
        "colab": {
          "base_uri": "https://localhost:8080/"
        },
        "id": "FMr4YNmxUghf",
        "outputId": "fb364912-a4cc-45a6-b4b6-a348c6462041"
      },
      "source": [
        "# Fitting the model with only accelarator columns\n",
        "X = df.iloc[:,5:8].values\n",
        "y = df.activity.values\n",
        "xtrain,xtest,ytrain,ytest = train_test_split(X,y,test_size=0.3,random_state=42)\n",
        "print(xtrain.shape)\n",
        "\n",
        "# Fitting the naive bayes model\n",
        "from sklearn.naive_bayes import GaussianNB\n",
        "naive_baye = GaussianNB()\n",
        "naive_baye.fit(xtrain,ytrain)\n",
        "\n",
        "y_pred = naive_baye.predict(xtest)\n",
        "accuracy_score(ytest,y_pred)"
      ],
      "execution_count": null,
      "outputs": [
        {
          "output_type": "stream",
          "text": [
            "(62011, 3)\n"
          ],
          "name": "stdout"
        },
        {
          "output_type": "execute_result",
          "data": {
            "text/plain": [
              "0.958648455431388"
            ]
          },
          "metadata": {
            "tags": []
          },
          "execution_count": 24
        }
      ]
    },
    {
      "cell_type": "markdown",
      "metadata": {
        "id": "vZs2IBTEVxdh"
      },
      "source": [
        "#### MODEL WITH ONLY GYROSCOPE VALUES"
      ]
    },
    {
      "cell_type": "code",
      "metadata": {
        "colab": {
          "base_uri": "https://localhost:8080/"
        },
        "id": "luwo5lGKVaxL",
        "outputId": "742a991b-6fd9-49f7-8786-7fe4f47f16ca"
      },
      "source": [
        "# Fitting the model with only accelarator columns\n",
        "X = df.iloc[:,8:].values\n",
        "y = df.activity.values\n",
        "xtrain,xtest,ytrain,ytest = train_test_split(X,y,test_size=0.3,random_state=42)\n",
        "print(xtrain.shape)\n",
        "\n",
        "# Fitting the naive bayes model\n",
        "from sklearn.naive_bayes import GaussianNB\n",
        "naive_baye = GaussianNB()\n",
        "naive_baye.fit(xtrain,ytrain)\n",
        "\n",
        "y_pred = naive_baye.predict(xtest)\n",
        "accuracy_score(ytest,y_pred)"
      ],
      "execution_count": null,
      "outputs": [
        {
          "output_type": "stream",
          "text": [
            "(62011, 3)\n"
          ],
          "name": "stdout"
        },
        {
          "output_type": "execute_result",
          "data": {
            "text/plain": [
              "0.6525943484968205"
            ]
          },
          "metadata": {
            "tags": []
          },
          "execution_count": 26
        }
      ]
    },
    {
      "cell_type": "markdown",
      "metadata": {
        "id": "VwWcyf51XHDO"
      },
      "source": [
        "![image.png](data:image/png;base64,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)"
      ]
    },
    {
      "cell_type": "markdown",
      "metadata": {
        "id": "_FV3mJs-XWNl"
      },
      "source": [
        "#### Hence the model with only accelaration columns has the highest accuracy among the three columns [0.958648455431388]"
      ]
    },
    {
      "cell_type": "code",
      "metadata": {
        "id": "CQfRO13VV5fX"
      },
      "source": [
        ""
      ],
      "execution_count": null,
      "outputs": []
    }
  ]
}