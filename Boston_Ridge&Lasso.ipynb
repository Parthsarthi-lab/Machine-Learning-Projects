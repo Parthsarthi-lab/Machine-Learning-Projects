{
  "nbformat": 4,
  "nbformat_minor": 0,
  "metadata": {
    "colab": {
      "provenance": [],
      "authorship_tag": "ABX9TyPdQn9ycJopH0Y/uCNJ647y",
      "include_colab_link": true
    },
    "kernelspec": {
      "name": "python3",
      "display_name": "Python 3"
    }
  },
  "cells": [
    {
      "cell_type": "markdown",
      "metadata": {
        "id": "view-in-github",
        "colab_type": "text"
      },
      "source": [
        "<a href=\"https://colab.research.google.com/github/Parthsarthi-lab/Machine-Learning-Projects/blob/main/Boston_Ridge%26Lasso.ipynb\" target=\"_parent\"><img src=\"https://colab.research.google.com/assets/colab-badge.svg\" alt=\"Open In Colab\"/></a>"
      ]
    },
    {
      "cell_type": "code",
      "metadata": {
        "id": "ZVqHqyKnANiS"
      },
      "source": [
        "import numpy as np\n",
        "import pandas as pd\n",
        "import matplotlib.pyplot as plt\n",
        "from sklearn.metrics import mean_squared_error\n",
        "from sklearn.preprocessing import LabelEncoder\n",
        "from sklearn.linear_model import LinearRegression\n",
        "from math import sqrt\n",
        "from sklearn.datasets import load_boston"
      ],
      "execution_count": null,
      "outputs": []
    },
    {
      "cell_type": "code",
      "metadata": {
        "colab": {
          "base_uri": "https://localhost:8080/"
        },
        "id": "z-tDBkCrOffL",
        "outputId": "8f2cd24b-420f-4be3-f561-2f14dd9ed31c"
      },
      "source": [
        "from google.colab import drive\n",
        "drive.mount('/content/drive')"
      ],
      "execution_count": null,
      "outputs": [
        {
          "output_type": "stream",
          "text": [
            "Mounted at /content/drive\n"
          ],
          "name": "stdout"
        }
      ]
    },
    {
      "cell_type": "code",
      "metadata": {
        "colab": {
          "base_uri": "https://localhost:8080/"
        },
        "id": "27AxJLU8Ouhg",
        "outputId": "b29c8067-d7cb-4576-e531-69d1830748df"
      },
      "source": [
        "boston = load_boston()\n",
        "print(boston.DESCR)"
      ],
      "execution_count": null,
      "outputs": [
        {
          "output_type": "stream",
          "text": [
            ".. _boston_dataset:\n",
            "\n",
            "Boston house prices dataset\n",
            "---------------------------\n",
            "\n",
            "**Data Set Characteristics:**  \n",
            "\n",
            "    :Number of Instances: 506 \n",
            "\n",
            "    :Number of Attributes: 13 numeric/categorical predictive. Median Value (attribute 14) is usually the target.\n",
            "\n",
            "    :Attribute Information (in order):\n",
            "        - CRIM     per capita crime rate by town\n",
            "        - ZN       proportion of residential land zoned for lots over 25,000 sq.ft.\n",
            "        - INDUS    proportion of non-retail business acres per town\n",
            "        - CHAS     Charles River dummy variable (= 1 if tract bounds river; 0 otherwise)\n",
            "        - NOX      nitric oxides concentration (parts per 10 million)\n",
            "        - RM       average number of rooms per dwelling\n",
            "        - AGE      proportion of owner-occupied units built prior to 1940\n",
            "        - DIS      weighted distances to five Boston employment centres\n",
            "        - RAD      index of accessibility to radial highways\n",
            "        - TAX      full-value property-tax rate per $10,000\n",
            "        - PTRATIO  pupil-teacher ratio by town\n",
            "        - B        1000(Bk - 0.63)^2 where Bk is the proportion of blacks by town\n",
            "        - LSTAT    % lower status of the population\n",
            "        - MEDV     Median value of owner-occupied homes in $1000's\n",
            "\n",
            "    :Missing Attribute Values: None\n",
            "\n",
            "    :Creator: Harrison, D. and Rubinfeld, D.L.\n",
            "\n",
            "This is a copy of UCI ML housing dataset.\n",
            "https://archive.ics.uci.edu/ml/machine-learning-databases/housing/\n",
            "\n",
            "\n",
            "This dataset was taken from the StatLib library which is maintained at Carnegie Mellon University.\n",
            "\n",
            "The Boston house-price data of Harrison, D. and Rubinfeld, D.L. 'Hedonic\n",
            "prices and the demand for clean air', J. Environ. Economics & Management,\n",
            "vol.5, 81-102, 1978.   Used in Belsley, Kuh & Welsch, 'Regression diagnostics\n",
            "...', Wiley, 1980.   N.B. Various transformations are used in the table on\n",
            "pages 244-261 of the latter.\n",
            "\n",
            "The Boston house-price data has been used in many machine learning papers that address regression\n",
            "problems.   \n",
            "     \n",
            ".. topic:: References\n",
            "\n",
            "   - Belsley, Kuh & Welsch, 'Regression diagnostics: Identifying Influential Data and Sources of Collinearity', Wiley, 1980. 244-261.\n",
            "   - Quinlan,R. (1993). Combining Instance-Based and Model-Based Learning. In Proceedings on the Tenth International Conference of Machine Learning, 236-243, University of Massachusetts, Amherst. Morgan Kaufmann.\n",
            "\n"
          ],
          "name": "stdout"
        }
      ]
    },
    {
      "cell_type": "code",
      "metadata": {
        "colab": {
          "base_uri": "https://localhost:8080/",
          "height": 198
        },
        "id": "rGj6qwajPSlo",
        "outputId": "14819f70-7a7d-4545-8b34-7e52b64b5d14"
      },
      "source": [
        "bos_x = pd.DataFrame(boston.data)\n",
        "bos_y = pd.DataFrame(boston.target)\n",
        "bos = pd.concat([bos_x,bos_y],axis=1)\n",
        "bos.head()"
      ],
      "execution_count": null,
      "outputs": [
        {
          "output_type": "execute_result",
          "data": {
            "text/html": [
              "<div>\n",
              "<style scoped>\n",
              "    .dataframe tbody tr th:only-of-type {\n",
              "        vertical-align: middle;\n",
              "    }\n",
              "\n",
              "    .dataframe tbody tr th {\n",
              "        vertical-align: top;\n",
              "    }\n",
              "\n",
              "    .dataframe thead th {\n",
              "        text-align: right;\n",
              "    }\n",
              "</style>\n",
              "<table border=\"1\" class=\"dataframe\">\n",
              "  <thead>\n",
              "    <tr style=\"text-align: right;\">\n",
              "      <th></th>\n",
              "      <th>0</th>\n",
              "      <th>1</th>\n",
              "      <th>2</th>\n",
              "      <th>3</th>\n",
              "      <th>4</th>\n",
              "      <th>5</th>\n",
              "      <th>6</th>\n",
              "      <th>7</th>\n",
              "      <th>8</th>\n",
              "      <th>9</th>\n",
              "      <th>10</th>\n",
              "      <th>11</th>\n",
              "      <th>12</th>\n",
              "      <th>0</th>\n",
              "    </tr>\n",
              "  </thead>\n",
              "  <tbody>\n",
              "    <tr>\n",
              "      <th>0</th>\n",
              "      <td>0.00632</td>\n",
              "      <td>18.0</td>\n",
              "      <td>2.31</td>\n",
              "      <td>0.0</td>\n",
              "      <td>0.538</td>\n",
              "      <td>6.575</td>\n",
              "      <td>65.2</td>\n",
              "      <td>4.0900</td>\n",
              "      <td>1.0</td>\n",
              "      <td>296.0</td>\n",
              "      <td>15.3</td>\n",
              "      <td>396.90</td>\n",
              "      <td>4.98</td>\n",
              "      <td>24.0</td>\n",
              "    </tr>\n",
              "    <tr>\n",
              "      <th>1</th>\n",
              "      <td>0.02731</td>\n",
              "      <td>0.0</td>\n",
              "      <td>7.07</td>\n",
              "      <td>0.0</td>\n",
              "      <td>0.469</td>\n",
              "      <td>6.421</td>\n",
              "      <td>78.9</td>\n",
              "      <td>4.9671</td>\n",
              "      <td>2.0</td>\n",
              "      <td>242.0</td>\n",
              "      <td>17.8</td>\n",
              "      <td>396.90</td>\n",
              "      <td>9.14</td>\n",
              "      <td>21.6</td>\n",
              "    </tr>\n",
              "    <tr>\n",
              "      <th>2</th>\n",
              "      <td>0.02729</td>\n",
              "      <td>0.0</td>\n",
              "      <td>7.07</td>\n",
              "      <td>0.0</td>\n",
              "      <td>0.469</td>\n",
              "      <td>7.185</td>\n",
              "      <td>61.1</td>\n",
              "      <td>4.9671</td>\n",
              "      <td>2.0</td>\n",
              "      <td>242.0</td>\n",
              "      <td>17.8</td>\n",
              "      <td>392.83</td>\n",
              "      <td>4.03</td>\n",
              "      <td>34.7</td>\n",
              "    </tr>\n",
              "    <tr>\n",
              "      <th>3</th>\n",
              "      <td>0.03237</td>\n",
              "      <td>0.0</td>\n",
              "      <td>2.18</td>\n",
              "      <td>0.0</td>\n",
              "      <td>0.458</td>\n",
              "      <td>6.998</td>\n",
              "      <td>45.8</td>\n",
              "      <td>6.0622</td>\n",
              "      <td>3.0</td>\n",
              "      <td>222.0</td>\n",
              "      <td>18.7</td>\n",
              "      <td>394.63</td>\n",
              "      <td>2.94</td>\n",
              "      <td>33.4</td>\n",
              "    </tr>\n",
              "    <tr>\n",
              "      <th>4</th>\n",
              "      <td>0.06905</td>\n",
              "      <td>0.0</td>\n",
              "      <td>2.18</td>\n",
              "      <td>0.0</td>\n",
              "      <td>0.458</td>\n",
              "      <td>7.147</td>\n",
              "      <td>54.2</td>\n",
              "      <td>6.0622</td>\n",
              "      <td>3.0</td>\n",
              "      <td>222.0</td>\n",
              "      <td>18.7</td>\n",
              "      <td>396.90</td>\n",
              "      <td>5.33</td>\n",
              "      <td>36.2</td>\n",
              "    </tr>\n",
              "  </tbody>\n",
              "</table>\n",
              "</div>"
            ],
            "text/plain": [
              "        0     1     2    3      4      5   ...   8      9     10      11    12    0 \n",
              "0  0.00632  18.0  2.31  0.0  0.538  6.575  ...  1.0  296.0  15.3  396.90  4.98  24.0\n",
              "1  0.02731   0.0  7.07  0.0  0.469  6.421  ...  2.0  242.0  17.8  396.90  9.14  21.6\n",
              "2  0.02729   0.0  7.07  0.0  0.469  7.185  ...  2.0  242.0  17.8  392.83  4.03  34.7\n",
              "3  0.03237   0.0  2.18  0.0  0.458  6.998  ...  3.0  222.0  18.7  394.63  2.94  33.4\n",
              "4  0.06905   0.0  2.18  0.0  0.458  7.147  ...  3.0  222.0  18.7  396.90  5.33  36.2\n",
              "\n",
              "[5 rows x 14 columns]"
            ]
          },
          "metadata": {
            "tags": []
          },
          "execution_count": 6
        }
      ]
    },
    {
      "cell_type": "code",
      "metadata": {
        "colab": {
          "base_uri": "https://localhost:8080/"
        },
        "id": "FmJr2OOPPt9A",
        "outputId": "a9870319-eb40-4b60-989f-74670af4cc1c"
      },
      "source": [
        "boston.feature_names"
      ],
      "execution_count": null,
      "outputs": [
        {
          "output_type": "execute_result",
          "data": {
            "text/plain": [
              "array(['CRIM', 'ZN', 'INDUS', 'CHAS', 'NOX', 'RM', 'AGE', 'DIS', 'RAD',\n",
              "       'TAX', 'PTRATIO', 'B', 'LSTAT'], dtype='<U7')"
            ]
          },
          "metadata": {
            "tags": []
          },
          "execution_count": 7
        }
      ]
    },
    {
      "cell_type": "code",
      "metadata": {
        "colab": {
          "base_uri": "https://localhost:8080/"
        },
        "id": "i3KWbC5OP3I_",
        "outputId": "dacd8bf7-5839-406a-a207-9ed2b3af96f2"
      },
      "source": [
        "bos.columns = ['CRIM', 'ZN', 'INDUS', 'CHAS', 'NOX', 'RM', 'AGE', 'DIS', 'RAD',\n",
        "       'TAX', 'PTRATIO', 'B', 'LSTAT','PRICING']\n",
        "bos.columns"
      ],
      "execution_count": null,
      "outputs": [
        {
          "output_type": "execute_result",
          "data": {
            "text/plain": [
              "Index(['CRIM', 'ZN', 'INDUS', 'CHAS', 'NOX', 'RM', 'AGE', 'DIS', 'RAD', 'TAX',\n",
              "       'PTRATIO', 'B', 'LSTAT', 'PRICING'],\n",
              "      dtype='object')"
            ]
          },
          "metadata": {
            "tags": []
          },
          "execution_count": 8
        }
      ]
    },
    {
      "cell_type": "code",
      "metadata": {
        "id": "EctC_lUkQJlP"
      },
      "source": [
        "x = bos.drop('PRICING',axis=1)\n",
        "y = bos.PRICING"
      ],
      "execution_count": null,
      "outputs": []
    },
    {
      "cell_type": "markdown",
      "metadata": {
        "id": "PU7_WzGDatnd"
      },
      "source": [
        "## I think the best model is of Ridge Regression with high R2 value and slightly higher RMSE"
      ]
    },
    {
      "cell_type": "code",
      "metadata": {
        "id": "tW250QI8Q7LD"
      },
      "source": [
        "from sklearn import model_selection\n",
        "xtrain,xtest,ytrain,ytest = model_selection.train_test_split(x,y,test_size=0.3,random_state=42)\n"
      ],
      "execution_count": null,
      "outputs": []
    },
    {
      "cell_type": "code",
      "metadata": {
        "colab": {
          "base_uri": "https://localhost:8080/"
        },
        "id": "cyRuRVfoRM3H",
        "outputId": "db3e2bdd-a064-41e2-dda8-4afdcab7f3bc"
      },
      "source": [
        "lm = LinearRegression()\n",
        "lm.fit(xtrain,ytrain)\n",
        "print('Coefficients \\n',lm.coef_)\n",
        "print('Intercept:  ',lm.intercept_)\n",
        "print('RMSE :\\t\\t',sqrt(mean_squared_error(ytest,lm.predict(xtest))))\n",
        "list(zip(bos.columns,lm.coef_))"
      ],
      "execution_count": null,
      "outputs": [
        {
          "output_type": "stream",
          "text": [
            "Coefficients \n",
            " [-1.33470103e-01  3.58089136e-02  4.95226452e-02  3.11983512e+00\n",
            " -1.54170609e+01  4.05719923e+00 -1.08208352e-02 -1.38599824e+00\n",
            "  2.42727340e-01 -8.70223437e-03 -9.10685208e-01  1.17941159e-02\n",
            " -5.47113313e-01]\n",
            "Intercept:   31.63108403569163\n",
            "RMSE :\t\t 4.638689926172867\n"
          ],
          "name": "stdout"
        },
        {
          "output_type": "execute_result",
          "data": {
            "text/plain": [
              "[('CRIM', -0.1334701028529461),\n",
              " ('ZN', 0.03580891359323195),\n",
              " ('INDUS', 0.04952264522005543),\n",
              " ('CHAS', 3.119835116285394),\n",
              " ('NOX', -15.417060895306689),\n",
              " ('RM', 4.057199231645403),\n",
              " ('AGE', -0.010820835184926221),\n",
              " ('DIS', -1.3859982431608788),\n",
              " ('RAD', 0.24272733982224926),\n",
              " ('TAX', -0.00870223436566183),\n",
              " ('PTRATIO', -0.9106852081102881),\n",
              " ('B', 0.011794115892575632),\n",
              " ('LSTAT', -0.5471133128239569)]"
            ]
          },
          "metadata": {
            "tags": []
          },
          "execution_count": 26
        }
      ]
    },
    {
      "cell_type": "code",
      "metadata": {
        "colab": {
          "base_uri": "https://localhost:8080/",
          "height": 283
        },
        "id": "YMUZdH7URiVQ",
        "outputId": "536b27aa-67c3-4d3f-8f0d-f6641cb832a8"
      },
      "source": [
        "prediction = lm.predict(xtrain)\n",
        "preds = lm.predict(xtest)\n",
        "\n",
        "plt.plot(ytrain,prediction,color='blue')\n",
        "plt.plot(ytest,preds,color='red')"
      ],
      "execution_count": null,
      "outputs": [
        {
          "output_type": "execute_result",
          "data": {
            "text/plain": [
              "[<matplotlib.lines.Line2D at 0x7f6388dccc88>]"
            ]
          },
          "metadata": {
            "tags": []
          },
          "execution_count": 20
        },
        {
          "output_type": "display_data",
          "data": {
            "image/png": "[encoded data removed]",
            "text/plain": [
              "<Figure size 432x288 with 1 Axes>"
            ]
          },
          "metadata": {
            "tags": [],
            "needs_background": "light"
          }
        }
      ]
    },
    {
      "cell_type": "code",
      "metadata": {
        "colab": {
          "base_uri": "https://localhost:8080/"
        },
        "id": "Q3iCV_iJSeLV",
        "outputId": "c6aa0107-12a3-4fd3-969b-a283bccd5300"
      },
      "source": [
        "# Ridge Regression\n",
        "from sklearn.linear_model import Ridge\n",
        "re = Ridge(alpha=0.001,normalize=True)\n",
        "re.fit(xtrain,ytrain)\n",
        "\n",
        "print('RMSE :\\t\\t',sqrt(mean_squared_error(ytrain,re.predict(xtrain))))\n",
        "print('RMSE :\\t\\t',sqrt(mean_squared_error(ytest,re.predict(xtest))))\n",
        "print('R2 SCORE : {}'.format(re.score(xtest,ytest)))\n",
        "print()\n",
        "list(zip(bos.columns,re.coef_))"
      ],
      "execution_count": null,
      "outputs": [
        {
          "output_type": "stream",
          "text": [
            "RMSE :\t\t 4.748229167712649\n",
            "RMSE :\t\t 4.639881960030266\n",
            "R2 SCORE : 0.7110775704734211\n",
            "\n"
          ],
          "name": "stdout"
        },
        {
          "output_type": "execute_result",
          "data": {
            "text/plain": [
              "[('CRIM', -0.13293095143443087),\n",
              " ('ZN', 0.035484221870994925),\n",
              " ('INDUS', 0.048001232557285216),\n",
              " ('CHAS', 3.127579829800183),\n",
              " ('NOX', -15.304785915319183),\n",
              " ('RM', 4.060286768928031),\n",
              " ('AGE', -0.01085637780952374),\n",
              " ('DIS', -1.379225685316827),\n",
              " ('RAD', 0.23929865107586262),\n",
              " ('TAX', -0.008546440328902649),\n",
              " ('PTRATIO', -0.908903209304222),\n",
              " ('B', 0.01178265911380543),\n",
              " ('LSTAT', -0.5463796558648037)]"
            ]
          },
          "metadata": {
            "tags": []
          },
          "execution_count": 28
        }
      ]
    },
    {
      "cell_type": "code",
      "metadata": {
        "colab": {
          "base_uri": "https://localhost:8080/"
        },
        "id": "RBjfeGepT6YG",
        "outputId": "d06a9d93-76f1-460c-ccef-85cccc6f8a8c"
      },
      "source": [
        "# Lasso Regression\n",
        "from sklearn.linear_model import Lasso\n",
        "la = Lasso(alpha=0.001,normalize=True)\n",
        "la.fit(xtrain,ytrain)\n",
        "\n",
        "print('RMSE :\\t\\t',sqrt(mean_squared_error(ytrain,la.predict(xtrain))))\n",
        "print('RMSE :\\t\\t',sqrt(mean_squared_error(ytest,la.predict(xtest))))\n",
        "print('R2 SCORE : {}'.format(la.score(xtest,ytest)))\n",
        "print()\n",
        "list(zip(bos.columns,la.coef_))"
      ],
      "execution_count": null,
      "outputs": [
        {
          "output_type": "stream",
          "text": [
            "RMSE :\t\t 4.750900452460059\n",
            "RMSE :\t\t 4.650355164208201\n",
            "R2 SCORE : 0.7097717791957663\n",
            "\n"
          ],
          "name": "stdout"
        },
        {
          "output_type": "execute_result",
          "data": {
            "text/plain": [
              "[('CRIM', -0.1265465631296469),\n",
              " ('ZN', 0.03162929101056302),\n",
              " ('INDUS', 0.02367002518659898),\n",
              " ('CHAS', 3.152913571838332),\n",
              " ('NOX', -14.288127479538577),\n",
              " ('RM', 4.0650426722638215),\n",
              " ('AGE', -0.009548513274010672),\n",
              " ('DIS', -1.3235625663474062),\n",
              " ('RAD', 0.20303366215157068),\n",
              " ('TAX', -0.006685635388838494),\n",
              " ('PTRATIO', -0.8937554288932613),\n",
              " ('B', 0.011517293820193956),\n",
              " ('LSTAT', -0.5474593242838064)]"
            ]
          },
          "metadata": {
            "tags": []
          },
          "execution_count": 29
        }
      ]
    },
    {
      "cell_type": "code",
      "metadata": {
        "colab": {
          "base_uri": "https://localhost:8080/"
        },
        "id": "Rv6q_w3KULyA",
        "outputId": "86f7f599-140a-4d9b-a6f5-542f8c8fdc8c"
      },
      "source": [
        "# ElasticNet Regression\n",
        "from sklearn.linear_model import ElasticNet\n",
        "el = ElasticNet(alpha=0.001,normalize=True)\n",
        "el.fit(xtrain,ytrain)\n",
        "\n",
        "print('RMSE :\\t\\t',sqrt(mean_squared_error(ytrain,el.predict(xtrain))))\n",
        "print('RMSE :\\t\\t',sqrt(mean_squared_error(ytest,el.predict(xtest))))\n",
        "print('R2 SCORE : {}'.format(el.score(xtest,ytest)))\n",
        "print()\n",
        "list(zip(bos.columns,el.coef_))"
      ],
      "execution_count": null,
      "outputs": [
        {
          "output_type": "stream",
          "text": [
            "RMSE :\t\t 4.889469204050735\n",
            "RMSE :\t\t 4.790286847734995\n",
            "R2 SCORE : 0.6920427488791856\n",
            "\n"
          ],
          "name": "stdout"
        },
        {
          "output_type": "execute_result",
          "data": {
            "text/plain": [
              "[('CRIM', -0.09397880393246212),\n",
              " ('ZN', 0.016980828011418616),\n",
              " ('INDUS', -0.028439479772166817),\n",
              " ('CHAS', 3.4872484757839026),\n",
              " ('NOX', -6.9366823050359185),\n",
              " ('RM', 4.021852568909858),\n",
              " ('AGE', -0.010556739059399),\n",
              " ('DIS', -0.7578205474769022),\n",
              " ('RAD', 0.05790521657489143),\n",
              " ('TAX', -0.002418160353774964),\n",
              " ('PTRATIO', -0.7401079050314077),\n",
              " ('B', 0.01022225259162555),\n",
              " ('LSTAT', -0.45401171664327034)]"
            ]
          },
          "metadata": {
            "tags": []
          },
          "execution_count": 30
        }
      ]
    },
    {
      "cell_type": "code",
      "metadata": {
        "colab": {
          "base_uri": "https://localhost:8080/"
        },
        "id": "R_pOUkxAUWVg",
        "outputId": "954ba875-d299-49b7-e43f-d5e542a8ee1e"
      },
      "source": [
        "if(lm.score(xtest,ytest)>re.score(xtest,ytest)):\n",
        "    print('YES')\n",
        "else:\n",
        "    print('NO')\n"
      ],
      "execution_count": null,
      "outputs": [
        {
          "output_type": "stream",
          "text": [
            "YES\n"
          ],
          "name": "stdout"
        }
      ]
    },
    {
      "cell_type": "code",
      "metadata": {
        "colab": {
          "base_uri": "https://localhost:8080/"
        },
        "id": "7buw5vntVz-s",
        "outputId": "7de2f894-1746-45d8-da7a-9c50d685ac1f"
      },
      "source": [
        "if(sqrt(mean_squared_error(ytest,re.predict(xtest))) > sqrt(mean_squared_error(ytest,lm.predict(xtest)))):\n",
        "    print('YES')\n",
        "elif(sqrt(mean_squared_error(ytest,re.predict(xtest))) > sqrt(mean_squared_error(ytest,la.predict(xtest)))):\n",
        "    print('NO')\n",
        "elif(sqrt(mean_squared_error(ytest,re.predict(xtest))) > sqrt(mean_squared_error(ytest,el.predict(xtest)))):\n",
        "  print('AH!')\n",
        "else:\n",
        "  print('You dont undersatnd ')"
      ],
      "execution_count": null,
      "outputs": [
        {
          "output_type": "stream",
          "text": [
            "YES\n"
          ],
          "name": "stdout"
        }
      ]
    },
    {
      "cell_type": "code",
      "metadata": {
        "colab": {
          "base_uri": "https://localhost:8080/"
        },
        "id": "D_bdxe8IWixm",
        "outputId": "55ab685d-cb0b-465f-d704-5bc02c483f90"
      },
      "source": [
        "if(sqrt(mean_squared_error(ytest,la.predict(xtest))) < sqrt(mean_squared_error(ytest,lm.predict(xtest)))):\n",
        "    print('YES')\n",
        "elif(sqrt(mean_squared_error(ytest,la.predict(xtest))) < sqrt(mean_squared_error(ytest,re.predict(xtest)))):\n",
        "    print('NO')\n",
        "elif(sqrt(mean_squared_error(ytest,la.predict(xtest))) > sqrt(mean_squared_error(ytest,el.predict(xtest)))):\n",
        "  print('AH!')\n",
        "else:\n",
        "  print('You dont undersatnd ')"
      ],
      "execution_count": null,
      "outputs": [
        {
          "output_type": "stream",
          "text": [
            "You dont undersatnd \n"
          ],
          "name": "stdout"
        }
      ]
    },
    {
      "cell_type": "code",
      "metadata": {
        "id": "hdJQRfHgawZ0"
      },
      "source": [],
      "execution_count": null,
      "outputs": []
    }
  ]
}