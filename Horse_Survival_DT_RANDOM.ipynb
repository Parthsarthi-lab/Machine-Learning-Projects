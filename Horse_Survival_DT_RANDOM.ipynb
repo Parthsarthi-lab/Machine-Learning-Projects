{
  "nbformat": 4,
  "nbformat_minor": 0,
  "metadata": {
    "colab": {
      "provenance": [],
      "authorship_tag": "ABX9TyO98KnLgZ1xnfybs1HHQ6ey",
      "include_colab_link": true
    },
    "kernelspec": {
      "name": "python3",
      "display_name": "Python 3"
    },
    "language_info": {
      "name": "python"
    }
  },
  "cells": [
    {
      "cell_type": "markdown",
      "metadata": {
        "id": "view-in-github",
        "colab_type": "text"
      },
      "source": [
        "<a href=\"https://colab.research.google.com/github/Parthsarthi-lab/Machine-Learning-Projects/blob/main/Horse_Survival_DT_RANDOM.ipynb\" target=\"_parent\"><img src=\"https://colab.research.google.com/assets/colab-badge.svg\" alt=\"Open In Colab\"/></a>"
      ]
    },
    {
      "cell_type": "code",
      "metadata": {
        "colab": {
          "base_uri": "https://localhost:8080/"
        },
        "id": "C8QVooKDnqH1",
        "outputId": "110090c8-12c5-4c19-9b39-8e83df62384f"
      },
      "source": [
        "from google.colab import drive\n",
        "drive.mount('/content/drive')"
      ],
      "execution_count": null,
      "outputs": [
        {
          "output_type": "stream",
          "text": [
            "Mounted at /content/drive\n"
          ],
          "name": "stdout"
        }
      ]
    },
    {
      "cell_type": "code",
      "metadata": {
        "id": "2ZeLjCMdoznr"
      },
      "source": [
        "import pandas as pd\n",
        "import matplotlib.pyplot as plt\n",
        "%matplotlib inline"
      ],
      "execution_count": null,
      "outputs": []
    },
    {
      "cell_type": "code",
      "metadata": {
        "colab": {
          "base_uri": "https://localhost:8080/",
          "height": 219
        },
        "id": "rAxMHhcrpCqs",
        "outputId": "c54f97fb-4532-4ae1-ea52-73512f190336"
      },
      "source": [
        "animals = pd.read_csv(\"/content/drive/MyDrive/Datasets/PYTHON/horse.csv\")\n",
        "animals.head()"
      ],
      "execution_count": null,
      "outputs": [
        {
          "output_type": "execute_result",
          "data": {
            "text/html": [
              "<div>\n",
              "<style scoped>\n",
              "    .dataframe tbody tr th:only-of-type {\n",
              "        vertical-align: middle;\n",
              "    }\n",
              "\n",
              "    .dataframe tbody tr th {\n",
              "        vertical-align: top;\n",
              "    }\n",
              "\n",
              "    .dataframe thead th {\n",
              "        text-align: right;\n",
              "    }\n",
              "</style>\n",
              "<table border=\"1\" class=\"dataframe\">\n",
              "  <thead>\n",
              "    <tr style=\"text-align: right;\">\n",
              "      <th></th>\n",
              "      <th>surgery</th>\n",
              "      <th>age</th>\n",
              "      <th>hospital_number</th>\n",
              "      <th>rectal_temp</th>\n",
              "      <th>pulse</th>\n",
              "      <th>respiratory_rate</th>\n",
              "      <th>temp_of_extremities</th>\n",
              "      <th>peripheral_pulse</th>\n",
              "      <th>mucous_membrane</th>\n",
              "      <th>capillary_refill_time</th>\n",
              "      <th>pain</th>\n",
              "      <th>peristalsis</th>\n",
              "      <th>abdominal_distention</th>\n",
              "      <th>nasogastric_tube</th>\n",
              "      <th>nasogastric_reflux</th>\n",
              "      <th>nasogastric_reflux_ph</th>\n",
              "      <th>rectal_exam_feces</th>\n",
              "      <th>abdomen</th>\n",
              "      <th>packed_cell_volume</th>\n",
              "      <th>total_protein</th>\n",
              "      <th>abdomo_appearance</th>\n",
              "      <th>abdomo_protein</th>\n",
              "      <th>outcome</th>\n",
              "      <th>surgical_lesion</th>\n",
              "      <th>lesion_1</th>\n",
              "      <th>lesion_2</th>\n",
              "      <th>lesion_3</th>\n",
              "      <th>cp_data</th>\n",
              "    </tr>\n",
              "  </thead>\n",
              "  <tbody>\n",
              "    <tr>\n",
              "      <th>0</th>\n",
              "      <td>no</td>\n",
              "      <td>adult</td>\n",
              "      <td>530101</td>\n",
              "      <td>38.5</td>\n",
              "      <td>66.0</td>\n",
              "      <td>28.0</td>\n",
              "      <td>cool</td>\n",
              "      <td>reduced</td>\n",
              "      <td>NaN</td>\n",
              "      <td>more_3_sec</td>\n",
              "      <td>extreme_pain</td>\n",
              "      <td>absent</td>\n",
              "      <td>severe</td>\n",
              "      <td>NaN</td>\n",
              "      <td>NaN</td>\n",
              "      <td>NaN</td>\n",
              "      <td>decreased</td>\n",
              "      <td>distend_large</td>\n",
              "      <td>45.0</td>\n",
              "      <td>8.4</td>\n",
              "      <td>NaN</td>\n",
              "      <td>NaN</td>\n",
              "      <td>died</td>\n",
              "      <td>no</td>\n",
              "      <td>11300</td>\n",
              "      <td>0</td>\n",
              "      <td>0</td>\n",
              "      <td>no</td>\n",
              "    </tr>\n",
              "    <tr>\n",
              "      <th>1</th>\n",
              "      <td>yes</td>\n",
              "      <td>adult</td>\n",
              "      <td>534817</td>\n",
              "      <td>39.2</td>\n",
              "      <td>88.0</td>\n",
              "      <td>20.0</td>\n",
              "      <td>NaN</td>\n",
              "      <td>NaN</td>\n",
              "      <td>pale_cyanotic</td>\n",
              "      <td>less_3_sec</td>\n",
              "      <td>mild_pain</td>\n",
              "      <td>absent</td>\n",
              "      <td>slight</td>\n",
              "      <td>NaN</td>\n",
              "      <td>NaN</td>\n",
              "      <td>NaN</td>\n",
              "      <td>absent</td>\n",
              "      <td>other</td>\n",
              "      <td>50.0</td>\n",
              "      <td>85.0</td>\n",
              "      <td>cloudy</td>\n",
              "      <td>2.0</td>\n",
              "      <td>euthanized</td>\n",
              "      <td>no</td>\n",
              "      <td>2208</td>\n",
              "      <td>0</td>\n",
              "      <td>0</td>\n",
              "      <td>no</td>\n",
              "    </tr>\n",
              "    <tr>\n",
              "      <th>2</th>\n",
              "      <td>no</td>\n",
              "      <td>adult</td>\n",
              "      <td>530334</td>\n",
              "      <td>38.3</td>\n",
              "      <td>40.0</td>\n",
              "      <td>24.0</td>\n",
              "      <td>normal</td>\n",
              "      <td>normal</td>\n",
              "      <td>pale_pink</td>\n",
              "      <td>less_3_sec</td>\n",
              "      <td>mild_pain</td>\n",
              "      <td>hypomotile</td>\n",
              "      <td>none</td>\n",
              "      <td>NaN</td>\n",
              "      <td>NaN</td>\n",
              "      <td>NaN</td>\n",
              "      <td>normal</td>\n",
              "      <td>normal</td>\n",
              "      <td>33.0</td>\n",
              "      <td>6.7</td>\n",
              "      <td>NaN</td>\n",
              "      <td>NaN</td>\n",
              "      <td>lived</td>\n",
              "      <td>no</td>\n",
              "      <td>0</td>\n",
              "      <td>0</td>\n",
              "      <td>0</td>\n",
              "      <td>yes</td>\n",
              "    </tr>\n",
              "    <tr>\n",
              "      <th>3</th>\n",
              "      <td>yes</td>\n",
              "      <td>young</td>\n",
              "      <td>5290409</td>\n",
              "      <td>39.1</td>\n",
              "      <td>164.0</td>\n",
              "      <td>84.0</td>\n",
              "      <td>cold</td>\n",
              "      <td>normal</td>\n",
              "      <td>dark_cyanotic</td>\n",
              "      <td>more_3_sec</td>\n",
              "      <td>depressed</td>\n",
              "      <td>absent</td>\n",
              "      <td>severe</td>\n",
              "      <td>none</td>\n",
              "      <td>less_1_liter</td>\n",
              "      <td>5.0</td>\n",
              "      <td>decreased</td>\n",
              "      <td>NaN</td>\n",
              "      <td>48.0</td>\n",
              "      <td>7.2</td>\n",
              "      <td>serosanguious</td>\n",
              "      <td>5.3</td>\n",
              "      <td>died</td>\n",
              "      <td>yes</td>\n",
              "      <td>2208</td>\n",
              "      <td>0</td>\n",
              "      <td>0</td>\n",
              "      <td>yes</td>\n",
              "    </tr>\n",
              "    <tr>\n",
              "      <th>4</th>\n",
              "      <td>no</td>\n",
              "      <td>adult</td>\n",
              "      <td>530255</td>\n",
              "      <td>37.3</td>\n",
              "      <td>104.0</td>\n",
              "      <td>35.0</td>\n",
              "      <td>NaN</td>\n",
              "      <td>NaN</td>\n",
              "      <td>dark_cyanotic</td>\n",
              "      <td>more_3_sec</td>\n",
              "      <td>NaN</td>\n",
              "      <td>NaN</td>\n",
              "      <td>NaN</td>\n",
              "      <td>NaN</td>\n",
              "      <td>NaN</td>\n",
              "      <td>NaN</td>\n",
              "      <td>NaN</td>\n",
              "      <td>NaN</td>\n",
              "      <td>74.0</td>\n",
              "      <td>7.4</td>\n",
              "      <td>NaN</td>\n",
              "      <td>NaN</td>\n",
              "      <td>died</td>\n",
              "      <td>no</td>\n",
              "      <td>4300</td>\n",
              "      <td>0</td>\n",
              "      <td>0</td>\n",
              "      <td>no</td>\n",
              "    </tr>\n",
              "  </tbody>\n",
              "</table>\n",
              "</div>"
            ],
            "text/plain": [
              "  surgery    age  hospital_number  ...  lesion_2  lesion_3  cp_data\n",
              "0      no  adult           530101  ...         0         0       no\n",
              "1     yes  adult           534817  ...         0         0       no\n",
              "2      no  adult           530334  ...         0         0      yes\n",
              "3     yes  young          5290409  ...         0         0      yes\n",
              "4      no  adult           530255  ...         0         0       no\n",
              "\n",
              "[5 rows x 28 columns]"
            ]
          },
          "metadata": {
            "tags": []
          },
          "execution_count": 4
        }
      ]
    },
    {
      "cell_type": "code",
      "metadata": {
        "id": "7qEznOOLpMLs"
      },
      "source": [
        "target = animals['outcome']"
      ],
      "execution_count": null,
      "outputs": []
    },
    {
      "cell_type": "code",
      "metadata": {
        "colab": {
          "base_uri": "https://localhost:8080/"
        },
        "id": "rTJY8wwTp20l",
        "outputId": "372445d3-f245-4ddf-8769-2c6fd0da6707"
      },
      "source": [
        "target.unique()"
      ],
      "execution_count": null,
      "outputs": [
        {
          "output_type": "execute_result",
          "data": {
            "text/plain": [
              "array(['died', 'euthanized', 'lived'], dtype=object)"
            ]
          },
          "metadata": {
            "tags": []
          },
          "execution_count": 6
        }
      ]
    },
    {
      "cell_type": "code",
      "metadata": {
        "id": "kGoI5XZHp4ip"
      },
      "source": [
        "animals.drop(labels=['outcome'],axis=1,inplace=True)"
      ],
      "execution_count": null,
      "outputs": []
    },
    {
      "cell_type": "code",
      "metadata": {
        "colab": {
          "base_uri": "https://localhost:8080/"
        },
        "id": "A4CngVZwqK19",
        "outputId": "0fd9ca1a-e6cd-4be0-a721-ea3ef448c77a"
      },
      "source": [
        "# Checking the datatypes of the columns\n",
        "animals.dtypes"
      ],
      "execution_count": null,
      "outputs": [
        {
          "output_type": "execute_result",
          "data": {
            "text/plain": [
              "surgery                   object\n",
              "age                       object\n",
              "hospital_number            int64\n",
              "rectal_temp              float64\n",
              "pulse                    float64\n",
              "respiratory_rate         float64\n",
              "temp_of_extremities       object\n",
              "peripheral_pulse          object\n",
              "mucous_membrane           object\n",
              "capillary_refill_time     object\n",
              "pain                      object\n",
              "peristalsis               object\n",
              "abdominal_distention      object\n",
              "nasogastric_tube          object\n",
              "nasogastric_reflux        object\n",
              "nasogastric_reflux_ph    float64\n",
              "rectal_exam_feces         object\n",
              "abdomen                   object\n",
              "packed_cell_volume       float64\n",
              "total_protein            float64\n",
              "abdomo_appearance         object\n",
              "abdomo_protein           float64\n",
              "surgical_lesion           object\n",
              "lesion_1                   int64\n",
              "lesion_2                   int64\n",
              "lesion_3                   int64\n",
              "cp_data                   object\n",
              "dtype: object"
            ]
          },
          "metadata": {
            "tags": []
          },
          "execution_count": 8
        }
      ]
    },
    {
      "cell_type": "code",
      "metadata": {
        "id": "BEZHqKTlqqy-"
      },
      "source": [
        "# Storing all the categorical variables in a list\n",
        "category_var = ['surgery','age','temp_of_extremities','peripheral_pulse','mucous_membrane','capillary_refill_time','pain','peristalsis',\n",
        "                'abdominal_distention','nasogastric_tube','nasogastric_reflux','rectal_exam_feces','abdomen','abdomo_appearance','surgical_lesion','cp_data']\n",
        "\n",
        "for category in category_var:\n",
        "  animals[category] = pd.get_dummies(animals[category])"
      ],
      "execution_count": null,
      "outputs": []
    },
    {
      "cell_type": "code",
      "metadata": {
        "colab": {
          "base_uri": "https://localhost:8080/",
          "height": 427
        },
        "id": "pmPwgrDusPBp",
        "outputId": "eaade4a6-977f-4139-917d-c05f7809a088"
      },
      "source": [
        "animals"
      ],
      "execution_count": null,
      "outputs": [
        {
          "output_type": "execute_result",
          "data": {
            "text/html": [
              "<div>\n",
              "<style scoped>\n",
              "    .dataframe tbody tr th:only-of-type {\n",
              "        vertical-align: middle;\n",
              "    }\n",
              "\n",
              "    .dataframe tbody tr th {\n",
              "        vertical-align: top;\n",
              "    }\n",
              "\n",
              "    .dataframe thead th {\n",
              "        text-align: right;\n",
              "    }\n",
              "</style>\n",
              "<table border=\"1\" class=\"dataframe\">\n",
              "  <thead>\n",
              "    <tr style=\"text-align: right;\">\n",
              "      <th></th>\n",
              "      <th>surgery</th>\n",
              "      <th>age</th>\n",
              "      <th>hospital_number</th>\n",
              "      <th>rectal_temp</th>\n",
              "      <th>pulse</th>\n",
              "      <th>respiratory_rate</th>\n",
              "      <th>temp_of_extremities</th>\n",
              "      <th>peripheral_pulse</th>\n",
              "      <th>mucous_membrane</th>\n",
              "      <th>capillary_refill_time</th>\n",
              "      <th>pain</th>\n",
              "      <th>peristalsis</th>\n",
              "      <th>abdominal_distention</th>\n",
              "      <th>nasogastric_tube</th>\n",
              "      <th>nasogastric_reflux</th>\n",
              "      <th>nasogastric_reflux_ph</th>\n",
              "      <th>rectal_exam_feces</th>\n",
              "      <th>abdomen</th>\n",
              "      <th>packed_cell_volume</th>\n",
              "      <th>total_protein</th>\n",
              "      <th>abdomo_appearance</th>\n",
              "      <th>abdomo_protein</th>\n",
              "      <th>surgical_lesion</th>\n",
              "      <th>lesion_1</th>\n",
              "      <th>lesion_2</th>\n",
              "      <th>lesion_3</th>\n",
              "      <th>cp_data</th>\n",
              "    </tr>\n",
              "  </thead>\n",
              "  <tbody>\n",
              "    <tr>\n",
              "      <th>0</th>\n",
              "      <td>1</td>\n",
              "      <td>1</td>\n",
              "      <td>530101</td>\n",
              "      <td>38.5</td>\n",
              "      <td>66.0</td>\n",
              "      <td>28.0</td>\n",
              "      <td>0</td>\n",
              "      <td>0</td>\n",
              "      <td>0</td>\n",
              "      <td>0</td>\n",
              "      <td>0</td>\n",
              "      <td>1</td>\n",
              "      <td>0</td>\n",
              "      <td>0</td>\n",
              "      <td>0</td>\n",
              "      <td>NaN</td>\n",
              "      <td>0</td>\n",
              "      <td>1</td>\n",
              "      <td>45.0</td>\n",
              "      <td>8.4</td>\n",
              "      <td>0</td>\n",
              "      <td>NaN</td>\n",
              "      <td>1</td>\n",
              "      <td>11300</td>\n",
              "      <td>0</td>\n",
              "      <td>0</td>\n",
              "      <td>1</td>\n",
              "    </tr>\n",
              "    <tr>\n",
              "      <th>1</th>\n",
              "      <td>0</td>\n",
              "      <td>1</td>\n",
              "      <td>534817</td>\n",
              "      <td>39.2</td>\n",
              "      <td>88.0</td>\n",
              "      <td>20.0</td>\n",
              "      <td>0</td>\n",
              "      <td>0</td>\n",
              "      <td>0</td>\n",
              "      <td>0</td>\n",
              "      <td>0</td>\n",
              "      <td>1</td>\n",
              "      <td>0</td>\n",
              "      <td>0</td>\n",
              "      <td>0</td>\n",
              "      <td>NaN</td>\n",
              "      <td>1</td>\n",
              "      <td>0</td>\n",
              "      <td>50.0</td>\n",
              "      <td>85.0</td>\n",
              "      <td>0</td>\n",
              "      <td>2.0</td>\n",
              "      <td>1</td>\n",
              "      <td>2208</td>\n",
              "      <td>0</td>\n",
              "      <td>0</td>\n",
              "      <td>1</td>\n",
              "    </tr>\n",
              "    <tr>\n",
              "      <th>2</th>\n",
              "      <td>1</td>\n",
              "      <td>1</td>\n",
              "      <td>530334</td>\n",
              "      <td>38.3</td>\n",
              "      <td>40.0</td>\n",
              "      <td>24.0</td>\n",
              "      <td>0</td>\n",
              "      <td>0</td>\n",
              "      <td>0</td>\n",
              "      <td>0</td>\n",
              "      <td>0</td>\n",
              "      <td>0</td>\n",
              "      <td>0</td>\n",
              "      <td>0</td>\n",
              "      <td>0</td>\n",
              "      <td>NaN</td>\n",
              "      <td>0</td>\n",
              "      <td>0</td>\n",
              "      <td>33.0</td>\n",
              "      <td>6.7</td>\n",
              "      <td>0</td>\n",
              "      <td>NaN</td>\n",
              "      <td>1</td>\n",
              "      <td>0</td>\n",
              "      <td>0</td>\n",
              "      <td>0</td>\n",
              "      <td>0</td>\n",
              "    </tr>\n",
              "    <tr>\n",
              "      <th>3</th>\n",
              "      <td>0</td>\n",
              "      <td>0</td>\n",
              "      <td>5290409</td>\n",
              "      <td>39.1</td>\n",
              "      <td>164.0</td>\n",
              "      <td>84.0</td>\n",
              "      <td>1</td>\n",
              "      <td>0</td>\n",
              "      <td>0</td>\n",
              "      <td>0</td>\n",
              "      <td>0</td>\n",
              "      <td>1</td>\n",
              "      <td>0</td>\n",
              "      <td>1</td>\n",
              "      <td>1</td>\n",
              "      <td>5.0</td>\n",
              "      <td>0</td>\n",
              "      <td>0</td>\n",
              "      <td>48.0</td>\n",
              "      <td>7.2</td>\n",
              "      <td>0</td>\n",
              "      <td>5.3</td>\n",
              "      <td>0</td>\n",
              "      <td>2208</td>\n",
              "      <td>0</td>\n",
              "      <td>0</td>\n",
              "      <td>0</td>\n",
              "    </tr>\n",
              "    <tr>\n",
              "      <th>4</th>\n",
              "      <td>1</td>\n",
              "      <td>1</td>\n",
              "      <td>530255</td>\n",
              "      <td>37.3</td>\n",
              "      <td>104.0</td>\n",
              "      <td>35.0</td>\n",
              "      <td>0</td>\n",
              "      <td>0</td>\n",
              "      <td>0</td>\n",
              "      <td>0</td>\n",
              "      <td>0</td>\n",
              "      <td>0</td>\n",
              "      <td>0</td>\n",
              "      <td>0</td>\n",
              "      <td>0</td>\n",
              "      <td>NaN</td>\n",
              "      <td>0</td>\n",
              "      <td>0</td>\n",
              "      <td>74.0</td>\n",
              "      <td>7.4</td>\n",
              "      <td>0</td>\n",
              "      <td>NaN</td>\n",
              "      <td>1</td>\n",
              "      <td>4300</td>\n",
              "      <td>0</td>\n",
              "      <td>0</td>\n",
              "      <td>1</td>\n",
              "    </tr>\n",
              "    <tr>\n",
              "      <th>...</th>\n",
              "      <td>...</td>\n",
              "      <td>...</td>\n",
              "      <td>...</td>\n",
              "      <td>...</td>\n",
              "      <td>...</td>\n",
              "      <td>...</td>\n",
              "      <td>...</td>\n",
              "      <td>...</td>\n",
              "      <td>...</td>\n",
              "      <td>...</td>\n",
              "      <td>...</td>\n",
              "      <td>...</td>\n",
              "      <td>...</td>\n",
              "      <td>...</td>\n",
              "      <td>...</td>\n",
              "      <td>...</td>\n",
              "      <td>...</td>\n",
              "      <td>...</td>\n",
              "      <td>...</td>\n",
              "      <td>...</td>\n",
              "      <td>...</td>\n",
              "      <td>...</td>\n",
              "      <td>...</td>\n",
              "      <td>...</td>\n",
              "      <td>...</td>\n",
              "      <td>...</td>\n",
              "      <td>...</td>\n",
              "    </tr>\n",
              "    <tr>\n",
              "      <th>294</th>\n",
              "      <td>0</td>\n",
              "      <td>1</td>\n",
              "      <td>533886</td>\n",
              "      <td>NaN</td>\n",
              "      <td>120.0</td>\n",
              "      <td>70.0</td>\n",
              "      <td>1</td>\n",
              "      <td>0</td>\n",
              "      <td>0</td>\n",
              "      <td>0</td>\n",
              "      <td>0</td>\n",
              "      <td>1</td>\n",
              "      <td>0</td>\n",
              "      <td>0</td>\n",
              "      <td>0</td>\n",
              "      <td>NaN</td>\n",
              "      <td>0</td>\n",
              "      <td>1</td>\n",
              "      <td>55.0</td>\n",
              "      <td>65.0</td>\n",
              "      <td>0</td>\n",
              "      <td>NaN</td>\n",
              "      <td>1</td>\n",
              "      <td>3205</td>\n",
              "      <td>0</td>\n",
              "      <td>0</td>\n",
              "      <td>1</td>\n",
              "    </tr>\n",
              "    <tr>\n",
              "      <th>295</th>\n",
              "      <td>1</td>\n",
              "      <td>1</td>\n",
              "      <td>527702</td>\n",
              "      <td>37.2</td>\n",
              "      <td>72.0</td>\n",
              "      <td>24.0</td>\n",
              "      <td>0</td>\n",
              "      <td>0</td>\n",
              "      <td>0</td>\n",
              "      <td>0</td>\n",
              "      <td>0</td>\n",
              "      <td>0</td>\n",
              "      <td>1</td>\n",
              "      <td>0</td>\n",
              "      <td>0</td>\n",
              "      <td>NaN</td>\n",
              "      <td>1</td>\n",
              "      <td>0</td>\n",
              "      <td>44.0</td>\n",
              "      <td>NaN</td>\n",
              "      <td>0</td>\n",
              "      <td>3.3</td>\n",
              "      <td>0</td>\n",
              "      <td>2208</td>\n",
              "      <td>0</td>\n",
              "      <td>0</td>\n",
              "      <td>0</td>\n",
              "    </tr>\n",
              "    <tr>\n",
              "      <th>296</th>\n",
              "      <td>0</td>\n",
              "      <td>1</td>\n",
              "      <td>529386</td>\n",
              "      <td>37.5</td>\n",
              "      <td>72.0</td>\n",
              "      <td>30.0</td>\n",
              "      <td>1</td>\n",
              "      <td>0</td>\n",
              "      <td>0</td>\n",
              "      <td>0</td>\n",
              "      <td>0</td>\n",
              "      <td>1</td>\n",
              "      <td>1</td>\n",
              "      <td>0</td>\n",
              "      <td>0</td>\n",
              "      <td>NaN</td>\n",
              "      <td>0</td>\n",
              "      <td>1</td>\n",
              "      <td>60.0</td>\n",
              "      <td>6.8</td>\n",
              "      <td>0</td>\n",
              "      <td>NaN</td>\n",
              "      <td>0</td>\n",
              "      <td>3205</td>\n",
              "      <td>0</td>\n",
              "      <td>0</td>\n",
              "      <td>1</td>\n",
              "    </tr>\n",
              "    <tr>\n",
              "      <th>297</th>\n",
              "      <td>0</td>\n",
              "      <td>1</td>\n",
              "      <td>530612</td>\n",
              "      <td>36.5</td>\n",
              "      <td>100.0</td>\n",
              "      <td>24.0</td>\n",
              "      <td>0</td>\n",
              "      <td>0</td>\n",
              "      <td>0</td>\n",
              "      <td>0</td>\n",
              "      <td>0</td>\n",
              "      <td>0</td>\n",
              "      <td>1</td>\n",
              "      <td>0</td>\n",
              "      <td>0</td>\n",
              "      <td>NaN</td>\n",
              "      <td>1</td>\n",
              "      <td>0</td>\n",
              "      <td>50.0</td>\n",
              "      <td>6.0</td>\n",
              "      <td>0</td>\n",
              "      <td>3.4</td>\n",
              "      <td>0</td>\n",
              "      <td>2208</td>\n",
              "      <td>0</td>\n",
              "      <td>0</td>\n",
              "      <td>0</td>\n",
              "    </tr>\n",
              "    <tr>\n",
              "      <th>298</th>\n",
              "      <td>0</td>\n",
              "      <td>1</td>\n",
              "      <td>534618</td>\n",
              "      <td>37.2</td>\n",
              "      <td>40.0</td>\n",
              "      <td>20.0</td>\n",
              "      <td>0</td>\n",
              "      <td>0</td>\n",
              "      <td>0</td>\n",
              "      <td>0</td>\n",
              "      <td>0</td>\n",
              "      <td>0</td>\n",
              "      <td>0</td>\n",
              "      <td>0</td>\n",
              "      <td>0</td>\n",
              "      <td>NaN</td>\n",
              "      <td>1</td>\n",
              "      <td>0</td>\n",
              "      <td>36.0</td>\n",
              "      <td>62.0</td>\n",
              "      <td>1</td>\n",
              "      <td>1.0</td>\n",
              "      <td>1</td>\n",
              "      <td>6112</td>\n",
              "      <td>0</td>\n",
              "      <td>0</td>\n",
              "      <td>1</td>\n",
              "    </tr>\n",
              "  </tbody>\n",
              "</table>\n",
              "<p>299 rows × 27 columns</p>\n",
              "</div>"
            ],
            "text/plain": [
              "     surgery  age  hospital_number  ...  lesion_2  lesion_3  cp_data\n",
              "0          1    1           530101  ...         0         0        1\n",
              "1          0    1           534817  ...         0         0        1\n",
              "2          1    1           530334  ...         0         0        0\n",
              "3          0    0          5290409  ...         0         0        0\n",
              "4          1    1           530255  ...         0         0        1\n",
              "..       ...  ...              ...  ...       ...       ...      ...\n",
              "294        0    1           533886  ...         0         0        1\n",
              "295        1    1           527702  ...         0         0        0\n",
              "296        0    1           529386  ...         0         0        1\n",
              "297        0    1           530612  ...         0         0        0\n",
              "298        0    1           534618  ...         0         0        1\n",
              "\n",
              "[299 rows x 27 columns]"
            ]
          },
          "metadata": {
            "tags": []
          },
          "execution_count": 10
        }
      ]
    },
    {
      "cell_type": "code",
      "metadata": {
        "id": "kEEmQetasn8i"
      },
      "source": [
        "# dividing training and testing data\n",
        "from sklearn.model_selection import train_test_split\n",
        "from sklearn.preprocessing import LabelEncoder\n",
        "\n",
        "feature_cols= animals.columns\n",
        "X,y = animals[feature_cols],target\n",
        "\n",
        "le = LabelEncoder()\n",
        "y = le.fit_transform(y)"
      ],
      "execution_count": null,
      "outputs": []
    },
    {
      "cell_type": "code",
      "metadata": {
        "id": "_yvIFIcxyKUa"
      },
      "source": [
        "xtrain,xtest,ytrain,ytest = train_test_split(X,y,test_size=0.2,random_state=1)\n"
      ],
      "execution_count": null,
      "outputs": []
    },
    {
      "cell_type": "code",
      "metadata": {
        "id": "9CtbanksyMZh"
      },
      "source": [
        "for i in xtrain.columns:\n",
        "  xtrain = xtrain.fillna(xtrain[i].mode()[0])\n",
        "  xtest  = xtest.fillna(xtest[i].mode()[0])"
      ],
      "execution_count": null,
      "outputs": []
    },
    {
      "cell_type": "code",
      "metadata": {
        "colab": {
          "base_uri": "https://localhost:8080/"
        },
        "id": "bZPAP3u9-Ehg",
        "outputId": "14d66e14-16c6-4220-8cc4-b6a2b789b83c"
      },
      "source": [
        "print(xtrain.isnull().any())\n",
        "print(xtest.isnull().any())"
      ],
      "execution_count": null,
      "outputs": [
        {
          "output_type": "stream",
          "text": [
            "surgery                  False\n",
            "age                      False\n",
            "hospital_number          False\n",
            "rectal_temp              False\n",
            "pulse                    False\n",
            "respiratory_rate         False\n",
            "temp_of_extremities      False\n",
            "peripheral_pulse         False\n",
            "mucous_membrane          False\n",
            "capillary_refill_time    False\n",
            "pain                     False\n",
            "peristalsis              False\n",
            "abdominal_distention     False\n",
            "nasogastric_tube         False\n",
            "nasogastric_reflux       False\n",
            "nasogastric_reflux_ph    False\n",
            "rectal_exam_feces        False\n",
            "abdomen                  False\n",
            "packed_cell_volume       False\n",
            "total_protein            False\n",
            "abdomo_appearance        False\n",
            "abdomo_protein           False\n",
            "surgical_lesion          False\n",
            "lesion_1                 False\n",
            "lesion_2                 False\n",
            "lesion_3                 False\n",
            "cp_data                  False\n",
            "dtype: bool\n",
            "surgery                  False\n",
            "age                      False\n",
            "hospital_number          False\n",
            "rectal_temp              False\n",
            "pulse                    False\n",
            "respiratory_rate         False\n",
            "temp_of_extremities      False\n",
            "peripheral_pulse         False\n",
            "mucous_membrane          False\n",
            "capillary_refill_time    False\n",
            "pain                     False\n",
            "peristalsis              False\n",
            "abdominal_distention     False\n",
            "nasogastric_tube         False\n",
            "nasogastric_reflux       False\n",
            "nasogastric_reflux_ph    False\n",
            "rectal_exam_feces        False\n",
            "abdomen                  False\n",
            "packed_cell_volume       False\n",
            "total_protein            False\n",
            "abdomo_appearance        False\n",
            "abdomo_protein           False\n",
            "surgical_lesion          False\n",
            "lesion_1                 False\n",
            "lesion_2                 False\n",
            "lesion_3                 False\n",
            "cp_data                  False\n",
            "dtype: bool\n"
          ],
          "name": "stdout"
        }
      ]
    },
    {
      "cell_type": "code",
      "metadata": {
        "id": "0e0CX2Zu9cpb",
        "colab": {
          "base_uri": "https://localhost:8080/"
        },
        "outputId": "50d816ed-6587-486c-94e8-0174fcb736e8"
      },
      "source": [
        "# Fitting the decision tree classifier\n",
        "from sklearn.tree import DecisionTreeClassifier\n",
        "classifier = DecisionTreeClassifier()\n",
        "classifier.fit(xtrain,ytrain)"
      ],
      "execution_count": null,
      "outputs": [
        {
          "output_type": "execute_result",
          "data": {
            "text/plain": [
              "DecisionTreeClassifier(ccp_alpha=0.0, class_weight=None, criterion='gini',\n",
              "                       max_depth=None, max_features=None, max_leaf_nodes=None,\n",
              "                       min_impurity_decrease=0.0, min_impurity_split=None,\n",
              "                       min_samples_leaf=1, min_samples_split=2,\n",
              "                       min_weight_fraction_leaf=0.0, presort='deprecated',\n",
              "                       random_state=None, splitter='best')"
            ]
          },
          "metadata": {
            "tags": []
          },
          "execution_count": 36
        }
      ]
    },
    {
      "cell_type": "code",
      "metadata": {
        "id": "-4Hod84u-F5b"
      },
      "source": [
        "y_predict = classifier.predict(xtest)"
      ],
      "execution_count": null,
      "outputs": []
    },
    {
      "cell_type": "code",
      "metadata": {
        "colab": {
          "base_uri": "https://localhost:8080/"
        },
        "id": "r2ifoCMq-Hjo",
        "outputId": "f335d975-c87c-4070-b70f-a9b680d38cce"
      },
      "source": [
        "from sklearn.metrics import accuracy_score\n",
        "accuracy = accuracy_score(y_predict,ytest)\n",
        "print(accuracy)"
      ],
      "execution_count": null,
      "outputs": [
        {
          "output_type": "stream",
          "text": [
            "0.6833333333333333\n"
          ],
          "name": "stdout"
        }
      ]
    },
    {
      "cell_type": "code",
      "metadata": {
        "colab": {
          "base_uri": "https://localhost:8080/"
        },
        "id": "aYWfru9m-w-I",
        "outputId": "53ba6cb3-7193-4ef4-fdb4-077ccb3b4dab"
      },
      "source": [
        "# Using randomforest classifier\n",
        "from sklearn.ensemble import RandomForestClassifier\n",
        "classifier = RandomForestClassifier()\n",
        "classifier.fit(xtrain,ytrain)"
      ],
      "execution_count": null,
      "outputs": [
        {
          "output_type": "execute_result",
          "data": {
            "text/plain": [
              "RandomForestClassifier(bootstrap=True, ccp_alpha=0.0, class_weight=None,\n",
              "                       criterion='gini', max_depth=None, max_features='auto',\n",
              "                       max_leaf_nodes=None, max_samples=None,\n",
              "                       min_impurity_decrease=0.0, min_impurity_split=None,\n",
              "                       min_samples_leaf=1, min_samples_split=2,\n",
              "                       min_weight_fraction_leaf=0.0, n_estimators=100,\n",
              "                       n_jobs=None, oob_score=False, random_state=None,\n",
              "                       verbose=0, warm_start=False)"
            ]
          },
          "metadata": {
            "tags": []
          },
          "execution_count": 40
        }
      ]
    },
    {
      "cell_type": "code",
      "metadata": {
        "colab": {
          "base_uri": "https://localhost:8080/"
        },
        "id": "m0OR7iJd_MfY",
        "outputId": "c8c7b714-15ac-4e2e-ee20-b1e394d868d0"
      },
      "source": [
        "y_pred = classifier.predict(xtest)\n",
        "accurac = accuracy_score(y_pred,ytest)\n",
        "print(accurac*100,\"%\")"
      ],
      "execution_count": null,
      "outputs": [
        {
          "output_type": "stream",
          "text": [
            "73.33333333333333 %\n"
          ],
          "name": "stdout"
        }
      ]
    },
    {
      "cell_type": "markdown",
      "metadata": {
        "id": "-t8sMgJy_4fH"
      },
      "source": [
        "Hence accuracy for random forest classifier is more as we wanted."
      ]
    },
    {
      "cell_type": "code",
      "metadata": {
        "id": "-I0pkeVV_gzo"
      },
      "source": [],
      "execution_count": null,
      "outputs": []
    }
  ]
}