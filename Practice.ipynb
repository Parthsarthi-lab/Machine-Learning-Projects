{
  "nbformat": 4,
  "nbformat_minor": 0,
  "metadata": {
    "kernelspec": {
      "display_name": "Python 3",
      "language": "python",
      "name": "python3"
    },
    "language_info": {
      "codemirror_mode": {
        "name": "ipython",
        "version": 3
      },
      "file_extension": ".py",
      "mimetype": "text/x-python",
      "name": "python",
      "nbconvert_exporter": "python",
      "pygments_lexer": "ipython3",
      "version": "3.7.4"
    },
    "colab": {
      "provenance": [],
      "collapsed_sections": [
        "CXQ7jHFWw-mU",
        "f90fuUvAw-me"
      ],
      "include_colab_link": true
    }
  },
  "cells": [
    {
      "cell_type": "markdown",
      "metadata": {
        "id": "view-in-github",
        "colab_type": "text"
      },
      "source": [
        "<a href=\"https://colab.research.google.com/github/Parthsarthi-lab/Machine-Learning-Projects/blob/main/Practice.ipynb\" target=\"_parent\"><img src=\"https://colab.research.google.com/assets/colab-badge.svg\" alt=\"Open In Colab\"/></a>"
      ]
    },
    {
      "cell_type": "markdown",
      "metadata": {
        "id": "VY3FY2-kw-lF"
      },
      "source": [
        "# 1.1-Types"
      ]
    },
    {
      "cell_type": "code",
      "metadata": {
        "id": "ZfTAs5U1w-lU",
        "colab": {
          "base_uri": "https://localhost:8080/"
        },
        "outputId": "f023a815-c7d8-465b-fdbd-1aaaa317a0f6"
      },
      "source": [
        "#Check Pyton version\n",
        "import sys\n",
        "print(sys.version)"
      ],
      "execution_count": null,
      "outputs": [
        {
          "output_type": "stream",
          "text": [
            "3.6.9 (default, Oct  8 2020, 12:12:24) \n",
            "[GCC 8.4.0]\n"
          ],
          "name": "stdout"
        }
      ]
    },
    {
      "cell_type": "code",
      "metadata": {
        "id": "hUMQxY5Yw-lY",
        "colab": {
          "base_uri": "https://localhost:8080/",
          "height": 209
        },
        "outputId": "eafbcbb0-2a53-452c-9398-a0d1a4b23387"
      },
      "source": [
        "#Proving that Python is an interpreted language\n",
        "print(\"Hello\")\n",
        "print(Ram)#This line will not show error as it is not executed"
      ],
      "execution_count": null,
      "outputs": [
        {
          "output_type": "stream",
          "text": [
            "Hello\n"
          ],
          "name": "stdout"
        },
        {
          "output_type": "error",
          "ename": "NameError",
          "evalue": "ignored",
          "traceback": [
            "\u001b[0;31m---------------------------------------------------------------------------\u001b[0m",
            "\u001b[0;31mNameError\u001b[0m                                 Traceback (most recent call last)",
            "\u001b[0;32m<ipython-input-120-b4caed0e4a68>\u001b[0m in \u001b[0;36m<module>\u001b[0;34m()\u001b[0m\n\u001b[1;32m      1\u001b[0m \u001b[0;31m#Proving that Python is an interpreted language\u001b[0m\u001b[0;34m\u001b[0m\u001b[0;34m\u001b[0m\u001b[0;34m\u001b[0m\u001b[0m\n\u001b[1;32m      2\u001b[0m \u001b[0mprint\u001b[0m\u001b[0;34m(\u001b[0m\u001b[0;34m\"Hello\"\u001b[0m\u001b[0;34m)\u001b[0m\u001b[0;34m\u001b[0m\u001b[0;34m\u001b[0m\u001b[0m\n\u001b[0;32m----> 3\u001b[0;31m \u001b[0mprint\u001b[0m\u001b[0;34m(\u001b[0m\u001b[0mRam\u001b[0m\u001b[0;34m)\u001b[0m\u001b[0;31m#This line will not show error as it is not executed\u001b[0m\u001b[0;34m\u001b[0m\u001b[0;34m\u001b[0m\u001b[0m\n\u001b[0m",
            "\u001b[0;31mNameError\u001b[0m: name 'Ram' is not defined"
          ]
        }
      ]
    },
    {
      "cell_type": "code",
      "metadata": {
        "id": "lHwssYAkw-lZ",
        "colab": {
          "base_uri": "https://localhost:8080/"
        },
        "outputId": "39311473-3fe3-4e78-c07a-63a828ab8d2d"
      },
      "source": [
        "# To know type of any variable or expression in Python\n",
        "print(type(True))\n",
        "type(-1.0)"
      ],
      "execution_count": null,
      "outputs": [
        {
          "output_type": "stream",
          "text": [
            "<class 'bool'>\n"
          ],
          "name": "stdout"
        },
        {
          "output_type": "execute_result",
          "data": {
            "text/plain": [
              "float"
            ]
          },
          "metadata": {
            "tags": []
          },
          "execution_count": 121
        }
      ]
    },
    {
      "cell_type": "code",
      "metadata": {
        "id": "USTeOFWZw-la",
        "colab": {
          "base_uri": "https://localhost:8080/"
        },
        "outputId": "2c8c1ae4-e01e-423c-f4ac-ffbef6480f84"
      },
      "source": [
        "sys.float_info"
      ],
      "execution_count": null,
      "outputs": [
        {
          "output_type": "execute_result",
          "data": {
            "text/plain": [
              "sys.float_info(max=1.7976931348623157e+308, max_exp=1024, max_10_exp=308, min=2.2250738585072014e-308, min_exp=-1021, min_10_exp=-307, dig=15, mant_dig=53, epsilon=2.220446049250313e-16, radix=2, rounds=1)"
            ]
          },
          "metadata": {
            "tags": []
          },
          "execution_count": 122
        }
      ]
    },
    {
      "cell_type": "code",
      "metadata": {
        "id": "Eqbzmdm3w-lb",
        "colab": {
          "base_uri": "https://localhost:8080/"
        },
        "outputId": "1abaf75a-56d9-4937-e1d4-fe5cd990fa7a"
      },
      "source": [
        "#Type casting\n",
        "print(float(2))\n",
        "print(int(2.34))\n",
        "print(type(str(2.345)))\n",
        "my_var= 56\n",
        "type(str(my_var))\n",
        "bool(1)"
      ],
      "execution_count": null,
      "outputs": [
        {
          "output_type": "stream",
          "text": [
            "2.0\n",
            "2\n",
            "<class 'str'>\n"
          ],
          "name": "stdout"
        },
        {
          "output_type": "execute_result",
          "data": {
            "text/plain": [
              "True"
            ]
          },
          "metadata": {
            "tags": []
          },
          "execution_count": 123
        }
      ]
    },
    {
      "cell_type": "markdown",
      "metadata": {
        "id": "hCskz1rsw-lc"
      },
      "source": [
        "## Exercise : Types"
      ]
    },
    {
      "cell_type": "code",
      "metadata": {
        "id": "2Q1quThXw-lc",
        "colab": {
          "base_uri": "https://localhost:8080/"
        },
        "outputId": "f276d125-2605-40f0-f2df-9065f4ea6ebd"
      },
      "source": [
        "6/2"
      ],
      "execution_count": null,
      "outputs": [
        {
          "output_type": "execute_result",
          "data": {
            "text/plain": [
              "3.0"
            ]
          },
          "metadata": {
            "tags": []
          },
          "execution_count": 124
        }
      ]
    },
    {
      "cell_type": "code",
      "metadata": {
        "id": "ATVIa6kww-ld",
        "colab": {
          "base_uri": "https://localhost:8080/"
        },
        "outputId": "d6c92932-62b2-453a-c66c-4c1f56e8906f"
      },
      "source": [
        "6//2\n"
      ],
      "execution_count": null,
      "outputs": [
        {
          "output_type": "execute_result",
          "data": {
            "text/plain": [
              "3"
            ]
          },
          "metadata": {
            "tags": []
          },
          "execution_count": 125
        }
      ]
    },
    {
      "cell_type": "code",
      "metadata": {
        "id": "9Lm8Ak_5w-le",
        "colab": {
          "base_uri": "https://localhost:8080/"
        },
        "outputId": "89c36bbf-339e-4a08-88a9-ba412e14aec3"
      },
      "source": [
        "6//5"
      ],
      "execution_count": null,
      "outputs": [
        {
          "output_type": "execute_result",
          "data": {
            "text/plain": [
              "1"
            ]
          },
          "metadata": {
            "tags": []
          },
          "execution_count": 126
        }
      ]
    },
    {
      "cell_type": "markdown",
      "metadata": {
        "id": "EqF_6TvWw-lf"
      },
      "source": [
        "## Expressions"
      ]
    },
    {
      "cell_type": "code",
      "metadata": {
        "id": "yKQkwllQw-lf",
        "colab": {
          "base_uri": "https://localhost:8080/"
        },
        "outputId": "82b934b3-5d54-4607-a3e0-f25e3bde3568"
      },
      "source": [
        "23+4344+56"
      ],
      "execution_count": null,
      "outputs": [
        {
          "output_type": "execute_result",
          "data": {
            "text/plain": [
              "4423"
            ]
          },
          "metadata": {
            "tags": []
          },
          "execution_count": 127
        }
      ]
    },
    {
      "cell_type": "markdown",
      "metadata": {
        "id": "4Wlov_EZw-lg"
      },
      "source": [
        "# 1.2-Strings"
      ]
    },
    {
      "cell_type": "code",
      "metadata": {
        "id": "htjrtCXDw-lg",
        "colab": {
          "base_uri": "https://localhost:8080/",
          "height": 35
        },
        "outputId": "b5f68be2-3628-4b7d-abe1-20e8193223f5"
      },
      "source": [
        "Name = \"Michael Jackson\"\n",
        "#Negative indexing\n",
        "Name[-15]"
      ],
      "execution_count": null,
      "outputs": [
        {
          "output_type": "execute_result",
          "data": {
            "application/vnd.google.colaboratory.intrinsic+json": {
              "type": "string"
            },
            "text/plain": [
              "'M'"
            ]
          },
          "metadata": {
            "tags": []
          },
          "execution_count": 128
        }
      ]
    },
    {
      "cell_type": "code",
      "metadata": {
        "id": "tK4O3zrhw-lh",
        "colab": {
          "base_uri": "https://localhost:8080/"
        },
        "outputId": "b3a15864-9319-4a55-c911-322854dbf9a4"
      },
      "source": [
        "#To find no of characters of a string\n",
        "len(Name)"
      ],
      "execution_count": null,
      "outputs": [
        {
          "output_type": "execute_result",
          "data": {
            "text/plain": [
              "15"
            ]
          },
          "metadata": {
            "tags": []
          },
          "execution_count": 129
        }
      ]
    },
    {
      "cell_type": "code",
      "metadata": {
        "id": "Ec1kWIf-w-lh",
        "colab": {
          "base_uri": "https://localhost:8080/",
          "height": 35
        },
        "outputId": "7c2fefac-ccc5-49f4-8925-ad2dc7b250b0"
      },
      "source": [
        "#Slicing\n",
        "#Name[12:3]\n",
        "Name[-2:-5]"
      ],
      "execution_count": null,
      "outputs": [
        {
          "output_type": "execute_result",
          "data": {
            "application/vnd.google.colaboratory.intrinsic+json": {
              "type": "string"
            },
            "text/plain": [
              "''"
            ]
          },
          "metadata": {
            "tags": []
          },
          "execution_count": 130
        }
      ]
    },
    {
      "cell_type": "markdown",
      "metadata": {
        "id": "CRlOPz6Dw-li"
      },
      "source": [
        "## Stride\n",
        "##### We can also input a stride value as follows, with the '2' indicating that we are selecting every second variable:\n"
      ]
    },
    {
      "cell_type": "code",
      "metadata": {
        "id": "sU3WLQjZw-li",
        "colab": {
          "base_uri": "https://localhost:8080/",
          "height": 35
        },
        "outputId": "be12a1cc-ba01-41e7-cbfb-23d99875c148"
      },
      "source": [
        "Name[::2]"
      ],
      "execution_count": null,
      "outputs": [
        {
          "output_type": "execute_result",
          "data": {
            "application/vnd.google.colaboratory.intrinsic+json": {
              "type": "string"
            },
            "text/plain": [
              "'McalJcsn'"
            ]
          },
          "metadata": {
            "tags": []
          },
          "execution_count": 131
        }
      ]
    },
    {
      "cell_type": "code",
      "metadata": {
        "id": "TUXORyVVw-lj",
        "colab": {
          "base_uri": "https://localhost:8080/",
          "height": 35
        },
        "outputId": "c230e936-a57a-43e9-d49d-1cb36a0fe85c"
      },
      "source": [
        "# Get every second element form index 0 to 4\n",
        "Name[0:5:2]\n",
        "Name[0:15:4]"
      ],
      "execution_count": null,
      "outputs": [
        {
          "output_type": "execute_result",
          "data": {
            "application/vnd.google.colaboratory.intrinsic+json": {
              "type": "string"
            },
            "text/plain": [
              "'MaJs'"
            ]
          },
          "metadata": {
            "tags": []
          },
          "execution_count": 132
        }
      ]
    },
    {
      "cell_type": "code",
      "metadata": {
        "id": "3uzYD2Kyw-lj",
        "colab": {
          "base_uri": "https://localhost:8080/",
          "height": 35
        },
        "outputId": "0a59c060-78ce-4e97-f31d-fdc0e9def5b8"
      },
      "source": [
        "Name[:-4:2] #"
      ],
      "execution_count": null,
      "outputs": [
        {
          "output_type": "execute_result",
          "data": {
            "application/vnd.google.colaboratory.intrinsic+json": {
              "type": "string"
            },
            "text/plain": [
              "'McalJc'"
            ]
          },
          "metadata": {
            "tags": []
          },
          "execution_count": 133
        }
      ]
    },
    {
      "cell_type": "code",
      "metadata": {
        "id": "dZnMS_VTw-lk",
        "colab": {
          "base_uri": "https://localhost:8080/",
          "height": 35
        },
        "outputId": "61b17f7f-d189-4d3e-a68b-444ccd0442d6"
      },
      "source": [
        "Name[:-4-4]"
      ],
      "execution_count": null,
      "outputs": [
        {
          "output_type": "execute_result",
          "data": {
            "application/vnd.google.colaboratory.intrinsic+json": {
              "type": "string"
            },
            "text/plain": [
              "'Michael'"
            ]
          },
          "metadata": {
            "tags": []
          },
          "execution_count": 134
        }
      ]
    },
    {
      "cell_type": "code",
      "metadata": {
        "id": "uMWnmSzsw-lk",
        "colab": {
          "base_uri": "https://localhost:8080/"
        },
        "outputId": "23409738-42ff-4ecf-f3a1-cf8c0f47c8d6"
      },
      "source": [
        "print(Name[:-6:2]) # cut the index till the negative value from backside and start skipping from"
      ],
      "execution_count": null,
      "outputs": [
        {
          "output_type": "stream",
          "text": [
            "McalJ\n"
          ],
          "name": "stdout"
        }
      ]
    },
    {
      "cell_type": "code",
      "metadata": {
        "id": "Uo7DpfIUw-ll",
        "colab": {
          "base_uri": "https://localhost:8080/",
          "height": 35
        },
        "outputId": "cbcff351-d3b1-4045-cf67-cbf887af932b"
      },
      "source": [
        "Name[-2-5] # (-2) +(-5) = -7 index"
      ],
      "execution_count": null,
      "outputs": [
        {
          "output_type": "execute_result",
          "data": {
            "application/vnd.google.colaboratory.intrinsic+json": {
              "type": "string"
            },
            "text/plain": [
              "'J'"
            ]
          },
          "metadata": {
            "tags": []
          },
          "execution_count": 136
        }
      ]
    },
    {
      "cell_type": "code",
      "metadata": {
        "id": "Zy_gnU07w-ll",
        "colab": {
          "base_uri": "https://localhost:8080/",
          "height": 35
        },
        "outputId": "40c1f930-27f6-4fa2-d598-8874593fe341"
      },
      "source": [
        "Name[-4:-2]"
      ],
      "execution_count": null,
      "outputs": [
        {
          "output_type": "execute_result",
          "data": {
            "application/vnd.google.colaboratory.intrinsic+json": {
              "type": "string"
            },
            "text/plain": [
              "'ks'"
            ]
          },
          "metadata": {
            "tags": []
          },
          "execution_count": 137
        }
      ]
    },
    {
      "cell_type": "markdown",
      "metadata": {
        "id": "Sq6w-Tlpw-lm"
      },
      "source": [
        "### Concatenate Strings"
      ]
    },
    {
      "cell_type": "code",
      "metadata": {
        "id": "fNj9oBumw-lm",
        "colab": {
          "base_uri": "https://localhost:8080/"
        },
        "outputId": "7b6fea20-bea2-4447-b95e-85a2f47ad832"
      },
      "source": [
        "Statement = Name + \" is the best\"\n",
        "print(Statement)\n",
        "print(\"\\n\",Name)"
      ],
      "execution_count": null,
      "outputs": [
        {
          "output_type": "stream",
          "text": [
            "Michael Jackson is the best\n",
            "\n",
            " Michael Jackson\n"
          ],
          "name": "stdout"
        }
      ]
    },
    {
      "cell_type": "code",
      "metadata": {
        "id": "NoMKca4gw-ln",
        "colab": {
          "base_uri": "https://localhost:8080/",
          "height": 35
        },
        "outputId": "d00e3746-4c3c-42d6-a2f0-268029b3ea7c"
      },
      "source": [
        "Name += \" is the best\"\n",
        "Name"
      ],
      "execution_count": null,
      "outputs": [
        {
          "output_type": "execute_result",
          "data": {
            "application/vnd.google.colaboratory.intrinsic+json": {
              "type": "string"
            },
            "text/plain": [
              "'Michael Jackson is the best'"
            ]
          },
          "metadata": {
            "tags": []
          },
          "execution_count": 139
        }
      ]
    },
    {
      "cell_type": "markdown",
      "metadata": {
        "id": "EbPG6Adpw-ln"
      },
      "source": [
        "### Escape Sequences"
      ]
    },
    {
      "cell_type": "code",
      "metadata": {
        "id": "D0zn6Ngzw-ln",
        "colab": {
          "base_uri": "https://localhost:8080/"
        },
        "outputId": "c09c0784-74ed-47a5-fe5a-2914de885e69"
      },
      "source": [
        "# 'r' tells python that string will display as raw string\n",
        "print(r\"Hello\")\n",
        "# '\\n' new line\n",
        "print(\"Hello world\\nI am Robo\")\n",
        "# '\\t' tab\n",
        "print(\"\\tGood Afternoon\")\n",
        "# include backslash in string\n",
        "print(\"Michael Jackson \\ is the best\")"
      ],
      "execution_count": null,
      "outputs": [
        {
          "output_type": "stream",
          "text": [
            "Hello\n",
            "Hello world\n",
            "I am Robo\n",
            "\tGood Afternoon\n",
            "Michael Jackson \\ is the best\n"
          ],
          "name": "stdout"
        }
      ]
    },
    {
      "cell_type": "markdown",
      "metadata": {
        "id": "3iW6j52Ow-lo"
      },
      "source": [
        " ### String Operations"
      ]
    },
    {
      "cell_type": "code",
      "metadata": {
        "id": "SARD9S5ww-lo",
        "colab": {
          "base_uri": "https://localhost:8080/"
        },
        "outputId": "769eab3f-26ea-4e9b-9662-9c57d2812044"
      },
      "source": [
        "# '.upper()' converts lower case characters to upper case characters\n",
        "A = \"Thriller is the seventh studio film\"\n",
        "print(\"Before .upper:\\n \",A)\n",
        "B = A.upper()\n",
        "print(\"After .upper:\\n \",B)"
      ],
      "execution_count": null,
      "outputs": [
        {
          "output_type": "stream",
          "text": [
            "Before .upper:\n",
            "  Thriller is the seventh studio film\n",
            "After .upper:\n",
            "  THRILLER IS THE SEVENTH STUDIO FILM\n"
          ],
          "name": "stdout"
        }
      ]
    },
    {
      "cell_type": "code",
      "metadata": {
        "id": "7_oHVnrzw-lp",
        "colab": {
          "base_uri": "https://localhost:8080/",
          "height": 35
        },
        "outputId": "6a2fa654-2858-4485-c054-a6360e69479a"
      },
      "source": [
        "# '.replace()' replaces a segment of the string with the new string\n",
        "# Syntax ---- Str.replace(\"string to be replaced\",\"replaced string\")\n",
        "B = Name.replace(\" is the best\",\" is very good\")\n",
        "B"
      ],
      "execution_count": null,
      "outputs": [
        {
          "output_type": "execute_result",
          "data": {
            "application/vnd.google.colaboratory.intrinsic+json": {
              "type": "string"
            },
            "text/plain": [
              "'Michael Jackson is very good'"
            ]
          },
          "metadata": {
            "tags": []
          },
          "execution_count": 142
        }
      ]
    },
    {
      "cell_type": "code",
      "metadata": {
        "id": "O7a1vWDew-lp",
        "colab": {
          "base_uri": "https://localhost:8080/"
        },
        "outputId": "2a555c0a-6f0e-4b91-ac02-6677ffc3016d"
      },
      "source": [
        "# '.find()' finds the substring in a string . The index of the first character is printed\n",
        "print(Name.find(\"el\"))\n",
        "# if value does not exist then a negative value will be printed\n",
        "print(Name.find(\"hdsfhjksdfjds\"))"
      ],
      "execution_count": null,
      "outputs": [
        {
          "output_type": "stream",
          "text": [
            "5\n",
            "-1\n"
          ],
          "name": "stdout"
        }
      ]
    },
    {
      "cell_type": "markdown",
      "metadata": {
        "id": "LeOnCaPEw-lt"
      },
      "source": [
        "# 2.1-Tuples"
      ]
    },
    {
      "cell_type": "code",
      "metadata": {
        "id": "PYNVGr7Fw-lt",
        "colab": {
          "base_uri": "https://localhost:8080/"
        },
        "outputId": "880923b0-2b3b-47cd-8f8e-95f42e40c6ec"
      },
      "source": [
        "#Create a tuple\n",
        "tuple1 = (\"disco\",10,1.2)\n",
        "tuple1"
      ],
      "execution_count": null,
      "outputs": [
        {
          "output_type": "execute_result",
          "data": {
            "text/plain": [
              "('disco', 10, 1.2)"
            ]
          },
          "metadata": {
            "tags": []
          },
          "execution_count": 144
        }
      ]
    },
    {
      "cell_type": "code",
      "metadata": {
        "id": "JQg62HNyw-lu",
        "colab": {
          "base_uri": "https://localhost:8080/"
        },
        "outputId": "cd788bcf-5605-433a-c33d-d4f99ca8c99d"
      },
      "source": [
        "# know the type of tuple variable\n",
        "print(type(tuple1))"
      ],
      "execution_count": null,
      "outputs": [
        {
          "output_type": "stream",
          "text": [
            "<class 'tuple'>\n"
          ],
          "name": "stdout"
        }
      ]
    },
    {
      "cell_type": "code",
      "metadata": {
        "id": "9eJmt7rEw-lu",
        "colab": {
          "base_uri": "https://localhost:8080/"
        },
        "outputId": "ea83b565-7421-4164-da96-922325486cb0"
      },
      "source": [
        "# Indexing in Tuples\n",
        "tuple1[0]\n",
        "# Know the type of each index of a tuple\n",
        "print(type(tuple1[0]))\n",
        "print(type(tuple1[1]))\n",
        "print(type(tuple1[2]))"
      ],
      "execution_count": null,
      "outputs": [
        {
          "output_type": "stream",
          "text": [
            "<class 'str'>\n",
            "<class 'int'>\n",
            "<class 'float'>\n"
          ],
          "name": "stdout"
        }
      ]
    },
    {
      "cell_type": "code",
      "metadata": {
        "id": "ezLeDmhsw-lv",
        "colab": {
          "base_uri": "https://localhost:8080/"
        },
        "outputId": "d780e95b-7168-4d38-ed72-d43d81ff36b0"
      },
      "source": [
        "# Negative indexing\n",
        "tuple1[-1]"
      ],
      "execution_count": null,
      "outputs": [
        {
          "output_type": "execute_result",
          "data": {
            "text/plain": [
              "1.2"
            ]
          },
          "metadata": {
            "tags": []
          },
          "execution_count": 147
        }
      ]
    },
    {
      "cell_type": "markdown",
      "metadata": {
        "id": "0rNd0QKmw-lv"
      },
      "source": [
        "<h3> Concatenate Tuples </h3>"
      ]
    },
    {
      "cell_type": "markdown",
      "metadata": {
        "id": "pSkzLB_Zw-lw"
      },
      "source": [
        "##### We can concatenate two tuples by using the <b>+</b> operator"
      ]
    },
    {
      "cell_type": "code",
      "metadata": {
        "id": "0PJpiDk_w-lw",
        "colab": {
          "base_uri": "https://localhost:8080/"
        },
        "outputId": "b5e91a2f-a5c6-4011-c06f-3fa0aa00ddd1"
      },
      "source": [
        "tuple1 = (\"disco\",60,1.2)\n",
        "print(\"Original tuple1--> \\n \",tuple1)\n",
        "tup2 = tuple1 + (\"hardrock\",10)\n",
        "print(\"Tuple 1 ---> \\n\",tuple1)\n",
        "print(\"Tuple 2 ---> \\n\",tup2)\n",
        "tuple1 += (\"hardrock\",70)\n",
        "print(\"Tuple 1 after concatenation ---> \\n\",tuple1)"
      ],
      "execution_count": null,
      "outputs": [
        {
          "output_type": "stream",
          "text": [
            "Original tuple1--> \n",
            "  ('disco', 60, 1.2)\n",
            "Tuple 1 ---> \n",
            " ('disco', 60, 1.2)\n",
            "Tuple 2 ---> \n",
            " ('disco', 60, 1.2, 'hardrock', 10)\n",
            "Tuple 1 after concatenation ---> \n",
            " ('disco', 60, 1.2, 'hardrock', 70)\n"
          ],
          "name": "stdout"
        }
      ]
    },
    {
      "cell_type": "markdown",
      "metadata": {
        "id": "NMMHt5Dfw-lx"
      },
      "source": [
        "### Slicing in Tuples"
      ]
    },
    {
      "cell_type": "code",
      "metadata": {
        "id": "rcm-z2pww-lx",
        "colab": {
          "base_uri": "https://localhost:8080/"
        },
        "outputId": "ba074efd-2565-4ecb-d6c3-24f0d6845c5c"
      },
      "source": [
        "print(tuple1[3:0])\n",
        "print(tuple1[-5:-2])\n",
        "print(tuple1[::2])\n"
      ],
      "execution_count": null,
      "outputs": [
        {
          "output_type": "stream",
          "text": [
            "()\n",
            "('disco', 60, 1.2)\n",
            "('disco', 1.2, 70)\n"
          ],
          "name": "stdout"
        }
      ]
    },
    {
      "cell_type": "markdown",
      "metadata": {
        "id": "idsr9oJjw-ly"
      },
      "source": [
        "### Stride in Tuples"
      ]
    },
    {
      "cell_type": "code",
      "metadata": {
        "id": "gGCzmiqUw-ly",
        "colab": {
          "base_uri": "https://localhost:8080/"
        },
        "outputId": "bfaed37d-9bb9-492c-ac50-03b6b3b07117"
      },
      "source": [
        "print(tuple1)\n",
        "print(tuple1[::2])\n",
        "print(tuple1[-5:-2:2])"
      ],
      "execution_count": null,
      "outputs": [
        {
          "output_type": "stream",
          "text": [
            "('disco', 60, 1.2, 'hardrock', 70)\n",
            "('disco', 1.2, 70)\n",
            "('disco', 1.2)\n"
          ],
          "name": "stdout"
        }
      ]
    },
    {
      "cell_type": "code",
      "metadata": {
        "scrolled": false,
        "id": "96xs8t4Nw-ly",
        "colab": {
          "base_uri": "https://localhost:8080/"
        },
        "outputId": "b472bbaa-eaf9-4cff-93ef-4ce38e083ff2"
      },
      "source": [
        "#Get the length of tuple\n",
        "len(tuple1)"
      ],
      "execution_count": null,
      "outputs": [
        {
          "output_type": "execute_result",
          "data": {
            "text/plain": [
              "5"
            ]
          },
          "metadata": {
            "tags": []
          },
          "execution_count": 151
        }
      ]
    },
    {
      "cell_type": "markdown",
      "metadata": {
        "id": "9h7fydoXw-lz"
      },
      "source": [
        "## Sorting"
      ]
    },
    {
      "cell_type": "code",
      "metadata": {
        "id": "6BgB3Jqaw-lz",
        "colab": {
          "base_uri": "https://localhost:8080/"
        },
        "outputId": "4da1d6a2-831d-4b16-ea03-86f2d4c17ae4"
      },
      "source": [
        "Ratings = (0,9,6,5,10,8,9,6,2)\n",
        "RatingsSorted = sorted(Ratings)\n",
        "print(RatingsSorted)\n",
        "len(RatingsSorted)"
      ],
      "execution_count": null,
      "outputs": [
        {
          "output_type": "stream",
          "text": [
            "[0, 2, 5, 6, 6, 8, 9, 9, 10]\n"
          ],
          "name": "stdout"
        },
        {
          "output_type": "execute_result",
          "data": {
            "text/plain": [
              "9"
            ]
          },
          "metadata": {
            "tags": []
          },
          "execution_count": 152
        }
      ]
    },
    {
      "cell_type": "markdown",
      "metadata": {
        "id": "JRo4Yj6Qw-l0"
      },
      "source": [
        "## Nested Tuples"
      ]
    },
    {
      "cell_type": "code",
      "metadata": {
        "id": "dRVcwTE6w-l0",
        "colab": {
          "base_uri": "https://localhost:8080/",
          "height": 193
        },
        "outputId": "fa1eb013-598d-484d-c8e4-c6a62fe5ed45"
      },
      "source": [
        "Nt = (1,2,(\"pop\",\"rock\"),(3,4),(\"disco\",(1,2,(5,7))))\n",
        "\n",
        "NT[3][0]"
      ],
      "execution_count": null,
      "outputs": [
        {
          "output_type": "error",
          "ename": "NameError",
          "evalue": "ignored",
          "traceback": [
            "\u001b[0;31m---------------------------------------------------------------------------\u001b[0m",
            "\u001b[0;31mNameError\u001b[0m                                 Traceback (most recent call last)",
            "\u001b[0;32m<ipython-input-153-2c722746dbc8>\u001b[0m in \u001b[0;36m<module>\u001b[0;34m()\u001b[0m\n\u001b[1;32m      1\u001b[0m \u001b[0mNt\u001b[0m \u001b[0;34m=\u001b[0m \u001b[0;34m(\u001b[0m\u001b[0;36m1\u001b[0m\u001b[0;34m,\u001b[0m\u001b[0;36m2\u001b[0m\u001b[0;34m,\u001b[0m\u001b[0;34m(\u001b[0m\u001b[0;34m\"pop\"\u001b[0m\u001b[0;34m,\u001b[0m\u001b[0;34m\"rock\"\u001b[0m\u001b[0;34m)\u001b[0m\u001b[0;34m,\u001b[0m\u001b[0;34m(\u001b[0m\u001b[0;36m3\u001b[0m\u001b[0;34m,\u001b[0m\u001b[0;36m4\u001b[0m\u001b[0;34m)\u001b[0m\u001b[0;34m,\u001b[0m\u001b[0;34m(\u001b[0m\u001b[0;34m\"disco\"\u001b[0m\u001b[0;34m,\u001b[0m\u001b[0;34m(\u001b[0m\u001b[0;36m1\u001b[0m\u001b[0;34m,\u001b[0m\u001b[0;36m2\u001b[0m\u001b[0;34m,\u001b[0m\u001b[0;34m(\u001b[0m\u001b[0;36m5\u001b[0m\u001b[0;34m,\u001b[0m\u001b[0;36m7\u001b[0m\u001b[0;34m)\u001b[0m\u001b[0;34m)\u001b[0m\u001b[0;34m)\u001b[0m\u001b[0;34m)\u001b[0m\u001b[0;34m\u001b[0m\u001b[0;34m\u001b[0m\u001b[0m\n\u001b[1;32m      2\u001b[0m \u001b[0;34m\u001b[0m\u001b[0m\n\u001b[0;32m----> 3\u001b[0;31m \u001b[0mNT\u001b[0m\u001b[0;34m[\u001b[0m\u001b[0;36m3\u001b[0m\u001b[0;34m]\u001b[0m\u001b[0;34m[\u001b[0m\u001b[0;36m0\u001b[0m\u001b[0;34m]\u001b[0m\u001b[0;34m\u001b[0m\u001b[0;34m\u001b[0m\u001b[0m\n\u001b[0m",
            "\u001b[0;31mNameError\u001b[0m: name 'NT' is not defined"
          ]
        }
      ]
    },
    {
      "cell_type": "code",
      "metadata": {
        "id": "Zx5V_r2vw-l0"
      },
      "source": [
        "A = {\"Thriller\",\"Back in Black\",\"Ac/Dc\",\"Ab\"}\n",
        "\n",
        "A.add(\"NSYNC\")\n",
        "A"
      ],
      "execution_count": null,
      "outputs": []
    },
    {
      "cell_type": "code",
      "metadata": {
        "id": "vfBe-uxHw-l1"
      },
      "source": [
        "x = ('apple', 'banana', 'cherry')\n",
        "y = enumerate(x)\n",
        "y"
      ],
      "execution_count": null,
      "outputs": []
    },
    {
      "cell_type": "markdown",
      "metadata": {
        "id": "9tLby9TVw-l2"
      },
      "source": [
        "<h2>Loops</h2>"
      ]
    },
    {
      "cell_type": "code",
      "metadata": {
        "id": "_fiPx8jrw-l2"
      },
      "source": [
        " a = <enumerate at 0x208df5d3778>"
      ],
      "execution_count": null,
      "outputs": []
    },
    {
      "cell_type": "code",
      "metadata": {
        "id": "gXgg-cecw-l3"
      },
      "source": [
        "squares = ['orange', 'orange', 'purple', 'blue ', 'orange']\n",
        "new_squares = []\n",
        "i=0\n",
        "while(squares[i]==\"orange\"):\n",
        "    new_squares.append(squares[i])\n",
        "    i = i+1"
      ],
      "execution_count": null,
      "outputs": []
    },
    {
      "cell_type": "markdown",
      "metadata": {
        "id": "jSItcTBxw-l3"
      },
      "source": [
        "1. Write a Python program to find those numbers which are divisible by 7 and multiple of 5, between 1500 and 2700 (both included)."
      ]
    },
    {
      "cell_type": "code",
      "metadata": {
        "id": "aX9k-jMRw-l3"
      },
      "source": [
        "for i in range(1500,2701):\n",
        "    if(i%7==0):\n",
        "        print(i)"
      ],
      "execution_count": null,
      "outputs": []
    },
    {
      "cell_type": "code",
      "metadata": {
        "id": "p86QlSo1w-l4"
      },
      "source": [
        "x"
      ],
      "execution_count": null,
      "outputs": []
    },
    {
      "cell_type": "markdown",
      "metadata": {
        "id": "ykM6KY_lw-l4"
      },
      "source": [
        "Write a Python program to convert temperatures to and from celsius, fahrenheit.<br>[ Formula : c/5 = f-32/9 [ where c = temperature in celsius and f = temperature in fahrenheit ]<br>\n",
        "Expected Output :<br>\n",
        "60°C is 140 in Fahrenheit<br>\n",
        "45°F is 7 in Celsius"
      ]
    },
    {
      "cell_type": "code",
      "metadata": {
        "id": "g1RWApSlw-l5"
      },
      "source": [
        "choice = input(\"Enter choice : \\n1.Celcius to Fahrenheit\\n2.Fahrenheit to Celcius\\n\")\n",
        "if(choice==\"1\"):\n",
        "    temp = input(\"Please enter temperature : \\n\")\n",
        "    ##print(type(temp))\n",
        "    temp1 = int(temp)\n",
        "    ##print(type(temp1))\n",
        "    tempconv = (temp1*9/5)+32\n",
        "    print(tempconv)\n",
        "else:\n",
        "    temp = input(\"Please enter temperature : \\n\")\n",
        "    ##print(type(temp))\n",
        "    temp1 = int(temp)\n",
        "    ##print(type(temp1))\n",
        "    tempconv = (temp1-32)*5/9\n",
        "    print(tempconv)"
      ],
      "execution_count": null,
      "outputs": []
    },
    {
      "cell_type": "code",
      "metadata": {
        "id": "SSp0X1jEw-l5"
      },
      "source": [
        ""
      ],
      "execution_count": null,
      "outputs": []
    },
    {
      "cell_type": "markdown",
      "metadata": {
        "id": "3PLm2R5ew-l6"
      },
      "source": [
        "Q ->Write a Python program to count the number of even and odd numbers from a series of numbers.<br> Go to the editor<br>\n",
        "<br>Sample numbers : numbers = (1, 2, 3, 4, 5, 6, 7, 8, 9)<br>\n",
        "Expected Output :<br>\n",
        "Number of even numbers : 5<br>\n",
        "Number of odd numbers : 4<br>"
      ]
    },
    {
      "cell_type": "code",
      "metadata": {
        "id": "pvRGA7FYw-l6"
      },
      "source": [
        "numbers = input(\"Please enter five numbers\")\n"
      ],
      "execution_count": null,
      "outputs": []
    },
    {
      "cell_type": "code",
      "metadata": {
        "id": "eHjlGrgtw-l7"
      },
      "source": [],
      "execution_count": null,
      "outputs": []
    },
    {
      "cell_type": "code",
      "metadata": {
        "id": "Q8hGGPfrw-l7"
      },
      "source": [],
      "execution_count": null,
      "outputs": []
    },
    {
      "cell_type": "code",
      "metadata": {
        "id": "TBVg4Qi1w-l7"
      },
      "source": [],
      "execution_count": null,
      "outputs": []
    },
    {
      "cell_type": "markdown",
      "metadata": {
        "id": "P2GD9wpSw-l8"
      },
      "source": [
        "<h1> LOOPS </h1>"
      ]
    },
    {
      "cell_type": "markdown",
      "metadata": {
        "id": "_S4YBOdNw-l8"
      },
      "source": [
        "## FOR LOOP"
      ]
    },
    {
      "cell_type": "code",
      "metadata": {
        "id": "ZVcFoLWmw-l9"
      },
      "source": [
        "dates = [1980,8907,679,456]\n",
        "N  = len(dates)\n",
        "for i in range(0,N):\n",
        "    print(dates[i])"
      ],
      "execution_count": null,
      "outputs": []
    },
    {
      "cell_type": "code",
      "metadata": {
        "id": "O6sY8V54w-l9"
      },
      "source": [
        "# Reverse the values\n",
        "square = [\"red\",\"yello\",\"blue\",\"green\"]\n",
        "x=3\n",
        "for i in range(len(square)):\n",
        "    square[i]  = square[x]\n",
        "    x = x-1\n",
        "print(square)"
      ],
      "execution_count": null,
      "outputs": []
    },
    {
      "cell_type": "markdown",
      "metadata": {
        "id": "ji_1AeBCw-l-"
      },
      "source": [
        "Write a while loop to display the values of the Rating of an album playlist stored in the list <code>PlayListRatings</code>. If the score is less than 6, exit the loop. The list <code>PlayListRatings</code> is given by: <code>PlayListRatings = [10, 9.5, 10, 8, 7.5, 5, 10, 10]</code>"
      ]
    },
    {
      "cell_type": "code",
      "metadata": {
        "id": "T0ARpnTvw-l_"
      },
      "source": [
        "PlayListRatings = [10, 9.5, 10, 8, 7.5, 5, 10, 10]\n",
        "i=0\n",
        "while PlayListRatings[i]>=6:\n",
        "    print(PlayListRatings[i])\n",
        "    i = i + 1"
      ],
      "execution_count": null,
      "outputs": []
    },
    {
      "cell_type": "markdown",
      "metadata": {
        "id": "VSyzUxhVw-mA"
      },
      "source": [
        "Write a while loop to copy the strings 'orange' of the list squares to the list new_squares. Stop and exit the loop if the value on the list is not 'orange':"
      ]
    },
    {
      "cell_type": "code",
      "metadata": {
        "id": "q00Zc7Qhw-mA"
      },
      "source": [
        "squares = ['orange', 'orange', 'purple', 'blue ', 'orange']\n",
        "new_squares = []\n",
        "i = 0\n",
        "while squares[i]=='orange':\n",
        "    new_squares =squares[i]\n",
        "    i = i+1"
      ],
      "execution_count": null,
      "outputs": []
    },
    {
      "cell_type": "code",
      "metadata": {
        "id": "RgUFIUTyw-mB"
      },
      "source": [
        "new_squares"
      ],
      "execution_count": null,
      "outputs": []
    },
    {
      "cell_type": "code",
      "metadata": {
        "id": "3Re8Za0-w-mD"
      },
      "source": [
        "squares = ['orange', 'orange', 'purple', 'blue ', 'orange']\n",
        "new_squares = []\n",
        "i = 0\n",
        "while(squares[i] == 'orange'):\n",
        "    new_squares.append(squares[i])\n",
        "    i = i + 1"
      ],
      "execution_count": null,
      "outputs": []
    },
    {
      "cell_type": "code",
      "metadata": {
        "id": "9YoNUIJJw-mE"
      },
      "source": [
        "new_squares"
      ],
      "execution_count": null,
      "outputs": []
    },
    {
      "cell_type": "code",
      "metadata": {
        "id": "QOHMmT4mw-mF"
      },
      "source": [
        "help(sum)"
      ],
      "execution_count": null,
      "outputs": []
    },
    {
      "cell_type": "code",
      "metadata": {
        "id": "fa5deqdkw-mG"
      },
      "source": [
        "my_tup = (1,2,3,(4),(5))\n",
        "type(sorted(my_tup)"
      ],
      "execution_count": null,
      "outputs": []
    },
    {
      "cell_type": "code",
      "metadata": {
        "id": "ht8a46Cnw-mG"
      },
      "source": [
        "my_dict = {1:'hello',2:'hi'}\n",
        "sorted(my_dict)"
      ],
      "execution_count": null,
      "outputs": []
    },
    {
      "cell_type": "code",
      "metadata": {
        "id": "Qr6RJNKTw-mH"
      },
      "source": [
        "h = \"hello\"\n",
        "sorted(h)"
      ],
      "execution_count": null,
      "outputs": []
    },
    {
      "cell_type": "code",
      "metadata": {
        "id": "Kjx_mLDEw-mH"
      },
      "source": [
        "my_list = [1,2,56,32]\n",
        "my_list.sort()\n",
        "my_list"
      ],
      "execution_count": null,
      "outputs": []
    },
    {
      "cell_type": "code",
      "metadata": {
        "id": "X8N71eOdw-mI"
      },
      "source": [
        "my_tup.sort()"
      ],
      "execution_count": null,
      "outputs": []
    },
    {
      "cell_type": "code",
      "metadata": {
        "id": "CGoDBBp2w-mI"
      },
      "source": [
        "my_dict.sort()"
      ],
      "execution_count": null,
      "outputs": []
    },
    {
      "cell_type": "code",
      "metadata": {
        "id": "Zgl_LDXzw-mJ"
      },
      "source": [
        "h.sort()"
      ],
      "execution_count": null,
      "outputs": []
    },
    {
      "cell_type": "code",
      "metadata": {
        "id": "ecSdka_pw-mJ"
      },
      "source": [
        "def MJ():\n",
        "    \"\"\"\" Hello \"\"\"\n",
        "    print(\"Michael Jackson\")\n",
        "c = MJ()\n"
      ],
      "execution_count": null,
      "outputs": []
    },
    {
      "cell_type": "code",
      "metadata": {
        "id": "niwuvcOEw-mJ",
        "colab": {
          "base_uri": "https://localhost:8080/"
        },
        "outputId": "4121371b-e778-434e-cdc0-099527630c26"
      },
      "source": [
        "help(help)"
      ],
      "execution_count": null,
      "outputs": [
        {
          "output_type": "stream",
          "text": [
            "Help on _Helper in module _sitebuiltins object:\n",
            "\n",
            "class _Helper(builtins.object)\n",
            " |  Define the builtin 'help'.\n",
            " |  \n",
            " |  This is a wrapper around pydoc.help that provides a helpful message\n",
            " |  when 'help' is typed at the Python interactive prompt.\n",
            " |  \n",
            " |  Calling help() at the Python prompt starts an interactive help session.\n",
            " |  Calling help(thing) prints help for the python object 'thing'.\n",
            " |  \n",
            " |  Methods defined here:\n",
            " |  \n",
            " |  __call__(self, *args, **kwds)\n",
            " |      Call self as a function.\n",
            " |  \n",
            " |  __repr__(self)\n",
            " |      Return repr(self).\n",
            " |  \n",
            " |  ----------------------------------------------------------------------\n",
            " |  Data descriptors defined here:\n",
            " |  \n",
            " |  __dict__\n",
            " |      dictionary for instance variables (if defined)\n",
            " |  \n",
            " |  __weakref__\n",
            " |      list of weak references to the object (if defined)\n",
            "\n"
          ],
          "name": "stdout"
        }
      ]
    },
    {
      "cell_type": "code",
      "metadata": {
        "id": "SFshHROiw-mK",
        "colab": {
          "base_uri": "https://localhost:8080/"
        },
        "outputId": "48d79e7c-a89e-4b73-f996-e6b0991d55b8"
      },
      "source": [
        "def add1(a):\n",
        "    \"\"\"\n",
        "    add 1 to a\n",
        "    \"\"\"\n",
        "    b=a+1\n",
        "    return b\n",
        "add1(6)"
      ],
      "execution_count": null,
      "outputs": [
        {
          "output_type": "execute_result",
          "data": {
            "text/plain": [
              "7"
            ]
          },
          "metadata": {
            "tags": []
          },
          "execution_count": 155
        }
      ]
    },
    {
      "cell_type": "code",
      "metadata": {
        "id": "HCspPw9Yw-mK",
        "colab": {
          "base_uri": "https://localhost:8080/"
        },
        "outputId": "61dfb13e-e151-464b-a5a0-ed4c1c2ced2e"
      },
      "source": [
        "help(add1)"
      ],
      "execution_count": null,
      "outputs": [
        {
          "output_type": "stream",
          "text": [
            "Help on function add1 in module __main__:\n",
            "\n",
            "add1(a)\n",
            "    add 1 to a\n",
            "\n"
          ],
          "name": "stdout"
        }
      ]
    },
    {
      "cell_type": "code",
      "metadata": {
        "id": "ZUWoHWeAw-mL"
      },
      "source": [
        "def NOwork():\n",
        "    pass\n",
        "    return None\n",
        "NOwork()"
      ],
      "execution_count": null,
      "outputs": []
    },
    {
      "cell_type": "code",
      "metadata": {
        "id": "NQogMCDgw-mL",
        "colab": {
          "base_uri": "https://localhost:8080/"
        },
        "outputId": "76c4c12e-966a-41e8-8e02-d77c97dfde67"
      },
      "source": [
        "def hello(*names):\n",
        "    for i in names:\n",
        "        print(i)\n",
        "hello(\"richard\",\"michael\",456)"
      ],
      "execution_count": null,
      "outputs": [
        {
          "output_type": "stream",
          "text": [
            "richard\n",
            "michael\n",
            "456\n"
          ],
          "name": "stdout"
        }
      ]
    },
    {
      "cell_type": "code",
      "metadata": {
        "id": "b7ky9Zklw-mM",
        "colab": {
          "base_uri": "https://localhost:8080/"
        },
        "outputId": "fc3db8c9-dde8-4469-a44b-5b5137593c12"
      },
      "source": [
        "x=\"AC\"\n",
        "def AddDc(x):\n",
        "    x=x+\"DC\"\n",
        "    print(x)\n",
        "    return(x)\n",
        "\n",
        "z = AddDc(x)\n",
        "print(x)"
      ],
      "execution_count": null,
      "outputs": [
        {
          "output_type": "stream",
          "text": [
            "ACDC\n",
            "AC\n"
          ],
          "name": "stdout"
        }
      ]
    },
    {
      "cell_type": "code",
      "metadata": {
        "id": "pyVKeNA9w-mM",
        "colab": {
          "base_uri": "https://localhost:8080/"
        },
        "outputId": "c3ada45a-3b70-4185-b9df-334036e7e851"
      },
      "source": [
        "def add(a,b):\n",
        "    \"\"\"\n",
        "    Add a and b variables\n",
        "    \"\"\"\n",
        "    c=a+b\n",
        "    return c\n",
        "x=78\n",
        "y=90\n",
        "z = add(x,y)\n",
        "print(x,\" + \",y,\" = \",z)"
      ],
      "execution_count": null,
      "outputs": [
        {
          "output_type": "stream",
          "text": [
            "78  +  90  =  168\n"
          ],
          "name": "stdout"
        }
      ]
    },
    {
      "cell_type": "code",
      "metadata": {
        "id": "NrdxjJQgw-mM",
        "colab": {
          "base_uri": "https://localhost:8080/"
        },
        "outputId": "2bd77b69-7867-4432-fdd6-f1a42374b807"
      },
      "source": [
        "def MJ():\n",
        "    print(\"Michael Jackson\")\n",
        "def MJ1():\n",
        "    print(\"Michael Jackson\")\n",
        "    return(None)\n",
        "MJ()\n",
        "MJ1()"
      ],
      "execution_count": null,
      "outputs": [
        {
          "output_type": "stream",
          "text": [
            "Michael Jackson\n",
            "Michael Jackson\n"
          ],
          "name": "stdout"
        }
      ]
    },
    {
      "cell_type": "code",
      "metadata": {
        "id": "pTl3lw4Iw-mN",
        "colab": {
          "base_uri": "https://localhost:8080/"
        },
        "outputId": "70ebe7de-303a-41ca-e09a-08b49f698b60"
      },
      "source": [
        "print(MJ())\n",
        "print(MJ1())"
      ],
      "execution_count": null,
      "outputs": [
        {
          "output_type": "stream",
          "text": [
            "Michael Jackson\n",
            "None\n",
            "Michael Jackson\n",
            "None\n"
          ],
          "name": "stdout"
        }
      ]
    },
    {
      "cell_type": "code",
      "metadata": {
        "id": "SS2FYU84w-mN",
        "colab": {
          "base_uri": "https://localhost:8080/",
          "height": 84
        },
        "outputId": "c04af021-aa90-4d73-c615-572c03cd2cb3"
      },
      "source": [
        "# Conacatenate two strings\n",
        "def conca(x,y):\n",
        "    z = x+y\n",
        "    print(\"Concatenated strings-->  \",z)\n",
        "    return z\n",
        "a = str(input(\"Enter first  string \"))\n",
        "b = str(input(\"Enter second string \"))\n",
        "conca(a,b)"
      ],
      "execution_count": null,
      "outputs": [
        {
          "output_type": "stream",
          "text": [
            "Enter first  string \n",
            "Enter second string \n",
            "Concatenated strings-->   \n"
          ],
          "name": "stdout"
        },
        {
          "output_type": "execute_result",
          "data": {
            "application/vnd.google.colaboratory.intrinsic+json": {
              "type": "string"
            },
            "text/plain": [
              "''"
            ]
          },
          "metadata": {
            "tags": []
          },
          "execution_count": 163
        }
      ]
    },
    {
      "cell_type": "code",
      "metadata": {
        "id": "eRhRIbd6w-mO",
        "colab": {
          "base_uri": "https://localhost:8080/"
        },
        "outputId": "53001198-e807-4792-be51-ea4b3ec69010"
      },
      "source": [
        "def type_of_album(artist,album,year):\n",
        "    if year>=2000:\n",
        "        print(\"Modern\")\n",
        "    else:\n",
        "        print(\"Oldie\")\n",
        "artist_name = str(input(\"Enter artist name\"))\n",
        "album_name = str(input(\"Enter album name \"))\n",
        "album_year =  int(input(\"Enter album year\"))\n",
        "type_of_album(artist_name,album_name,album_year)"
      ],
      "execution_count": null,
      "outputs": [
        {
          "output_type": "stream",
          "text": [
            "Enter artist name\n",
            "Enter album name hello\n",
            "Enter album year789\n",
            "Oldie\n"
          ],
          "name": "stdout"
        }
      ]
    },
    {
      "cell_type": "code",
      "metadata": {
        "id": "_9zewhltw-mO"
      },
      "source": [],
      "execution_count": null,
      "outputs": []
    },
    {
      "cell_type": "code",
      "metadata": {
        "id": "41Vbl0Wvw-mO"
      },
      "source": [
        "import matplotlib.pyplot as plt\n",
        "%matplotlib inline\n",
        "class Circle(object):\n",
        "\n",
        "    #Constructior\n",
        "    def __init__(self, radius=3, color='blue'):\n",
        "        self.radius = radius;\n",
        "        self.color = color;\n",
        "    def drawCircle(self):\n",
        "        plt.gca().add_patch(plt.Circle((0,0),radius=self.radius,fc=self.color))\n",
        "        plt.axis('scaled')\n",
        "        plt.show()"
      ],
      "execution_count": null,
      "outputs": []
    },
    {
      "cell_type": "code",
      "metadata": {
        "id": "AVQaXwbkw-mP"
      },
      "source": [
        "RedCircle = Circle(10,'red')"
      ],
      "execution_count": null,
      "outputs": []
    },
    {
      "cell_type": "code",
      "metadata": {
        "id": "sEv4qkhMw-mP",
        "colab": {
          "base_uri": "https://localhost:8080/",
          "height": 35
        },
        "outputId": "a797d12d-d0c3-4914-9ece-c949af0abf61"
      },
      "source": [
        "\n",
        "RedCircle.color"
      ],
      "execution_count": null,
      "outputs": [
        {
          "output_type": "execute_result",
          "data": {
            "application/vnd.google.colaboratory.intrinsic+json": {
              "type": "string"
            },
            "text/plain": [
              "'red'"
            ]
          },
          "metadata": {
            "tags": []
          },
          "execution_count": 167
        }
      ]
    },
    {
      "cell_type": "code",
      "metadata": {
        "id": "_JPxIFMDw-mQ"
      },
      "source": [
        "# Always take __init__ two whitespaces\n",
        "class Rectangle(object):\n",
        "\n",
        "    def __init__(self , color , height , width):\n",
        "        self.height = height\n",
        "        self.width = width\n",
        "        self.color = color\n",
        "\n",
        "    def drawRectangle(self):\n",
        "        plt.gca().add_patch(plt.Rectangle((0,0),self.width,self.height,fc=self.color))"
      ],
      "execution_count": null,
      "outputs": []
    },
    {
      "cell_type": "code",
      "metadata": {
        "id": "XabP5mggw-mQ",
        "colab": {
          "base_uri": "https://localhost:8080/",
          "height": 35
        },
        "outputId": "0ea205d0-3540-4466-8e9d-a474a3db46f1"
      },
      "source": [
        "RedCircle.color=\"red\"\n",
        "RedCircle.color"
      ],
      "execution_count": null,
      "outputs": [
        {
          "output_type": "execute_result",
          "data": {
            "application/vnd.google.colaboratory.intrinsic+json": {
              "type": "string"
            },
            "text/plain": [
              "'red'"
            ]
          },
          "metadata": {
            "tags": []
          },
          "execution_count": 169
        }
      ]
    },
    {
      "cell_type": "code",
      "metadata": {
        "id": "jcOK6xuAw-mQ",
        "colab": {
          "base_uri": "https://localhost:8080/",
          "height": 265
        },
        "outputId": "ffbb5681-a1fc-4cb3-c232-d6b5635ca145"
      },
      "source": [
        "RedCircle.drawCircle()"
      ],
      "execution_count": null,
      "outputs": [
        {
          "output_type": "display_data",
          "data": {
            "image/png": "[encoded data removed]",
            "text/plain": [
              "<Figure size 432x288 with 1 Axes>"
            ]
          },
          "metadata": {
            "tags": [],
            "needs_background": "light"
          }
        }
      ]
    },
    {
      "cell_type": "code",
      "metadata": {
        "id": "SWmYey6bw-mR",
        "colab": {
          "base_uri": "https://localhost:8080/",
          "height": 269
        },
        "outputId": "d5f7db2a-2d68-47b0-9cbd-48128121682b"
      },
      "source": [
        "Rect1 = Rectangle(\"#590e9e\",12,78)\n",
        "Rect1.drawRectangle()"
      ],
      "execution_count": null,
      "outputs": [
        {
          "output_type": "display_data",
          "data": {
            "image/png": "[encoded data removed]",
            "text/plain": [
              "<Figure size 432x288 with 1 Axes>"
            ]
          },
          "metadata": {
            "tags": [],
            "needs_background": "light"
          }
        }
      ]
    },
    {
      "cell_type": "markdown",
      "metadata": {
        "id": "lDV1X5h3w-mR"
      },
      "source": [
        "# Files"
      ]
    },
    {
      "cell_type": "markdown",
      "metadata": {
        "id": "4CG2iQ2-w-mS"
      },
      "source": [
        " ## :Reading files with open"
      ]
    },
    {
      "cell_type": "code",
      "metadata": {
        "id": "MSOY6zHow-mS",
        "colab": {
          "base_uri": "https://localhost:8080/",
          "height": 160
        },
        "outputId": "67c9e3a6-5a87-4c19-f201-5cf931749fb6"
      },
      "source": [
        "ex1 = open(\"C:\\\\Users\\\\Dell\\\\Desktop\\\\Example1.txt\",\"r\")"
      ],
      "execution_count": null,
      "outputs": [
        {
          "output_type": "error",
          "ename": "FileNotFoundError",
          "evalue": "ignored",
          "traceback": [
            "\u001b[0;31m---------------------------------------------------------------------------\u001b[0m",
            "\u001b[0;31mFileNotFoundError\u001b[0m                         Traceback (most recent call last)",
            "\u001b[0;32m<ipython-input-172-b0fa732926b5>\u001b[0m in \u001b[0;36m<module>\u001b[0;34m()\u001b[0m\n\u001b[0;32m----> 1\u001b[0;31m \u001b[0mex1\u001b[0m \u001b[0;34m=\u001b[0m \u001b[0mopen\u001b[0m\u001b[0;34m(\u001b[0m\u001b[0;34m\"C:\\\\Users\\\\Dell\\\\Desktop\\\\Example1.txt\"\u001b[0m\u001b[0;34m,\u001b[0m\u001b[0;34m\"r\"\u001b[0m\u001b[0;34m)\u001b[0m\u001b[0;34m\u001b[0m\u001b[0;34m\u001b[0m\u001b[0m\n\u001b[0m",
            "\u001b[0;31mFileNotFoundError\u001b[0m: [Errno 2] No such file or directory: 'C:\\\\Users\\\\Dell\\\\Desktop\\\\Example1.txt'"
          ]
        }
      ]
    },
    {
      "cell_type": "code",
      "metadata": {
        "id": "fmr_SoHCw-mS"
      },
      "source": [
        "# print the name of the file\n",
        "ex1.name"
      ],
      "execution_count": null,
      "outputs": []
    },
    {
      "cell_type": "code",
      "metadata": {
        "id": "-Geu0kiPw-mT"
      },
      "source": [
        "ex1.mode"
      ],
      "execution_count": null,
      "outputs": []
    },
    {
      "cell_type": "code",
      "metadata": {
        "id": "Vd32OIHjw-mT"
      },
      "source": [
        "FileContent = ex1.read()\n",
        "FileContent"
      ],
      "execution_count": null,
      "outputs": []
    },
    {
      "cell_type": "code",
      "metadata": {
        "id": "12lthtcuw-mU"
      },
      "source": [
        "# print the fle with '\\n' as a new line\n",
        "print(FileContent)"
      ],
      "execution_count": null,
      "outputs": []
    },
    {
      "cell_type": "code",
      "metadata": {
        "id": "2QV6YYrrw-mU"
      },
      "source": [
        "type(FileContent)"
      ],
      "execution_count": null,
      "outputs": []
    },
    {
      "cell_type": "markdown",
      "metadata": {
        "id": "CXQ7jHFWw-mU"
      },
      "source": [
        "## A Better way to open a file"
      ]
    },
    {
      "cell_type": "code",
      "metadata": {
        "id": "zhFrgPfgw-mV"
      },
      "source": [
        "example1 = \"C:\\\\Users\\\\Dell\\\\Desktop\\\\Example1.txt\"\n",
        "with open(example1,\"r\") as file1:\n",
        "    FileContent = file1.read()\n",
        "    print(FileContent)\n",
        ""
      ],
      "execution_count": null,
      "outputs": []
    },
    {
      "cell_type": "code",
      "metadata": {
        "id": "G7QI7WKGw-mV"
      },
      "source": [
        "# Verify if the file is closed\n",
        "file1.closed"
      ],
      "execution_count": null,
      "outputs": []
    },
    {
      "cell_type": "code",
      "metadata": {
        "id": "Og7AYpvPw-mW"
      },
      "source": [
        "# Read first four characters\n",
        "with open(example1,\"r\") as file1:\n",
        "    FileContent = file1.read(4)\n",
        "    print(FileContent)"
      ],
      "execution_count": null,
      "outputs": []
    },
    {
      "cell_type": "markdown",
      "metadata": {
        "id": "oQbH3XHVw-mX"
      },
      "source": [
        "Once the method __.read(4)__ is called , the first 4 characters are called.If we call the method again , the next __4__ characters are called.<br>\n",
        "The output for the following cell will demonstrate the process for different inputs to the method read(). __:__"
      ]
    },
    {
      "cell_type": "code",
      "metadata": {
        "id": "m_dWa1Mtw-mX"
      },
      "source": [
        "with open(example1,\"r\") as file1:\n",
        "    print(file1.read(4))\n",
        "    print(file1.read(4))\n",
        "    print(file1.read(7))\n",
        "    print(file1.read(15))"
      ],
      "execution_count": null,
      "outputs": []
    },
    {
      "cell_type": "markdown",
      "metadata": {
        "id": "4sH6LalZw-mY"
      },
      "source": [
        "<img src=\"https://s3-api.us-geo.objectstorage.softlayer.net/cf-courses-data/CognitiveClass/PY0101EN/Chapter%204/Images/ReadChar.png\" width=\"500\" />"
      ]
    },
    {
      "cell_type": "code",
      "metadata": {
        "id": "jjLxmqQLw-mZ"
      },
      "source": [
        "# Read one line of a file\n",
        "with open(example1,\"r\") as file2:\n",
        "    print(file2.readline())"
      ],
      "execution_count": null,
      "outputs": []
    },
    {
      "cell_type": "code",
      "metadata": {
        "id": "m3Ytc0M6w-ma"
      },
      "source": [
        "\n",
        "with open(example1,\"r\") as file3:\n",
        "    List  = file3.readlines()\n",
        "    print(List)"
      ],
      "execution_count": null,
      "outputs": []
    },
    {
      "cell_type": "code",
      "metadata": {
        "id": "0bombKHqw-mb"
      },
      "source": [
        "print(List[0])"
      ],
      "execution_count": null,
      "outputs": []
    },
    {
      "cell_type": "code",
      "metadata": {
        "id": "bBJ68R34w-mb"
      },
      "source": [
        "with open(example1,\"r\") as file4:\n",
        "    for i,line in enumerate(file4):\n",
        "        print(\"Iteration\",str(i),\" : \",line)\n",
        "        i = i+1"
      ],
      "execution_count": null,
      "outputs": []
    },
    {
      "cell_type": "markdown",
      "metadata": {
        "id": "52AXMjCqw-mc"
      },
      "source": [
        "# WRITING FILES"
      ]
    },
    {
      "cell_type": "code",
      "metadata": {
        "id": "W66jDPjSw-mc"
      },
      "source": [
        "with open(\"G:\\\\Example2.txt\",\"w\") as writefile:\n",
        "    writefile.write(\"This is line A\\n\")\n",
        "    writefile.write(\"This is line B\\n\")\n",
        ""
      ],
      "execution_count": null,
      "outputs": []
    },
    {
      "cell_type": "markdown",
      "metadata": {
        "id": "ZuOm6dFMw-md"
      },
      "source": [
        "We use the append mode __'a'__ to write more lines to a file"
      ]
    },
    {
      "cell_type": "code",
      "metadata": {
        "id": "xDcvzCtew-md"
      },
      "source": [
        "with open(\"G:\\\\Example2.txt\",\"a\") as appendfile:\n",
        "    appendfile.write(\"This is line C\\n\")"
      ],
      "execution_count": null,
      "outputs": []
    },
    {
      "cell_type": "code",
      "metadata": {
        "id": "W7Xb8mJkw-md"
      },
      "source": [
        "# Write text to the file by using a list\n",
        "List = [\"This is line 1\\n\",\"This is line 2\\n\",\"This is line 3\\n\"]\n",
        "with open(\"Example2.txt\",\"w\") as writefile:\n",
        "    for line in List:\n",
        "        print(line)\n",
        "        writefile.write(line)"
      ],
      "execution_count": null,
      "outputs": []
    },
    {
      "cell_type": "markdown",
      "metadata": {
        "id": "f90fuUvAw-me"
      },
      "source": [
        "## Copy a file"
      ]
    },
    {
      "cell_type": "code",
      "metadata": {
        "id": "Y1Vti-kcw-me"
      },
      "source": [
        "with open(\"Example2.txt\",\"r\") as readfile:\n",
        "    with open(\"Example3.txt\",\"w\") as writefile:\n",
        "        for line in readfile:\n",
        "            print(line)\n",
        "            writefile.write(line)"
      ],
      "execution_count": null,
      "outputs": []
    },
    {
      "cell_type": "code",
      "metadata": {
        "id": "U3PcwjQ7w-mf"
      },
      "source": [
        "import pandas as pd"
      ],
      "execution_count": null,
      "outputs": []
    },
    {
      "cell_type": "code",
      "metadata": {
        "id": "j6ElIu81w-mf"
      },
      "source": [],
      "execution_count": null,
      "outputs": []
    },
    {
      "cell_type": "code",
      "metadata": {
        "id": "2Ce9iEC0w-mf"
      },
      "source": [
        "df"
      ],
      "execution_count": null,
      "outputs": []
    },
    {
      "cell_type": "code",
      "metadata": {
        "id": "kqEstGDYw-mg"
      },
      "source": [
        "path = \"C:\\\\Users\\\\DELL\\\\Desktop\\\\app_rating.csv\"\n",
        "df =  pd.read_csv(path)"
      ],
      "execution_count": null,
      "outputs": []
    },
    {
      "cell_type": "markdown",
      "metadata": {
        "id": "h-mE09nRP44N"
      },
      "source": [
        "## **PANDAS EXERCISES**"
      ]
    },
    {
      "cell_type": "code",
      "metadata": {
        "id": "nQaAXhfUTNQY"
      },
      "source": [
        "import pandas as pd\n"
      ],
      "execution_count": null,
      "outputs": []
    },
    {
      "cell_type": "markdown",
      "metadata": {
        "id": "2j7eOj9szYv5"
      },
      "source": [
        "### SERIES"
      ]
    },
    {
      "cell_type": "code",
      "metadata": {
        "id": "Wq0T4xnFw-mg",
        "colab": {
          "base_uri": "https://localhost:8080/"
        },
        "outputId": "68f2fc6a-6aa8-404d-be98-f93a024617a6"
      },
      "source": [
        "# Series\n",
        "\n",
        "series_a = pd.Series([[45,12,78,45],[{'key 1':123}]])\n",
        "series_a"
      ],
      "execution_count": null,
      "outputs": [
        {
          "output_type": "execute_result",
          "data": {
            "text/plain": [
              "0    [45, 12, 78, 45]\n",
              "1    [{'key 1': 123}]\n",
              "dtype: object"
            ]
          },
          "metadata": {
            "tags": []
          },
          "execution_count": 3
        }
      ]
    },
    {
      "cell_type": "code",
      "metadata": {
        "id": "9sL4Ay3oTrtq"
      },
      "source": [
        "# series can contain only one datatype or datastructure i.e it can either be a list , dict,ndarray,scalr"
      ],
      "execution_count": null,
      "outputs": []
    },
    {
      "cell_type": "code",
      "metadata": {
        "colab": {
          "base_uri": "https://localhost:8080/"
        },
        "id": "JPZzS_D-P2HN",
        "outputId": "b78909ac-a002-44e3-ff81-598f6b1bd296"
      },
      "source": [
        "# Creating a series from a list\n",
        "list_series = pd.Series(list('abc'))\n",
        "list_series"
      ],
      "execution_count": null,
      "outputs": [
        {
          "output_type": "execute_result",
          "data": {
            "text/plain": [
              "0    a\n",
              "1    b\n",
              "2    c\n",
              "dtype: object"
            ]
          },
          "metadata": {
            "tags": []
          },
          "execution_count": 5
        }
      ]
    },
    {
      "cell_type": "code",
      "metadata": {
        "colab": {
          "base_uri": "https://localhost:8080/"
        },
        "id": "zjOUMBI8ZHDP",
        "outputId": "1e97ae44-9fe4-474b-a889-ffd8ceeaba13"
      },
      "source": [
        "list_series1 = pd.Series([45,12,78,56,951])\n",
        "list_series1"
      ],
      "execution_count": null,
      "outputs": [
        {
          "output_type": "execute_result",
          "data": {
            "text/plain": [
              "0     45\n",
              "1     12\n",
              "2     78\n",
              "3     56\n",
              "4    951\n",
              "dtype: int64"
            ]
          },
          "metadata": {
            "tags": []
          },
          "execution_count": 6
        }
      ]
    },
    {
      "cell_type": "code",
      "metadata": {
        "colab": {
          "base_uri": "https://localhost:8080/"
        },
        "id": "h9u8peWsZW7E",
        "outputId": "8f076dd8-a9f1-45f0-c8f7-db651df8fb51"
      },
      "source": [
        "list_series2= pd.Series(list('4512789365'))\n",
        "list_series2 = list_series2.astype('int64')\n",
        "list_series2"
      ],
      "execution_count": null,
      "outputs": [
        {
          "output_type": "execute_result",
          "data": {
            "text/plain": [
              "0    4\n",
              "1    5\n",
              "2    1\n",
              "3    2\n",
              "4    7\n",
              "5    8\n",
              "6    9\n",
              "7    3\n",
              "8    6\n",
              "9    5\n",
              "dtype: int64"
            ]
          },
          "metadata": {
            "tags": []
          },
          "execution_count": 7
        }
      ]
    },
    {
      "cell_type": "code",
      "metadata": {
        "id": "lzE3cpi8Xc9r"
      },
      "source": [
        "import pandas as pd\n",
        "import numpy as np"
      ],
      "execution_count": null,
      "outputs": []
    },
    {
      "cell_type": "code",
      "metadata": {
        "colab": {
          "base_uri": "https://localhost:8080/",
          "height": 135
        },
        "id": "Kl4rALYqZmG1",
        "outputId": "c28454d3-471f-4242-f7b7-da5704ef3270"
      },
      "source": [
        "\n",
        "\n",
        "list_series3 = pd.Series([45,12],[45,230]],index=[0,1])  # On passing a 2d array list it becomes a 1d list by fitting each 1d in a row\n",
        "list_series3"
      ],
      "execution_count": null,
      "outputs": [
        {
          "output_type": "error",
          "ename": "SyntaxError",
          "evalue": "ignored",
          "traceback": [
            "\u001b[0;36m  File \u001b[0;32m\"<ipython-input-9-a94ad2706079>\"\u001b[0;36m, line \u001b[0;32m3\u001b[0m\n\u001b[0;31m    list_series3 = pd.Series([45,12],[45,230]],index=[0,1])  # On passing a 2d array list it becomes a 1d list by fitting each 1d in a row\u001b[0m\n\u001b[0m                                             ^\u001b[0m\n\u001b[0;31mSyntaxError\u001b[0m\u001b[0;31m:\u001b[0m invalid syntax\n"
          ]
        }
      ]
    },
    {
      "cell_type": "code",
      "metadata": {
        "id": "Ql5i9nfcaBIt"
      },
      "source": [
        "list_series4 = pd.Series([[['Column'],[78,56]],[[258,147],[369,78]]])\n",
        "list_series4"
      ],
      "execution_count": null,
      "outputs": []
    },
    {
      "cell_type": "code",
      "metadata": {
        "id": "8DkuC2b-bsxo"
      },
      "source": [
        "list_a = [[(123),{'Key':45}],[{123,'good'}]]\n",
        "pd.Series(list_a)"
      ],
      "execution_count": null,
      "outputs": []
    },
    {
      "cell_type": "code",
      "metadata": {
        "id": "T8w1L4n8eCGs"
      },
      "source": [
        "### Creating a series from  a ndarray\n",
        "numpy_1  = np.array([45,124,1.23,78.564789])\n",
        "numpy_ser = pd.Series(numpy_1)\n",
        "numpy_ser"
      ],
      "execution_count": null,
      "outputs": []
    },
    {
      "cell_type": "code",
      "metadata": {
        "id": "LyNZC5aChFcA"
      },
      "source": [
        "numpy_ser1 = pd.Series(np.array([['India','Pakistan'],['Hello']]))\n",
        "numpy_ser1\n"
      ],
      "execution_count": null,
      "outputs": []
    },
    {
      "cell_type": "code",
      "metadata": {
        "id": "Tj4AO-Gdhjdy"
      },
      "source": [
        "nump = np.array([[['India'],['Africa']],[['Algeria'],['Nigera']]])\n",
        "numpy_ser3  = pd.Series(nump])"
      ],
      "execution_count": null,
      "outputs": []
    },
    {
      "cell_type": "code",
      "metadata": {
        "id": "fTG0JKYRiIq2"
      },
      "source": [
        "h= [[[45,78],[]],[[45],[78]]]"
      ],
      "execution_count": null,
      "outputs": []
    },
    {
      "cell_type": "code",
      "metadata": {
        "id": "-qtub7-Dihh6"
      },
      "source": [
        "arr = np.array([[1,2,3],[4,5,6]])\n",
        "print(arr)"
      ],
      "execution_count": null,
      "outputs": []
    },
    {
      "cell_type": "code",
      "metadata": {
        "id": "GjZHCUYrp8Ol"
      },
      "source": [
        "a_3d_array = np.array([[[1, 2], [3, 4]], [[5, 6], [7, 8]]])\n",
        "a_3d_array\n"
      ],
      "execution_count": null,
      "outputs": []
    },
    {
      "cell_type": "code",
      "metadata": {
        "id": "r7W_8uWdq5cY"
      },
      "source": [
        "np.array([['78'],[45,4]],dtype='object')"
      ],
      "execution_count": null,
      "outputs": []
    },
    {
      "cell_type": "code",
      "metadata": {
        "id": "xB6uw7D5_QXK",
        "colab": {
          "base_uri": "https://localhost:8080/"
        },
        "outputId": "7f9f4d33-8151-4358-d920-6d05abd58143"
      },
      "source": [
        "nd_ = np.array(['India','Pakistan','China','Myanmar','Bangladesh','Afghanistan'])\n",
        "numpy_ser2 = pd.Series(nd_,index=[1,2,3,4,5,6])\n",
        "numpy_ser2.dtypes"
      ],
      "execution_count": null,
      "outputs": [
        {
          "output_type": "execute_result",
          "data": {
            "text/plain": [
              "dtype('O')"
            ]
          },
          "metadata": {
            "tags": []
          },
          "execution_count": 10
        }
      ]
    },
    {
      "cell_type": "code",
      "metadata": {
        "id": "x7QkXPPdBILT",
        "colab": {
          "base_uri": "https://localhost:8080/"
        },
        "outputId": "5102859d-52f8-4a4b-eb0b-75089117f9da"
      },
      "source": [
        "# Creating a series from a dictionary\n",
        "# We have actually not made from a dictionary but since ther are index keys and values also\n",
        "# Therefore it can be considered as a dictionary\n",
        "dict_series = pd.Series(['Delhi','Rawalpindi','Sydney'],index=['India','Pakistan','Australia'])\n",
        "dict_series"
      ],
      "execution_count": null,
      "outputs": [
        {
          "output_type": "execute_result",
          "data": {
            "text/plain": [
              "India             Delhi\n",
              "Pakistan     Rawalpindi\n",
              "Australia        Sydney\n",
              "dtype: object"
            ]
          },
          "metadata": {
            "tags": []
          },
          "execution_count": 11
        }
      ]
    },
    {
      "cell_type": "code",
      "metadata": {
        "id": "hdcuYMN2DBSo",
        "colab": {
          "base_uri": "https://localhost:8080/"
        },
        "outputId": "c9e3e2a6-a864-4f94-9ed0-a37887c54396"
      },
      "source": [
        "dict_ = {'India':'Delhi','Pakistan':'Rawalpindi','Australia':'Sydney'}\n",
        "dict_series1= pd.Series(dict_)\n",
        "print(dict_series1)\n",
        "dict(dict_series1)"
      ],
      "execution_count": null,
      "outputs": [
        {
          "output_type": "stream",
          "text": [
            "India             Delhi\n",
            "Pakistan     Rawalpindi\n",
            "Australia        Sydney\n",
            "dtype: object\n"
          ],
          "name": "stdout"
        },
        {
          "output_type": "execute_result",
          "data": {
            "text/plain": [
              "{'Australia': 'Sydney', 'India': 'Delhi', 'Pakistan': 'Rawalpindi'}"
            ]
          },
          "metadata": {
            "tags": []
          },
          "execution_count": 12
        }
      ]
    },
    {
      "cell_type": "markdown",
      "metadata": {
        "id": "7NVxTBlH70ap"
      },
      "source": [
        "\n",
        "\n",
        "> Creating a series from  scalar value\n",
        "\n"
      ]
    },
    {
      "cell_type": "code",
      "metadata": {
        "id": "sEd8UCLkDapF"
      },
      "source": [
        "import pandas as pd"
      ],
      "execution_count": null,
      "outputs": []
    },
    {
      "cell_type": "code",
      "metadata": {
        "id": "tQNTaqpc79CF",
        "colab": {
          "base_uri": "https://localhost:8080/"
        },
        "outputId": "96a051ba-d855-4758-9803-d1143ef514d7"
      },
      "source": [
        "scalar_series = pd.Series(.5,index=['a','b','c','d','e'])\n",
        "print(scalar_series)"
      ],
      "execution_count": null,
      "outputs": [
        {
          "output_type": "stream",
          "text": [
            "a    0.5\n",
            "b    0.5\n",
            "c    0.5\n",
            "d    0.5\n",
            "e    0.5\n",
            "dtype: float64\n"
          ],
          "name": "stdout"
        }
      ]
    },
    {
      "cell_type": "code",
      "metadata": {
        "id": "sNLhO3ni8XVz",
        "colab": {
          "base_uri": "https://localhost:8080/"
        },
        "outputId": "8c23139d-0ebf-4b1e-c3cf-a7d0e44d0c2a"
      },
      "source": [
        "scalar_series"
      ],
      "execution_count": null,
      "outputs": [
        {
          "output_type": "execute_result",
          "data": {
            "text/plain": [
              "a    0.5\n",
              "b    0.5\n",
              "c    0.5\n",
              "d    0.5\n",
              "e    0.5\n",
              "dtype: float64"
            ]
          },
          "metadata": {
            "tags": []
          },
          "execution_count": 15
        }
      ]
    },
    {
      "cell_type": "code",
      "metadata": {
        "id": "f1B-nObL8YqT",
        "colab": {
          "base_uri": "https://localhost:8080/",
          "height": 171
        },
        "outputId": "fd30b6e8-f958-4280-e27f-1e1fe03ec78a"
      },
      "source": [
        "scalar_series * a_3d_array.ravel()[0:5]"
      ],
      "execution_count": null,
      "outputs": [
        {
          "output_type": "error",
          "ename": "NameError",
          "evalue": "ignored",
          "traceback": [
            "\u001b[0;31m---------------------------------------------------------------------------\u001b[0m",
            "\u001b[0;31mNameError\u001b[0m                                 Traceback (most recent call last)",
            "\u001b[0;32m<ipython-input-16-aba9716a8edb>\u001b[0m in \u001b[0;36m<module>\u001b[0;34m()\u001b[0m\n\u001b[0;32m----> 1\u001b[0;31m \u001b[0mscalar_series\u001b[0m \u001b[0;34m*\u001b[0m \u001b[0ma_3d_array\u001b[0m\u001b[0;34m.\u001b[0m\u001b[0mravel\u001b[0m\u001b[0;34m(\u001b[0m\u001b[0;34m)\u001b[0m\u001b[0;34m[\u001b[0m\u001b[0;36m0\u001b[0m\u001b[0;34m:\u001b[0m\u001b[0;36m5\u001b[0m\u001b[0;34m]\u001b[0m\u001b[0;34m\u001b[0m\u001b[0;34m\u001b[0m\u001b[0m\n\u001b[0m",
            "\u001b[0;31mNameError\u001b[0m: name 'a_3d_array' is not defined"
          ]
        }
      ]
    },
    {
      "cell_type": "code",
      "metadata": {
        "id": "7o17TJGh8ljD"
      },
      "source": [
        "a_3d_array.ravel()[0:5]"
      ],
      "execution_count": null,
      "outputs": []
    },
    {
      "cell_type": "code",
      "metadata": {
        "id": "29ghE46h8o3j"
      },
      "source": [
        "dict_series1"
      ],
      "execution_count": null,
      "outputs": []
    },
    {
      "cell_type": "code",
      "metadata": {
        "id": "LkJhonFW9gIE"
      },
      "source": [
        "dict_series[0]"
      ],
      "execution_count": null,
      "outputs": []
    },
    {
      "cell_type": "code",
      "metadata": {
        "id": "cZwE3RfF9GlT"
      },
      "source": [
        "dict_series1[0:2]"
      ],
      "execution_count": null,
      "outputs": []
    },
    {
      "cell_type": "code",
      "metadata": {
        "id": "w3u6rD7E9K0D"
      },
      "source": [
        "dict_series1.loc['India']"
      ],
      "execution_count": null,
      "outputs": []
    },
    {
      "cell_type": "code",
      "metadata": {
        "id": "hTBb2IpX9Th1"
      },
      "source": [
        "dict_series1.iloc[1]"
      ],
      "execution_count": null,
      "outputs": []
    },
    {
      "cell_type": "code",
      "metadata": {
        "id": "0NPOQGav9Ymz",
        "colab": {
          "base_uri": "https://localhost:8080/",
          "height": 35
        },
        "outputId": "70a9614c-bf07-448d-96cf-0531ac2a0473"
      },
      "source": [
        "dict_series1['Pakistan']"
      ],
      "execution_count": null,
      "outputs": [
        {
          "output_type": "execute_result",
          "data": {
            "application/vnd.google.colaboratory.intrinsic+json": {
              "type": "string"
            },
            "text/plain": [
              "'Rawalpindi'"
            ]
          },
          "metadata": {
            "tags": []
          },
          "execution_count": 31
        }
      ]
    },
    {
      "cell_type": "code",
      "metadata": {
        "id": "5gvhPJPg9lej",
        "colab": {
          "base_uri": "https://localhost:8080/",
          "height": 35
        },
        "outputId": "0f12aab7-b130-48b0-fb78-d8c7701d66f8"
      },
      "source": [
        "numpy_ser2.iloc[0]"
      ],
      "execution_count": null,
      "outputs": [
        {
          "output_type": "execute_result",
          "data": {
            "application/vnd.google.colaboratory.intrinsic+json": {
              "type": "string"
            },
            "text/plain": [
              "'India'"
            ]
          },
          "metadata": {
            "tags": []
          },
          "execution_count": 17
        }
      ]
    },
    {
      "cell_type": "code",
      "metadata": {
        "id": "HSzdm8Ip9xui",
        "colab": {
          "base_uri": "https://localhost:8080/",
          "height": 35
        },
        "outputId": "e798d25d-c886-433b-d1e7-d70b75beeeea"
      },
      "source": [
        "list_series[0]"
      ],
      "execution_count": null,
      "outputs": [
        {
          "output_type": "execute_result",
          "data": {
            "application/vnd.google.colaboratory.intrinsic+json": {
              "type": "string"
            },
            "text/plain": [
              "'a'"
            ]
          },
          "metadata": {
            "tags": []
          },
          "execution_count": 18
        }
      ]
    },
    {
      "cell_type": "markdown",
      "metadata": {
        "id": "PuTQxzzOZ6hj"
      },
      "source": [
        "\n",
        "\n",
        "> Vectorizing operations in Series ( Arithmeteic operations on Series)\n",
        "\n"
      ]
    },
    {
      "cell_type": "code",
      "metadata": {
        "id": "_D0ppp88Yw_c",
        "colab": {
          "base_uri": "https://localhost:8080/",
          "height": 171
        },
        "outputId": "4fa37573-b29a-436b-f82a-ff28808ed79b"
      },
      "source": [
        "numpy_ser+ list_series3"
      ],
      "execution_count": null,
      "outputs": [
        {
          "output_type": "error",
          "ename": "NameError",
          "evalue": "ignored",
          "traceback": [
            "\u001b[0;31m---------------------------------------------------------------------------\u001b[0m",
            "\u001b[0;31mNameError\u001b[0m                                 Traceback (most recent call last)",
            "\u001b[0;32m<ipython-input-23-beee704f894a>\u001b[0m in \u001b[0;36m<module>\u001b[0;34m()\u001b[0m\n\u001b[0;32m----> 1\u001b[0;31m \u001b[0mnumpy_ser\u001b[0m\u001b[0;34m+\u001b[0m \u001b[0mlist_series3\u001b[0m\u001b[0;34m\u001b[0m\u001b[0;34m\u001b[0m\u001b[0m\n\u001b[0m",
            "\u001b[0;31mNameError\u001b[0m: name 'numpy_ser' is not defined"
          ]
        }
      ]
    },
    {
      "cell_type": "code",
      "metadata": {
        "id": "g8e4g6OiaI-4",
        "colab": {
          "base_uri": "https://localhost:8080/",
          "height": 171
        },
        "outputId": "2266701e-afe0-4115-aebd-0c92b35989ea"
      },
      "source": [
        "list_series3"
      ],
      "execution_count": null,
      "outputs": [
        {
          "output_type": "error",
          "ename": "NameError",
          "evalue": "ignored",
          "traceback": [
            "\u001b[0;31m---------------------------------------------------------------------------\u001b[0m",
            "\u001b[0;31mNameError\u001b[0m                                 Traceback (most recent call last)",
            "\u001b[0;32m<ipython-input-24-8c3b7f5a0ff0>\u001b[0m in \u001b[0;36m<module>\u001b[0;34m()\u001b[0m\n\u001b[0;32m----> 1\u001b[0;31m \u001b[0mlist_series3\u001b[0m\u001b[0;34m\u001b[0m\u001b[0;34m\u001b[0m\u001b[0m\n\u001b[0m",
            "\u001b[0;31mNameError\u001b[0m: name 'list_series3' is not defined"
          ]
        }
      ]
    },
    {
      "cell_type": "code",
      "metadata": {
        "id": "1EC9ZggYaVgG"
      },
      "source": [
        "list_series5  = pd.Series([1,2,3,4,5,6,7,8,9])\n",
        "numpy_ser + list_series5"
      ],
      "execution_count": null,
      "outputs": []
    },
    {
      "cell_type": "code",
      "metadata": {
        "id": "B-jDPdOddgL7"
      },
      "source": [
        "list_series5"
      ],
      "execution_count": null,
      "outputs": []
    },
    {
      "cell_type": "code",
      "metadata": {
        "id": "1rxlyeW2anfu",
        "colab": {
          "base_uri": "https://localhost:8080/",
          "height": 358
        },
        "outputId": "ca11900d-0ffb-4a81-e410-1df2898d1f05"
      },
      "source": [
        "list_series6  = pd.Series([[1,2,3,4],[5,6,7,8,9,456]])\n",
        "numpy_ser3  = pd.Series(np.array([['45','12'],[1,2]]))\n",
        "numpy_ser3 + list_series6"
      ],
      "execution_count": null,
      "outputs": [
        {
          "output_type": "error",
          "ename": "Exception",
          "evalue": "ignored",
          "traceback": [
            "\u001b[0;31m---------------------------------------------------------------------------\u001b[0m",
            "\u001b[0;31mException\u001b[0m                                 Traceback (most recent call last)",
            "\u001b[0;32m<ipython-input-26-b18fc0334a21>\u001b[0m in \u001b[0;36m<module>\u001b[0;34m()\u001b[0m\n\u001b[1;32m      1\u001b[0m \u001b[0mlist_series6\u001b[0m  \u001b[0;34m=\u001b[0m \u001b[0mpd\u001b[0m\u001b[0;34m.\u001b[0m\u001b[0mSeries\u001b[0m\u001b[0;34m(\u001b[0m\u001b[0;34m[\u001b[0m\u001b[0;34m[\u001b[0m\u001b[0;36m1\u001b[0m\u001b[0;34m,\u001b[0m\u001b[0;36m2\u001b[0m\u001b[0;34m,\u001b[0m\u001b[0;36m3\u001b[0m\u001b[0;34m,\u001b[0m\u001b[0;36m4\u001b[0m\u001b[0;34m]\u001b[0m\u001b[0;34m,\u001b[0m\u001b[0;34m[\u001b[0m\u001b[0;36m5\u001b[0m\u001b[0;34m,\u001b[0m\u001b[0;36m6\u001b[0m\u001b[0;34m,\u001b[0m\u001b[0;36m7\u001b[0m\u001b[0;34m,\u001b[0m\u001b[0;36m8\u001b[0m\u001b[0;34m,\u001b[0m\u001b[0;36m9\u001b[0m\u001b[0;34m,\u001b[0m\u001b[0;36m456\u001b[0m\u001b[0;34m]\u001b[0m\u001b[0;34m]\u001b[0m\u001b[0;34m)\u001b[0m\u001b[0;34m\u001b[0m\u001b[0;34m\u001b[0m\u001b[0m\n\u001b[0;32m----> 2\u001b[0;31m \u001b[0mnumpy_ser3\u001b[0m  \u001b[0;34m=\u001b[0m \u001b[0mpd\u001b[0m\u001b[0;34m.\u001b[0m\u001b[0mSeries\u001b[0m\u001b[0;34m(\u001b[0m\u001b[0mnp\u001b[0m\u001b[0;34m.\u001b[0m\u001b[0marray\u001b[0m\u001b[0;34m(\u001b[0m\u001b[0;34m[\u001b[0m\u001b[0;34m[\u001b[0m\u001b[0;34m'45'\u001b[0m\u001b[0;34m,\u001b[0m\u001b[0;34m'12'\u001b[0m\u001b[0;34m]\u001b[0m\u001b[0;34m,\u001b[0m\u001b[0;34m[\u001b[0m\u001b[0;36m1\u001b[0m\u001b[0;34m,\u001b[0m\u001b[0;36m2\u001b[0m\u001b[0;34m]\u001b[0m\u001b[0;34m]\u001b[0m\u001b[0;34m)\u001b[0m\u001b[0;34m)\u001b[0m\u001b[0;34m\u001b[0m\u001b[0;34m\u001b[0m\u001b[0m\n\u001b[0m\u001b[1;32m      3\u001b[0m \u001b[0mnumpy_ser3\u001b[0m \u001b[0;34m+\u001b[0m \u001b[0mlist_series6\u001b[0m\u001b[0;34m\u001b[0m\u001b[0;34m\u001b[0m\u001b[0m\n",
            "\u001b[0;32m/usr/local/lib/python3.6/dist-packages/pandas/core/series.py\u001b[0m in \u001b[0;36m__init__\u001b[0;34m(self, data, index, dtype, name, copy, fastpath)\u001b[0m\n\u001b[1;32m    325\u001b[0m                     \u001b[0mdata\u001b[0m \u001b[0;34m=\u001b[0m \u001b[0mdata\u001b[0m\u001b[0;34m.\u001b[0m\u001b[0mcopy\u001b[0m\u001b[0;34m(\u001b[0m\u001b[0;34m)\u001b[0m\u001b[0;34m\u001b[0m\u001b[0;34m\u001b[0m\u001b[0m\n\u001b[1;32m    326\u001b[0m             \u001b[0;32melse\u001b[0m\u001b[0;34m:\u001b[0m\u001b[0;34m\u001b[0m\u001b[0;34m\u001b[0m\u001b[0m\n\u001b[0;32m--> 327\u001b[0;31m                 \u001b[0mdata\u001b[0m \u001b[0;34m=\u001b[0m \u001b[0msanitize_array\u001b[0m\u001b[0;34m(\u001b[0m\u001b[0mdata\u001b[0m\u001b[0;34m,\u001b[0m \u001b[0mindex\u001b[0m\u001b[0;34m,\u001b[0m \u001b[0mdtype\u001b[0m\u001b[0;34m,\u001b[0m \u001b[0mcopy\u001b[0m\u001b[0;34m,\u001b[0m \u001b[0mraise_cast_failure\u001b[0m\u001b[0;34m=\u001b[0m\u001b[0;32mTrue\u001b[0m\u001b[0;34m)\u001b[0m\u001b[0;34m\u001b[0m\u001b[0;34m\u001b[0m\u001b[0m\n\u001b[0m\u001b[1;32m    328\u001b[0m \u001b[0;34m\u001b[0m\u001b[0m\n\u001b[1;32m    329\u001b[0m                 \u001b[0mdata\u001b[0m \u001b[0;34m=\u001b[0m \u001b[0mSingleBlockManager\u001b[0m\u001b[0;34m.\u001b[0m\u001b[0mfrom_array\u001b[0m\u001b[0;34m(\u001b[0m\u001b[0mdata\u001b[0m\u001b[0;34m,\u001b[0m \u001b[0mindex\u001b[0m\u001b[0;34m)\u001b[0m\u001b[0;34m\u001b[0m\u001b[0;34m\u001b[0m\u001b[0m\n",
            "\u001b[0;32m/usr/local/lib/python3.6/dist-packages/pandas/core/construction.py\u001b[0m in \u001b[0;36msanitize_array\u001b[0;34m(data, index, dtype, copy, raise_cast_failure)\u001b[0m\n\u001b[1;32m    494\u001b[0m     \u001b[0;32melif\u001b[0m \u001b[0msubarr\u001b[0m\u001b[0;34m.\u001b[0m\u001b[0mndim\u001b[0m \u001b[0;34m>\u001b[0m \u001b[0;36m1\u001b[0m\u001b[0;34m:\u001b[0m\u001b[0;34m\u001b[0m\u001b[0;34m\u001b[0m\u001b[0m\n\u001b[1;32m    495\u001b[0m         \u001b[0;32mif\u001b[0m \u001b[0misinstance\u001b[0m\u001b[0;34m(\u001b[0m\u001b[0mdata\u001b[0m\u001b[0;34m,\u001b[0m \u001b[0mnp\u001b[0m\u001b[0;34m.\u001b[0m\u001b[0mndarray\u001b[0m\u001b[0;34m)\u001b[0m\u001b[0;34m:\u001b[0m\u001b[0;34m\u001b[0m\u001b[0;34m\u001b[0m\u001b[0m\n\u001b[0;32m--> 496\u001b[0;31m             \u001b[0;32mraise\u001b[0m \u001b[0mException\u001b[0m\u001b[0;34m(\u001b[0m\u001b[0;34m\"Data must be 1-dimensional\"\u001b[0m\u001b[0;34m)\u001b[0m\u001b[0;34m\u001b[0m\u001b[0;34m\u001b[0m\u001b[0m\n\u001b[0m\u001b[1;32m    497\u001b[0m         \u001b[0;32melse\u001b[0m\u001b[0;34m:\u001b[0m\u001b[0;34m\u001b[0m\u001b[0;34m\u001b[0m\u001b[0m\n\u001b[1;32m    498\u001b[0m             \u001b[0msubarr\u001b[0m \u001b[0;34m=\u001b[0m \u001b[0mcom\u001b[0m\u001b[0;34m.\u001b[0m\u001b[0masarray_tuplesafe\u001b[0m\u001b[0;34m(\u001b[0m\u001b[0mdata\u001b[0m\u001b[0;34m,\u001b[0m \u001b[0mdtype\u001b[0m\u001b[0;34m=\u001b[0m\u001b[0mdtype\u001b[0m\u001b[0;34m)\u001b[0m\u001b[0;34m\u001b[0m\u001b[0;34m\u001b[0m\u001b[0m\n",
            "\u001b[0;31mException\u001b[0m: Data must be 1-dimensional"
          ]
        }
      ]
    },
    {
      "cell_type": "code",
      "metadata": {
        "id": "oDfa0VG9a0H2",
        "colab": {
          "base_uri": "https://localhost:8080/",
          "height": 171
        },
        "outputId": "4bf8c516-0935-4466-d76c-515f96fcbe9b"
      },
      "source": [
        "numpy_ser"
      ],
      "execution_count": null,
      "outputs": [
        {
          "output_type": "error",
          "ename": "NameError",
          "evalue": "ignored",
          "traceback": [
            "\u001b[0;31m---------------------------------------------------------------------------\u001b[0m",
            "\u001b[0;31mNameError\u001b[0m                                 Traceback (most recent call last)",
            "\u001b[0;32m<ipython-input-27-a63323836f67>\u001b[0m in \u001b[0;36m<module>\u001b[0;34m()\u001b[0m\n\u001b[0;32m----> 1\u001b[0;31m \u001b[0mnumpy_ser\u001b[0m\u001b[0;34m\u001b[0m\u001b[0;34m\u001b[0m\u001b[0m\n\u001b[0m",
            "\u001b[0;31mNameError\u001b[0m: name 'numpy_ser' is not defined"
          ]
        }
      ]
    },
    {
      "cell_type": "code",
      "metadata": {
        "id": "xW2Q-Gria2-l",
        "colab": {
          "base_uri": "https://localhost:8080/"
        },
        "outputId": "17ee25bf-6361-4a1a-999a-0f07922c5240"
      },
      "source": [
        "list_series6.iloc[0]"
      ],
      "execution_count": null,
      "outputs": [
        {
          "output_type": "execute_result",
          "data": {
            "text/plain": [
              "[1, 2, 3, 4]"
            ]
          },
          "metadata": {
            "tags": []
          },
          "execution_count": 28
        }
      ]
    },
    {
      "cell_type": "code",
      "metadata": {
        "id": "ir9Io5dTa6Mt"
      },
      "source": [],
      "execution_count": null,
      "outputs": []
    },
    {
      "cell_type": "code",
      "metadata": {
        "id": "XV6Xz-08bgPP",
        "colab": {
          "base_uri": "https://localhost:8080/",
          "height": 171
        },
        "outputId": "7422a197-22d4-40c3-b74e-d848cb7f1622"
      },
      "source": [
        "numpy_ser1"
      ],
      "execution_count": null,
      "outputs": [
        {
          "output_type": "error",
          "ename": "NameError",
          "evalue": "ignored",
          "traceback": [
            "\u001b[0;31m---------------------------------------------------------------------------\u001b[0m",
            "\u001b[0;31mNameError\u001b[0m                                 Traceback (most recent call last)",
            "\u001b[0;32m<ipython-input-29-2703de74dd7d>\u001b[0m in \u001b[0;36m<module>\u001b[0;34m()\u001b[0m\n\u001b[0;32m----> 1\u001b[0;31m \u001b[0mnumpy_ser1\u001b[0m\u001b[0;34m\u001b[0m\u001b[0;34m\u001b[0m\u001b[0m\n\u001b[0m",
            "\u001b[0;31mNameError\u001b[0m: name 'numpy_ser1' is not defined"
          ]
        }
      ]
    },
    {
      "cell_type": "code",
      "metadata": {
        "id": "iN3AcnaRbn91"
      },
      "source": [
        "list_series3 + numpy_ser"
      ],
      "execution_count": null,
      "outputs": []
    },
    {
      "cell_type": "code",
      "metadata": {
        "id": "XNWcM4exb0tq"
      },
      "source": [
        "list_series6+ numpy_ser"
      ],
      "execution_count": null,
      "outputs": []
    },
    {
      "cell_type": "code",
      "metadata": {
        "id": "2D3Fczgaemw3"
      },
      "source": [
        "numpy_ser5 = pd.Series(np.array([[[1,2]],[[5,6],[7,8]]]),index=['a','b'])"
      ],
      "execution_count": null,
      "outputs": []
    },
    {
      "cell_type": "code",
      "metadata": {
        "id": "zeAw-A4wkI3k"
      },
      "source": [
        "numpy_ser5"
      ],
      "execution_count": null,
      "outputs": []
    },
    {
      "cell_type": "code",
      "metadata": {
        "id": "RL3v0kKZkV2d"
      },
      "source": [
        "pd.Series([1,2])"
      ],
      "execution_count": null,
      "outputs": []
    },
    {
      "cell_type": "code",
      "metadata": {
        "id": "1gZsxT0ck-uY"
      },
      "source": [
        "numpy_ser.iloc[0]"
      ],
      "execution_count": null,
      "outputs": []
    },
    {
      "cell_type": "code",
      "metadata": {
        "id": "hm5uEC8kmRlR"
      },
      "source": [
        "list_series7 = pd.Series([1,2,3,4],index=['a','b','c','d'])\n",
        "list_series7['a']"
      ],
      "execution_count": null,
      "outputs": []
    },
    {
      "cell_type": "code",
      "metadata": {
        "id": "Yl3oXFwOmbbH"
      },
      "source": [
        "scalar_series"
      ],
      "execution_count": null,
      "outputs": []
    },
    {
      "cell_type": "code",
      "metadata": {
        "id": "JyOERRiimvhh"
      },
      "source": [
        "scalar_series[0]"
      ],
      "execution_count": null,
      "outputs": []
    },
    {
      "cell_type": "code",
      "metadata": {
        "id": "KdOxwZASmwkv"
      },
      "source": [
        "dict_series"
      ],
      "execution_count": null,
      "outputs": []
    },
    {
      "cell_type": "code",
      "metadata": {
        "id": "bsRL1nX0ncEQ"
      },
      "source": [
        "dict_series[0]"
      ],
      "execution_count": null,
      "outputs": []
    },
    {
      "cell_type": "code",
      "metadata": {
        "id": "dQrf7Ke_ndLC"
      },
      "source": [
        "pd.Series([[[4,5],[7,8]],[[78,56],[12,23]]])"
      ],
      "execution_count": null,
      "outputs": []
    },
    {
      "cell_type": "code",
      "metadata": {
        "id": "gaxNogYcufBN"
      },
      "source": [
        "list_b = pd.Series([[34,45],['hjd']])\n"
      ],
      "execution_count": null,
      "outputs": []
    },
    {
      "cell_type": "code",
      "metadata": {
        "id": "2xyz8O1NyK5n",
        "colab": {
          "base_uri": "https://localhost:8080/"
        },
        "outputId": "ee5459d9-2bbb-4572-8bba-dbc43bc2b670"
      },
      "source": [
        "pd.Series('a')"
      ],
      "execution_count": null,
      "outputs": [
        {
          "output_type": "execute_result",
          "data": {
            "text/plain": [
              "0    a\n",
              "dtype: object"
            ]
          },
          "metadata": {
            "tags": []
          },
          "execution_count": 31
        }
      ]
    },
    {
      "cell_type": "markdown",
      "metadata": {
        "id": "LvXBFDaIzVwh"
      },
      "source": [
        "### DataFrame"
      ]
    },
    {
      "cell_type": "code",
      "metadata": {
        "id": "uNBF5AXgyq9K"
      },
      "source": [
        "import pandas as pd"
      ],
      "execution_count": null,
      "outputs": []
    },
    {
      "cell_type": "code",
      "metadata": {
        "id": "XDw39ETpzh3S"
      },
      "source": [
        "olympic_data_list = {'Country Name':['USA','UK','INDIA','China'],'Vaccine name':[' Pfizer-BioNTech','mRNA','Bharat Biotech','Sinopharm'],\n",
        "                                                                                 'Trial Phase':[3,4,4,4]}"
      ],
      "execution_count": null,
      "outputs": []
    },
    {
      "cell_type": "code",
      "metadata": {
        "id": "gAWqiEO50d28",
        "colab": {
          "base_uri": "https://localhost:8080/",
          "height": 168
        },
        "outputId": "73236670-b81c-4ed3-f17f-430bc96a138e"
      },
      "source": [
        "olympic_data = pd.DataFrame(olympic_data_list)\n",
        "olympic_data"
      ],
      "execution_count": null,
      "outputs": [
        {
          "output_type": "execute_result",
          "data": {
            "text/html": [
              "<div>\n",
              "<style scoped>\n",
              "    .dataframe tbody tr th:only-of-type {\n",
              "        vertical-align: middle;\n",
              "    }\n",
              "\n",
              "    .dataframe tbody tr th {\n",
              "        vertical-align: top;\n",
              "    }\n",
              "\n",
              "    .dataframe thead th {\n",
              "        text-align: right;\n",
              "    }\n",
              "</style>\n",
              "<table border=\"1\" class=\"dataframe\">\n",
              "  <thead>\n",
              "    <tr style=\"text-align: right;\">\n",
              "      <th></th>\n",
              "      <th>Country Name</th>\n",
              "      <th>Vaccine name</th>\n",
              "      <th>Trial Phase</th>\n",
              "    </tr>\n",
              "  </thead>\n",
              "  <tbody>\n",
              "    <tr>\n",
              "      <th>0</th>\n",
              "      <td>USA</td>\n",
              "      <td>Pfizer-BioNTech</td>\n",
              "      <td>3</td>\n",
              "    </tr>\n",
              "    <tr>\n",
              "      <th>1</th>\n",
              "      <td>UK</td>\n",
              "      <td>mRNA</td>\n",
              "      <td>4</td>\n",
              "    </tr>\n",
              "    <tr>\n",
              "      <th>2</th>\n",
              "      <td>INDIA</td>\n",
              "      <td>Bharat Biotech</td>\n",
              "      <td>4</td>\n",
              "    </tr>\n",
              "    <tr>\n",
              "      <th>3</th>\n",
              "      <td>China</td>\n",
              "      <td>Sinopharm</td>\n",
              "      <td>4</td>\n",
              "    </tr>\n",
              "  </tbody>\n",
              "</table>\n",
              "</div>"
            ],
            "text/plain": [
              "  Country Name      Vaccine name  Trial Phase\n",
              "0          USA   Pfizer-BioNTech            3\n",
              "1           UK              mRNA            4\n",
              "2        INDIA    Bharat Biotech            4\n",
              "3        China         Sinopharm            4"
            ]
          },
          "metadata": {
            "tags": []
          },
          "execution_count": 3
        }
      ]
    },
    {
      "cell_type": "code",
      "metadata": {
        "id": "yAZr9RSG074D",
        "colab": {
          "base_uri": "https://localhost:8080/"
        },
        "outputId": "e689bf4d-7a86-4dd7-c586-104f4ccd2c1d"
      },
      "source": [
        "olympic_data.dtypes"
      ],
      "execution_count": null,
      "outputs": [
        {
          "output_type": "execute_result",
          "data": {
            "text/plain": [
              "Country Name    object\n",
              "Vaccine name    object\n",
              "Trial Phase      int64\n",
              "dtype: object"
            ]
          },
          "metadata": {
            "tags": []
          },
          "execution_count": 4
        }
      ]
    },
    {
      "cell_type": "code",
      "metadata": {
        "id": "FcRp92FB1E7b",
        "colab": {
          "base_uri": "https://localhost:8080/",
          "height": 138
        },
        "outputId": "a19a844a-d036-41e4-b879-1eb593165a32"
      },
      "source": [
        "olympic_data_list1 = [['Country Name','Vaccine Name','Trial phase'],['USA','Pfizer-BioNTech',3],['UK','mRNA','Bharat Biotech']]\n",
        "pd.DataFrame(olympic_data_list1)\n"
      ],
      "execution_count": null,
      "outputs": [
        {
          "output_type": "execute_result",
          "data": {
            "text/html": [
              "<div>\n",
              "<style scoped>\n",
              "    .dataframe tbody tr th:only-of-type {\n",
              "        vertical-align: middle;\n",
              "    }\n",
              "\n",
              "    .dataframe tbody tr th {\n",
              "        vertical-align: top;\n",
              "    }\n",
              "\n",
              "    .dataframe thead th {\n",
              "        text-align: right;\n",
              "    }\n",
              "</style>\n",
              "<table border=\"1\" class=\"dataframe\">\n",
              "  <thead>\n",
              "    <tr style=\"text-align: right;\">\n",
              "      <th></th>\n",
              "      <th>0</th>\n",
              "      <th>1</th>\n",
              "      <th>2</th>\n",
              "    </tr>\n",
              "  </thead>\n",
              "  <tbody>\n",
              "    <tr>\n",
              "      <th>0</th>\n",
              "      <td>Country Name</td>\n",
              "      <td>Vaccine Name</td>\n",
              "      <td>Trial phase</td>\n",
              "    </tr>\n",
              "    <tr>\n",
              "      <th>1</th>\n",
              "      <td>USA</td>\n",
              "      <td>Pfizer-BioNTech</td>\n",
              "      <td>3</td>\n",
              "    </tr>\n",
              "    <tr>\n",
              "      <th>2</th>\n",
              "      <td>UK</td>\n",
              "      <td>mRNA</td>\n",
              "      <td>Bharat Biotech</td>\n",
              "    </tr>\n",
              "  </tbody>\n",
              "</table>\n",
              "</div>"
            ],
            "text/plain": [
              "              0                1               2\n",
              "0  Country Name     Vaccine Name     Trial phase\n",
              "1           USA  Pfizer-BioNTech               3\n",
              "2            UK             mRNA  Bharat Biotech"
            ]
          },
          "metadata": {
            "tags": []
          },
          "execution_count": 5
        }
      ]
    },
    {
      "cell_type": "code",
      "metadata": {
        "id": "TPUdaeB4Yi7f",
        "colab": {
          "base_uri": "https://localhost:8080/",
          "height": 78
        },
        "outputId": "f5bfefb2-efeb-4f43-ca11-d1f49e82d2db"
      },
      "source": [
        "list_2 = pd.DataFrame([{'key': [0,1,2,3,4,5,6,7,8,9]}])\n",
        "list_2"
      ],
      "execution_count": null,
      "outputs": [
        {
          "output_type": "execute_result",
          "data": {
            "text/html": [
              "<div>\n",
              "<style scoped>\n",
              "    .dataframe tbody tr th:only-of-type {\n",
              "        vertical-align: middle;\n",
              "    }\n",
              "\n",
              "    .dataframe tbody tr th {\n",
              "        vertical-align: top;\n",
              "    }\n",
              "\n",
              "    .dataframe thead th {\n",
              "        text-align: right;\n",
              "    }\n",
              "</style>\n",
              "<table border=\"1\" class=\"dataframe\">\n",
              "  <thead>\n",
              "    <tr style=\"text-align: right;\">\n",
              "      <th></th>\n",
              "      <th>key</th>\n",
              "    </tr>\n",
              "  </thead>\n",
              "  <tbody>\n",
              "    <tr>\n",
              "      <th>0</th>\n",
              "      <td>[0, 1, 2, 3, 4, 5, 6, 7, 8, 9]</td>\n",
              "    </tr>\n",
              "  </tbody>\n",
              "</table>\n",
              "</div>"
            ],
            "text/plain": [
              "                              key\n",
              "0  [0, 1, 2, 3, 4, 5, 6, 7, 8, 9]"
            ]
          },
          "metadata": {
            "tags": []
          },
          "execution_count": 6
        }
      ]
    },
    {
      "cell_type": "code",
      "metadata": {
        "id": "Nt_8NGbkbY5L",
        "colab": {
          "base_uri": "https://localhost:8080/",
          "height": 108
        },
        "outputId": "3c00680e-8a72-45df-9d78-fe36ad73acf4"
      },
      "source": [
        "list_4 = pd.DataFrame([[{'key1': [1, 2, 3, 4, 5, 6]}],[\t{'key 2': [1, 2, 3, 4, 5, 6, 7, 8]}]]) ## Dictionary\n",
        "list_4"
      ],
      "execution_count": null,
      "outputs": [
        {
          "output_type": "execute_result",
          "data": {
            "text/html": [
              "<div>\n",
              "<style scoped>\n",
              "    .dataframe tbody tr th:only-of-type {\n",
              "        vertical-align: middle;\n",
              "    }\n",
              "\n",
              "    .dataframe tbody tr th {\n",
              "        vertical-align: top;\n",
              "    }\n",
              "\n",
              "    .dataframe thead th {\n",
              "        text-align: right;\n",
              "    }\n",
              "</style>\n",
              "<table border=\"1\" class=\"dataframe\">\n",
              "  <thead>\n",
              "    <tr style=\"text-align: right;\">\n",
              "      <th></th>\n",
              "      <th>0</th>\n",
              "    </tr>\n",
              "  </thead>\n",
              "  <tbody>\n",
              "    <tr>\n",
              "      <th>0</th>\n",
              "      <td>{'key1': [1, 2, 3, 4, 5, 6]}</td>\n",
              "    </tr>\n",
              "    <tr>\n",
              "      <th>1</th>\n",
              "      <td>{'key 2': [1, 2, 3, 4, 5, 6, 7, 8]}</td>\n",
              "    </tr>\n",
              "  </tbody>\n",
              "</table>\n",
              "</div>"
            ],
            "text/plain": [
              "                                     0\n",
              "0         {'key1': [1, 2, 3, 4, 5, 6]}\n",
              "1  {'key 2': [1, 2, 3, 4, 5, 6, 7, 8]}"
            ]
          },
          "metadata": {
            "tags": []
          },
          "execution_count": 7
        }
      ]
    },
    {
      "cell_type": "code",
      "metadata": {
        "colab": {
          "base_uri": "https://localhost:8080/",
          "height": 318
        },
        "id": "BVYAv2UGb46P",
        "outputId": "22b70a1d-9ac0-43ca-f080-0c279ac629e4"
      },
      "source": [
        "list_5 = pd.DataFrame([1,2,3,4,5,6,7,8,9])\n",
        "list_5\n"
      ],
      "execution_count": null,
      "outputs": [
        {
          "output_type": "execute_result",
          "data": {
            "text/html": [
              "<div>\n",
              "<style scoped>\n",
              "    .dataframe tbody tr th:only-of-type {\n",
              "        vertical-align: middle;\n",
              "    }\n",
              "\n",
              "    .dataframe tbody tr th {\n",
              "        vertical-align: top;\n",
              "    }\n",
              "\n",
              "    .dataframe thead th {\n",
              "        text-align: right;\n",
              "    }\n",
              "</style>\n",
              "<table border=\"1\" class=\"dataframe\">\n",
              "  <thead>\n",
              "    <tr style=\"text-align: right;\">\n",
              "      <th></th>\n",
              "      <th>0</th>\n",
              "    </tr>\n",
              "  </thead>\n",
              "  <tbody>\n",
              "    <tr>\n",
              "      <th>0</th>\n",
              "      <td>1</td>\n",
              "    </tr>\n",
              "    <tr>\n",
              "      <th>1</th>\n",
              "      <td>2</td>\n",
              "    </tr>\n",
              "    <tr>\n",
              "      <th>2</th>\n",
              "      <td>3</td>\n",
              "    </tr>\n",
              "    <tr>\n",
              "      <th>3</th>\n",
              "      <td>4</td>\n",
              "    </tr>\n",
              "    <tr>\n",
              "      <th>4</th>\n",
              "      <td>5</td>\n",
              "    </tr>\n",
              "    <tr>\n",
              "      <th>5</th>\n",
              "      <td>6</td>\n",
              "    </tr>\n",
              "    <tr>\n",
              "      <th>6</th>\n",
              "      <td>7</td>\n",
              "    </tr>\n",
              "    <tr>\n",
              "      <th>7</th>\n",
              "      <td>8</td>\n",
              "    </tr>\n",
              "    <tr>\n",
              "      <th>8</th>\n",
              "      <td>9</td>\n",
              "    </tr>\n",
              "  </tbody>\n",
              "</table>\n",
              "</div>"
            ],
            "text/plain": [
              "   0\n",
              "0  1\n",
              "1  2\n",
              "2  3\n",
              "3  4\n",
              "4  5\n",
              "5  6\n",
              "6  7\n",
              "7  8\n",
              "8  9"
            ]
          },
          "metadata": {
            "tags": []
          },
          "execution_count": 8
        }
      ]
    },
    {
      "cell_type": "code",
      "metadata": {
        "colab": {
          "base_uri": "https://localhost:8080/",
          "height": 108
        },
        "id": "3kTt7mlgbu9V",
        "outputId": "cda35f62-d20c-40a2-86f8-f32d022a6980"
      },
      "source": [
        "list_6 = pd.DataFrame([[({'KEY1':{'2012':45}})],[({'key2':{2008:45}})]])\n",
        "list_6"
      ],
      "execution_count": null,
      "outputs": [
        {
          "output_type": "execute_result",
          "data": {
            "text/html": [
              "<div>\n",
              "<style scoped>\n",
              "    .dataframe tbody tr th:only-of-type {\n",
              "        vertical-align: middle;\n",
              "    }\n",
              "\n",
              "    .dataframe tbody tr th {\n",
              "        vertical-align: top;\n",
              "    }\n",
              "\n",
              "    .dataframe thead th {\n",
              "        text-align: right;\n",
              "    }\n",
              "</style>\n",
              "<table border=\"1\" class=\"dataframe\">\n",
              "  <thead>\n",
              "    <tr style=\"text-align: right;\">\n",
              "      <th></th>\n",
              "      <th>0</th>\n",
              "    </tr>\n",
              "  </thead>\n",
              "  <tbody>\n",
              "    <tr>\n",
              "      <th>0</th>\n",
              "      <td>{'KEY1': {'2012': 45}}</td>\n",
              "    </tr>\n",
              "    <tr>\n",
              "      <th>1</th>\n",
              "      <td>{'key2': {2008: 45}}</td>\n",
              "    </tr>\n",
              "  </tbody>\n",
              "</table>\n",
              "</div>"
            ],
            "text/plain": [
              "                        0\n",
              "0  {'KEY1': {'2012': 45}}\n",
              "1    {'key2': {2008: 45}}"
            ]
          },
          "metadata": {
            "tags": []
          },
          "execution_count": 9
        }
      ]
    },
    {
      "cell_type": "code",
      "metadata": {
        "colab": {
          "base_uri": "https://localhost:8080/",
          "height": 78
        },
        "id": "W6cXGENydYUJ",
        "outputId": "3ae43d58-d2c4-4ad3-f769-57344dc1c6e6"
      },
      "source": [
        "list_8 = pd.DataFrame([{'key1':[45,12,7,88,9,5,6,4,5,2,3],'key 2':[[1,2,3,4,56],[45,12]]}])\n",
        "list_8"
      ],
      "execution_count": null,
      "outputs": [
        {
          "output_type": "execute_result",
          "data": {
            "text/html": [
              "<div>\n",
              "<style scoped>\n",
              "    .dataframe tbody tr th:only-of-type {\n",
              "        vertical-align: middle;\n",
              "    }\n",
              "\n",
              "    .dataframe tbody tr th {\n",
              "        vertical-align: top;\n",
              "    }\n",
              "\n",
              "    .dataframe thead th {\n",
              "        text-align: right;\n",
              "    }\n",
              "</style>\n",
              "<table border=\"1\" class=\"dataframe\">\n",
              "  <thead>\n",
              "    <tr style=\"text-align: right;\">\n",
              "      <th></th>\n",
              "      <th>key1</th>\n",
              "      <th>key 2</th>\n",
              "    </tr>\n",
              "  </thead>\n",
              "  <tbody>\n",
              "    <tr>\n",
              "      <th>0</th>\n",
              "      <td>[45, 12, 7, 88, 9, 5, 6, 4, 5, 2, 3]</td>\n",
              "      <td>[[1, 2, 3, 4, 56], [45, 12]]</td>\n",
              "    </tr>\n",
              "  </tbody>\n",
              "</table>\n",
              "</div>"
            ],
            "text/plain": [
              "                                   key1                         key 2\n",
              "0  [45, 12, 7, 88, 9, 5, 6, 4, 5, 2, 3]  [[1, 2, 3, 4, 56], [45, 12]]"
            ]
          },
          "metadata": {
            "tags": []
          },
          "execution_count": 10
        }
      ]
    },
    {
      "cell_type": "code",
      "metadata": {
        "colab": {
          "base_uri": "https://localhost:8080/",
          "height": 108
        },
        "id": "kdzLcacycElJ",
        "outputId": "9920943d-5ae4-4922-de4b-007d919732fe"
      },
      "source": [
        "list_7 = pd.DataFrame([[{1,2,3,4,5,6,7,8,9}],['hello']]) # Set\n",
        "list_7"
      ],
      "execution_count": null,
      "outputs": [
        {
          "output_type": "execute_result",
          "data": {
            "text/html": [
              "<div>\n",
              "<style scoped>\n",
              "    .dataframe tbody tr th:only-of-type {\n",
              "        vertical-align: middle;\n",
              "    }\n",
              "\n",
              "    .dataframe tbody tr th {\n",
              "        vertical-align: top;\n",
              "    }\n",
              "\n",
              "    .dataframe thead th {\n",
              "        text-align: right;\n",
              "    }\n",
              "</style>\n",
              "<table border=\"1\" class=\"dataframe\">\n",
              "  <thead>\n",
              "    <tr style=\"text-align: right;\">\n",
              "      <th></th>\n",
              "      <th>0</th>\n",
              "    </tr>\n",
              "  </thead>\n",
              "  <tbody>\n",
              "    <tr>\n",
              "      <th>0</th>\n",
              "      <td>{1, 2, 3, 4, 5, 6, 7, 8, 9}</td>\n",
              "    </tr>\n",
              "    <tr>\n",
              "      <th>1</th>\n",
              "      <td>hello</td>\n",
              "    </tr>\n",
              "  </tbody>\n",
              "</table>\n",
              "</div>"
            ],
            "text/plain": [
              "                             0\n",
              "0  {1, 2, 3, 4, 5, 6, 7, 8, 9}\n",
              "1                        hello"
            ]
          },
          "metadata": {
            "tags": []
          },
          "execution_count": 11
        }
      ]
    },
    {
      "cell_type": "code",
      "metadata": {
        "id": "LqPm3NXYM7TE"
      },
      "source": [],
      "execution_count": null,
      "outputs": []
    },
    {
      "cell_type": "code",
      "metadata": {
        "id": "oLfSsD7pcceQ",
        "colab": {
          "base_uri": "https://localhost:8080/",
          "height": 78
        },
        "outputId": "7a5e3f65-12d4-4afb-c877-a6d888749936"
      },
      "source": [
        "list_8 = pd.DataFrame([(1,2,3,4,5,6,7,8,9)])\n",
        "list_8"
      ],
      "execution_count": null,
      "outputs": [
        {
          "output_type": "execute_result",
          "data": {
            "text/html": [
              "<div>\n",
              "<style scoped>\n",
              "    .dataframe tbody tr th:only-of-type {\n",
              "        vertical-align: middle;\n",
              "    }\n",
              "\n",
              "    .dataframe tbody tr th {\n",
              "        vertical-align: top;\n",
              "    }\n",
              "\n",
              "    .dataframe thead th {\n",
              "        text-align: right;\n",
              "    }\n",
              "</style>\n",
              "<table border=\"1\" class=\"dataframe\">\n",
              "  <thead>\n",
              "    <tr style=\"text-align: right;\">\n",
              "      <th></th>\n",
              "      <th>0</th>\n",
              "      <th>1</th>\n",
              "      <th>2</th>\n",
              "      <th>3</th>\n",
              "      <th>4</th>\n",
              "      <th>5</th>\n",
              "      <th>6</th>\n",
              "      <th>7</th>\n",
              "      <th>8</th>\n",
              "    </tr>\n",
              "  </thead>\n",
              "  <tbody>\n",
              "    <tr>\n",
              "      <th>0</th>\n",
              "      <td>1</td>\n",
              "      <td>2</td>\n",
              "      <td>3</td>\n",
              "      <td>4</td>\n",
              "      <td>5</td>\n",
              "      <td>6</td>\n",
              "      <td>7</td>\n",
              "      <td>8</td>\n",
              "      <td>9</td>\n",
              "    </tr>\n",
              "  </tbody>\n",
              "</table>\n",
              "</div>"
            ],
            "text/plain": [
              "   0  1  2  3  4  5  6  7  8\n",
              "0  1  2  3  4  5  6  7  8  9"
            ]
          },
          "metadata": {
            "tags": []
          },
          "execution_count": 12
        }
      ]
    },
    {
      "cell_type": "code",
      "metadata": {
        "colab": {
          "base_uri": "https://localhost:8080/",
          "height": 138
        },
        "id": "4XilKiuwGivE",
        "outputId": "c299661e-3a3d-43cd-bdca-9552bdaea86e"
      },
      "source": [
        "list_9 = pd.DataFrame([[(1,2,3,4,5)],[(6,7,8,9)],['hello']])\n",
        "list_9"
      ],
      "execution_count": null,
      "outputs": [
        {
          "output_type": "execute_result",
          "data": {
            "text/html": [
              "<div>\n",
              "<style scoped>\n",
              "    .dataframe tbody tr th:only-of-type {\n",
              "        vertical-align: middle;\n",
              "    }\n",
              "\n",
              "    .dataframe tbody tr th {\n",
              "        vertical-align: top;\n",
              "    }\n",
              "\n",
              "    .dataframe thead th {\n",
              "        text-align: right;\n",
              "    }\n",
              "</style>\n",
              "<table border=\"1\" class=\"dataframe\">\n",
              "  <thead>\n",
              "    <tr style=\"text-align: right;\">\n",
              "      <th></th>\n",
              "      <th>0</th>\n",
              "    </tr>\n",
              "  </thead>\n",
              "  <tbody>\n",
              "    <tr>\n",
              "      <th>0</th>\n",
              "      <td>(1, 2, 3, 4, 5)</td>\n",
              "    </tr>\n",
              "    <tr>\n",
              "      <th>1</th>\n",
              "      <td>(6, 7, 8, 9)</td>\n",
              "    </tr>\n",
              "    <tr>\n",
              "      <th>2</th>\n",
              "      <td>hello</td>\n",
              "    </tr>\n",
              "  </tbody>\n",
              "</table>\n",
              "</div>"
            ],
            "text/plain": [
              "                 0\n",
              "0  (1, 2, 3, 4, 5)\n",
              "1     (6, 7, 8, 9)\n",
              "2            hello"
            ]
          },
          "metadata": {
            "tags": []
          },
          "execution_count": 13
        }
      ]
    },
    {
      "cell_type": "code",
      "metadata": {
        "colab": {
          "base_uri": "https://localhost:8080/",
          "height": 108
        },
        "id": "rCsO39qUGuUP",
        "outputId": "a1b795cf-3c54-471d-bd97-c61fcb5bd1b9"
      },
      "source": [
        "list_10 = pd.DataFrame([[[(1,2,3,4,5,6,7,8,9)]],[[(7,8,9,47,56)]]])\n",
        "list_10"
      ],
      "execution_count": null,
      "outputs": [
        {
          "output_type": "execute_result",
          "data": {
            "text/html": [
              "<div>\n",
              "<style scoped>\n",
              "    .dataframe tbody tr th:only-of-type {\n",
              "        vertical-align: middle;\n",
              "    }\n",
              "\n",
              "    .dataframe tbody tr th {\n",
              "        vertical-align: top;\n",
              "    }\n",
              "\n",
              "    .dataframe thead th {\n",
              "        text-align: right;\n",
              "    }\n",
              "</style>\n",
              "<table border=\"1\" class=\"dataframe\">\n",
              "  <thead>\n",
              "    <tr style=\"text-align: right;\">\n",
              "      <th></th>\n",
              "      <th>0</th>\n",
              "    </tr>\n",
              "  </thead>\n",
              "  <tbody>\n",
              "    <tr>\n",
              "      <th>0</th>\n",
              "      <td>[(1, 2, 3, 4, 5, 6, 7, 8, 9)]</td>\n",
              "    </tr>\n",
              "    <tr>\n",
              "      <th>1</th>\n",
              "      <td>[(7, 8, 9, 47, 56)]</td>\n",
              "    </tr>\n",
              "  </tbody>\n",
              "</table>\n",
              "</div>"
            ],
            "text/plain": [
              "                               0\n",
              "0  [(1, 2, 3, 4, 5, 6, 7, 8, 9)]\n",
              "1            [(7, 8, 9, 47, 56)]"
            ]
          },
          "metadata": {
            "tags": []
          },
          "execution_count": 14
        }
      ]
    },
    {
      "cell_type": "code",
      "metadata": {
        "id": "i0gKwVD41f09"
      },
      "source": [
        "# Creating a dataframe from a dictionary\n",
        "dict_1 = {'London':{2012:205,2008:201,2014:0},'Beijing':{2008:204,2012:789}}\n",
        "dict_dataframe = pd.DataFrame(dict_1)"
      ],
      "execution_count": null,
      "outputs": []
    },
    {
      "cell_type": "code",
      "metadata": {
        "id": "CJOi3Dcj30cX",
        "colab": {
          "base_uri": "https://localhost:8080/",
          "height": 138
        },
        "outputId": "3b03de25-5304-4bc3-cb2e-70b0624915db"
      },
      "source": [
        "dict_dataframe"
      ],
      "execution_count": null,
      "outputs": [
        {
          "output_type": "execute_result",
          "data": {
            "text/html": [
              "<div>\n",
              "<style scoped>\n",
              "    .dataframe tbody tr th:only-of-type {\n",
              "        vertical-align: middle;\n",
              "    }\n",
              "\n",
              "    .dataframe tbody tr th {\n",
              "        vertical-align: top;\n",
              "    }\n",
              "\n",
              "    .dataframe thead th {\n",
              "        text-align: right;\n",
              "    }\n",
              "</style>\n",
              "<table border=\"1\" class=\"dataframe\">\n",
              "  <thead>\n",
              "    <tr style=\"text-align: right;\">\n",
              "      <th></th>\n",
              "      <th>London</th>\n",
              "      <th>Beijing</th>\n",
              "    </tr>\n",
              "  </thead>\n",
              "  <tbody>\n",
              "    <tr>\n",
              "      <th>2012</th>\n",
              "      <td>205</td>\n",
              "      <td>789.0</td>\n",
              "    </tr>\n",
              "    <tr>\n",
              "      <th>2008</th>\n",
              "      <td>201</td>\n",
              "      <td>204.0</td>\n",
              "    </tr>\n",
              "    <tr>\n",
              "      <th>2014</th>\n",
              "      <td>0</td>\n",
              "      <td>NaN</td>\n",
              "    </tr>\n",
              "  </tbody>\n",
              "</table>\n",
              "</div>"
            ],
            "text/plain": [
              "      London  Beijing\n",
              "2012     205    789.0\n",
              "2008     201    204.0\n",
              "2014       0      NaN"
            ]
          },
          "metadata": {
            "tags": []
          },
          "execution_count": 16
        }
      ]
    },
    {
      "cell_type": "code",
      "metadata": {
        "id": "uQOZCtEc32GW"
      },
      "source": [
        "dict_2 = {'SINGER NAME':['Armaan Malik','Shreya Ghoshal','Arijjit Singh','Shaan','Shekhar Rajviani'],'Song Name':['Control','Bajirao Mastani',\n",
        "                                                                                                                  'Aashiqui','Om Shanti Om','Ghungroo']}\n",
        "dict_dataframe_2  =  pd.DataFrame(dict_2)"
      ],
      "execution_count": null,
      "outputs": []
    },
    {
      "cell_type": "code",
      "metadata": {
        "id": "KdXtEWi7FxRa",
        "colab": {
          "base_uri": "https://localhost:8080/",
          "height": 198
        },
        "outputId": "679de604-5f2c-431e-cf60-1575cbfcfc3e"
      },
      "source": [
        "dict_dataframe_2"
      ],
      "execution_count": null,
      "outputs": [
        {
          "output_type": "execute_result",
          "data": {
            "text/html": [
              "<div>\n",
              "<style scoped>\n",
              "    .dataframe tbody tr th:only-of-type {\n",
              "        vertical-align: middle;\n",
              "    }\n",
              "\n",
              "    .dataframe tbody tr th {\n",
              "        vertical-align: top;\n",
              "    }\n",
              "\n",
              "    .dataframe thead th {\n",
              "        text-align: right;\n",
              "    }\n",
              "</style>\n",
              "<table border=\"1\" class=\"dataframe\">\n",
              "  <thead>\n",
              "    <tr style=\"text-align: right;\">\n",
              "      <th></th>\n",
              "      <th>SINGER NAME</th>\n",
              "      <th>Song Name</th>\n",
              "    </tr>\n",
              "  </thead>\n",
              "  <tbody>\n",
              "    <tr>\n",
              "      <th>0</th>\n",
              "      <td>Armaan Malik</td>\n",
              "      <td>Control</td>\n",
              "    </tr>\n",
              "    <tr>\n",
              "      <th>1</th>\n",
              "      <td>Shreya Ghoshal</td>\n",
              "      <td>Bajirao Mastani</td>\n",
              "    </tr>\n",
              "    <tr>\n",
              "      <th>2</th>\n",
              "      <td>Arijjit Singh</td>\n",
              "      <td>Aashiqui</td>\n",
              "    </tr>\n",
              "    <tr>\n",
              "      <th>3</th>\n",
              "      <td>Shaan</td>\n",
              "      <td>Om Shanti Om</td>\n",
              "    </tr>\n",
              "    <tr>\n",
              "      <th>4</th>\n",
              "      <td>Shekhar Rajviani</td>\n",
              "      <td>Ghungroo</td>\n",
              "    </tr>\n",
              "  </tbody>\n",
              "</table>\n",
              "</div>"
            ],
            "text/plain": [
              "        SINGER NAME        Song Name\n",
              "0      Armaan Malik          Control\n",
              "1    Shreya Ghoshal  Bajirao Mastani\n",
              "2     Arijjit Singh         Aashiqui\n",
              "3             Shaan     Om Shanti Om\n",
              "4  Shekhar Rajviani         Ghungroo"
            ]
          },
          "metadata": {
            "tags": []
          },
          "execution_count": 18
        }
      ]
    },
    {
      "cell_type": "markdown",
      "metadata": {
        "id": "pNCtiKV6hKAv"
      },
      "source": [
        "\n",
        "\n",
        "> Viewing DataFrame\n",
        "\n"
      ]
    },
    {
      "cell_type": "code",
      "metadata": {
        "id": "pVYTU75zGTD4",
        "colab": {
          "base_uri": "https://localhost:8080/",
          "height": 138
        },
        "outputId": "f0bd051c-76a4-4cbe-842b-8413c8ee67b3"
      },
      "source": [
        "dict_dataframe"
      ],
      "execution_count": null,
      "outputs": [
        {
          "output_type": "execute_result",
          "data": {
            "text/html": [
              "<div>\n",
              "<style scoped>\n",
              "    .dataframe tbody tr th:only-of-type {\n",
              "        vertical-align: middle;\n",
              "    }\n",
              "\n",
              "    .dataframe tbody tr th {\n",
              "        vertical-align: top;\n",
              "    }\n",
              "\n",
              "    .dataframe thead th {\n",
              "        text-align: right;\n",
              "    }\n",
              "</style>\n",
              "<table border=\"1\" class=\"dataframe\">\n",
              "  <thead>\n",
              "    <tr style=\"text-align: right;\">\n",
              "      <th></th>\n",
              "      <th>London</th>\n",
              "      <th>Beijing</th>\n",
              "    </tr>\n",
              "  </thead>\n",
              "  <tbody>\n",
              "    <tr>\n",
              "      <th>2012</th>\n",
              "      <td>205</td>\n",
              "      <td>789.0</td>\n",
              "    </tr>\n",
              "    <tr>\n",
              "      <th>2008</th>\n",
              "      <td>201</td>\n",
              "      <td>204.0</td>\n",
              "    </tr>\n",
              "    <tr>\n",
              "      <th>2014</th>\n",
              "      <td>0</td>\n",
              "      <td>NaN</td>\n",
              "    </tr>\n",
              "  </tbody>\n",
              "</table>\n",
              "</div>"
            ],
            "text/plain": [
              "      London  Beijing\n",
              "2012     205    789.0\n",
              "2008     201    204.0\n",
              "2014       0      NaN"
            ]
          },
          "metadata": {
            "tags": []
          },
          "execution_count": 20
        }
      ]
    },
    {
      "cell_type": "code",
      "metadata": {
        "colab": {
          "base_uri": "https://localhost:8080/"
        },
        "id": "bzTrA5DvhSPR",
        "outputId": "41c21164-09fa-44d5-fae5-57ec1298f850"
      },
      "source": [
        "dict_dataframe.London"
      ],
      "execution_count": null,
      "outputs": [
        {
          "output_type": "execute_result",
          "data": {
            "text/plain": [
              "2012    205\n",
              "2008    201\n",
              "2014      0\n",
              "Name: London, dtype: int64"
            ]
          },
          "metadata": {
            "tags": []
          },
          "execution_count": 21
        }
      ]
    },
    {
      "cell_type": "code",
      "metadata": {
        "colab": {
          "base_uri": "https://localhost:8080/"
        },
        "id": "xZUwrT83haRd",
        "outputId": "d3f5cab7-0055-4386-e1cd-4ce7c5ac4fd4"
      },
      "source": [
        "dict_dataframe.describe"
      ],
      "execution_count": null,
      "outputs": [
        {
          "output_type": "execute_result",
          "data": {
            "text/plain": [
              "<bound method NDFrame.describe of       London  Beijing\n",
              "2012     205    789.0\n",
              "2008     201    204.0\n",
              "2014       0      NaN>"
            ]
          },
          "metadata": {
            "tags": []
          },
          "execution_count": 22
        }
      ]
    },
    {
      "cell_type": "code",
      "metadata": {
        "colab": {
          "base_uri": "https://localhost:8080/"
        },
        "id": "zl1V8203hix1",
        "outputId": "87ba4c81-3b69-4a33-845e-203847dfdf87"
      },
      "source": [
        "dict_dataframe['Beijing']"
      ],
      "execution_count": null,
      "outputs": [
        {
          "output_type": "execute_result",
          "data": {
            "text/plain": [
              "2012    789.0\n",
              "2008    204.0\n",
              "2014      NaN\n",
              "Name: Beijing, dtype: float64"
            ]
          },
          "metadata": {
            "tags": []
          },
          "execution_count": 23
        }
      ]
    },
    {
      "cell_type": "code",
      "metadata": {
        "id": "WuNn3al3hpLt",
        "colab": {
          "base_uri": "https://localhost:8080/"
        },
        "outputId": "5bb815de-0546-41f0-b3fc-3d413cf053f3"
      },
      "source": [
        "dict_dataframe.iloc[0,0]"
      ],
      "execution_count": null,
      "outputs": [
        {
          "output_type": "execute_result",
          "data": {
            "text/plain": [
              "205"
            ]
          },
          "metadata": {
            "tags": []
          },
          "execution_count": 24
        }
      ]
    },
    {
      "cell_type": "code",
      "metadata": {
        "colab": {
          "base_uri": "https://localhost:8080/",
          "height": 138
        },
        "id": "-01LUsJlrdjc",
        "outputId": "ef4c1eb7-d2dc-4cc1-834b-234d3226f5d8"
      },
      "source": [
        "dict_dataframe.head()"
      ],
      "execution_count": null,
      "outputs": [
        {
          "output_type": "execute_result",
          "data": {
            "text/html": [
              "<div>\n",
              "<style scoped>\n",
              "    .dataframe tbody tr th:only-of-type {\n",
              "        vertical-align: middle;\n",
              "    }\n",
              "\n",
              "    .dataframe tbody tr th {\n",
              "        vertical-align: top;\n",
              "    }\n",
              "\n",
              "    .dataframe thead th {\n",
              "        text-align: right;\n",
              "    }\n",
              "</style>\n",
              "<table border=\"1\" class=\"dataframe\">\n",
              "  <thead>\n",
              "    <tr style=\"text-align: right;\">\n",
              "      <th></th>\n",
              "      <th>London</th>\n",
              "      <th>Beijing</th>\n",
              "    </tr>\n",
              "  </thead>\n",
              "  <tbody>\n",
              "    <tr>\n",
              "      <th>2012</th>\n",
              "      <td>205</td>\n",
              "      <td>789.0</td>\n",
              "    </tr>\n",
              "    <tr>\n",
              "      <th>2008</th>\n",
              "      <td>201</td>\n",
              "      <td>204.0</td>\n",
              "    </tr>\n",
              "    <tr>\n",
              "      <th>2014</th>\n",
              "      <td>0</td>\n",
              "      <td>NaN</td>\n",
              "    </tr>\n",
              "  </tbody>\n",
              "</table>\n",
              "</div>"
            ],
            "text/plain": [
              "      London  Beijing\n",
              "2012     205    789.0\n",
              "2008     201    204.0\n",
              "2014       0      NaN"
            ]
          },
          "metadata": {
            "tags": []
          },
          "execution_count": 25
        }
      ]
    },
    {
      "cell_type": "markdown",
      "metadata": {
        "id": "6uoKP1Dfrr6w"
      },
      "source": [
        "\n",
        "\n",
        "> Creating dataframe from a DICT of SERIES\n",
        "\n"
      ]
    },
    {
      "cell_type": "code",
      "metadata": {
        "id": "YT_7Yf9Drm5c"
      },
      "source": [
        "schoool_rank = pd.Series([3,2,4,1],index=['AVBIL','NIRMAILA','LAKSHYA','ST. THERESA'])\n",
        "school_size = pd.Series(['big','small','medium','big'],index=['AVBIL','NIRMAILA','LAKSHYA','ST. THERESA'])\n"
      ],
      "execution_count": null,
      "outputs": []
    },
    {
      "cell_type": "code",
      "metadata": {
        "colab": {
          "base_uri": "https://localhost:8080/",
          "height": 168
        },
        "id": "kdzc6LiCshRy",
        "outputId": "676235b1-09e8-4fde-cccb-fb06169637d1"
      },
      "source": [
        "school_data = pd.DataFrame({'School RANK':schoool_rank,'School size': school_size})\n",
        "school_data"
      ],
      "execution_count": null,
      "outputs": [
        {
          "output_type": "execute_result",
          "data": {
            "text/html": [
              "<div>\n",
              "<style scoped>\n",
              "    .dataframe tbody tr th:only-of-type {\n",
              "        vertical-align: middle;\n",
              "    }\n",
              "\n",
              "    .dataframe tbody tr th {\n",
              "        vertical-align: top;\n",
              "    }\n",
              "\n",
              "    .dataframe thead th {\n",
              "        text-align: right;\n",
              "    }\n",
              "</style>\n",
              "<table border=\"1\" class=\"dataframe\">\n",
              "  <thead>\n",
              "    <tr style=\"text-align: right;\">\n",
              "      <th></th>\n",
              "      <th>School RANK</th>\n",
              "      <th>School size</th>\n",
              "    </tr>\n",
              "  </thead>\n",
              "  <tbody>\n",
              "    <tr>\n",
              "      <th>AVBIL</th>\n",
              "      <td>3</td>\n",
              "      <td>big</td>\n",
              "    </tr>\n",
              "    <tr>\n",
              "      <th>NIRMAILA</th>\n",
              "      <td>2</td>\n",
              "      <td>small</td>\n",
              "    </tr>\n",
              "    <tr>\n",
              "      <th>LAKSHYA</th>\n",
              "      <td>4</td>\n",
              "      <td>medium</td>\n",
              "    </tr>\n",
              "    <tr>\n",
              "      <th>ST. THERESA</th>\n",
              "      <td>1</td>\n",
              "      <td>big</td>\n",
              "    </tr>\n",
              "  </tbody>\n",
              "</table>\n",
              "</div>"
            ],
            "text/plain": [
              "             School RANK School size\n",
              "AVBIL                  3         big\n",
              "NIRMAILA               2       small\n",
              "LAKSHYA                4      medium\n",
              "ST. THERESA            1         big"
            ]
          },
          "metadata": {
            "tags": []
          },
          "execution_count": 27
        }
      ]
    },
    {
      "cell_type": "code",
      "metadata": {
        "colab": {
          "base_uri": "https://localhost:8080/",
          "height": 108
        },
        "id": "xszM7zAOsyY0",
        "outputId": "22f10843-9f41-4dfb-819d-166c99d42117"
      },
      "source": [
        "school_data1= pd.DataFrame([schoool_rank,school_size])\n",
        "school_data1"
      ],
      "execution_count": null,
      "outputs": [
        {
          "output_type": "execute_result",
          "data": {
            "text/html": [
              "<div>\n",
              "<style scoped>\n",
              "    .dataframe tbody tr th:only-of-type {\n",
              "        vertical-align: middle;\n",
              "    }\n",
              "\n",
              "    .dataframe tbody tr th {\n",
              "        vertical-align: top;\n",
              "    }\n",
              "\n",
              "    .dataframe thead th {\n",
              "        text-align: right;\n",
              "    }\n",
              "</style>\n",
              "<table border=\"1\" class=\"dataframe\">\n",
              "  <thead>\n",
              "    <tr style=\"text-align: right;\">\n",
              "      <th></th>\n",
              "      <th>AVBIL</th>\n",
              "      <th>NIRMAILA</th>\n",
              "      <th>LAKSHYA</th>\n",
              "      <th>ST. THERESA</th>\n",
              "    </tr>\n",
              "  </thead>\n",
              "  <tbody>\n",
              "    <tr>\n",
              "      <th>0</th>\n",
              "      <td>3</td>\n",
              "      <td>2</td>\n",
              "      <td>4</td>\n",
              "      <td>1</td>\n",
              "    </tr>\n",
              "    <tr>\n",
              "      <th>1</th>\n",
              "      <td>big</td>\n",
              "      <td>small</td>\n",
              "      <td>medium</td>\n",
              "      <td>big</td>\n",
              "    </tr>\n",
              "  </tbody>\n",
              "</table>\n",
              "</div>"
            ],
            "text/plain": [
              "  AVBIL NIRMAILA LAKSHYA ST. THERESA\n",
              "0     3        2       4           1\n",
              "1   big    small  medium         big"
            ]
          },
          "metadata": {
            "tags": []
          },
          "execution_count": 28
        }
      ]
    },
    {
      "cell_type": "markdown",
      "metadata": {
        "id": "FqbtoYNjw1ou"
      },
      "source": [
        "\n",
        "\n",
        "> Creating a dataframe from a NDARRAY\n",
        "\n"
      ]
    },
    {
      "cell_type": "code",
      "metadata": {
        "colab": {
          "base_uri": "https://localhost:8080/",
          "height": 189
        },
        "id": "v79fNZ8JuJB3",
        "outputId": "2d62b765-4869-48b2-a451-b1f5c19850e5"
      },
      "source": [
        "num_data=  pd.DataFrame({'key 1':np.array([1,2,3,4,5,6,7,8,9])})\n",
        "num_data"
      ],
      "execution_count": null,
      "outputs": [
        {
          "output_type": "error",
          "ename": "NameError",
          "evalue": "ignored",
          "traceback": [
            "\u001b[0;31m---------------------------------------------------------------------------\u001b[0m",
            "\u001b[0;31mNameError\u001b[0m                                 Traceback (most recent call last)",
            "\u001b[0;32m<ipython-input-29-9372ee9b3461>\u001b[0m in \u001b[0;36m<module>\u001b[0;34m()\u001b[0m\n\u001b[0;32m----> 1\u001b[0;31m \u001b[0mnum_data\u001b[0m\u001b[0;34m=\u001b[0m  \u001b[0mpd\u001b[0m\u001b[0;34m.\u001b[0m\u001b[0mDataFrame\u001b[0m\u001b[0;34m(\u001b[0m\u001b[0;34m{\u001b[0m\u001b[0;34m'key 1'\u001b[0m\u001b[0;34m:\u001b[0m\u001b[0mnp\u001b[0m\u001b[0;34m.\u001b[0m\u001b[0marray\u001b[0m\u001b[0;34m(\u001b[0m\u001b[0;34m[\u001b[0m\u001b[0;36m1\u001b[0m\u001b[0;34m,\u001b[0m\u001b[0;36m2\u001b[0m\u001b[0;34m,\u001b[0m\u001b[0;36m3\u001b[0m\u001b[0;34m,\u001b[0m\u001b[0;36m4\u001b[0m\u001b[0;34m,\u001b[0m\u001b[0;36m5\u001b[0m\u001b[0;34m,\u001b[0m\u001b[0;36m6\u001b[0m\u001b[0;34m,\u001b[0m\u001b[0;36m7\u001b[0m\u001b[0;34m,\u001b[0m\u001b[0;36m8\u001b[0m\u001b[0;34m,\u001b[0m\u001b[0;36m9\u001b[0m\u001b[0;34m]\u001b[0m\u001b[0;34m)\u001b[0m\u001b[0;34m}\u001b[0m\u001b[0;34m)\u001b[0m\u001b[0;34m\u001b[0m\u001b[0;34m\u001b[0m\u001b[0m\n\u001b[0m\u001b[1;32m      2\u001b[0m \u001b[0mnum_data\u001b[0m\u001b[0;34m\u001b[0m\u001b[0;34m\u001b[0m\u001b[0m\n",
            "\u001b[0;31mNameError\u001b[0m: name 'np' is not defined"
          ]
        }
      ]
    },
    {
      "cell_type": "code",
      "metadata": {
        "id": "badbO2kRxEk1"
      },
      "source": [
        "num_data1 = pd.DataFrame({'key 1':{2012:np.array([1,2,3,4,5,6,7,8,9])},'key 2':{2012:'good'}})\n",
        "num_data1"
      ],
      "execution_count": null,
      "outputs": []
    },
    {
      "cell_type": "code",
      "metadata": {
        "id": "BEacLHBFxeWO"
      },
      "source": [
        "num_data2 = pd.DataFrame([np.array(['IND','PAK','BANG','SLK'])])\n",
        "num_data2"
      ],
      "execution_count": null,
      "outputs": []
    },
    {
      "cell_type": "code",
      "metadata": {
        "id": "-rady3ABx_4s"
      },
      "source": [
        "num_Data3 = pd.DataFrame([[np.array(['IND','PAK','BANG','SLK'])],[np.array([1,2,3,4,5,6,7,8,9])]])\n",
        "num_Data3"
      ],
      "execution_count": null,
      "outputs": []
    },
    {
      "cell_type": "code",
      "metadata": {
        "id": "XqX_G5GiyZva"
      },
      "source": [
        "num_data4 = pd.DataFrame({'year won':np.array([2012,2013,2015])})\n",
        "num_data4"
      ],
      "execution_count": null,
      "outputs": []
    },
    {
      "cell_type": "code",
      "metadata": {
        "id": "_rWkWBs2z5rB"
      },
      "source": [
        "\n",
        "num_data3 = pd.DataFrame(num_data4)"
      ],
      "execution_count": null,
      "outputs": []
    },
    {
      "cell_type": "code",
      "metadata": {
        "id": "jE4w2Qod0ApT"
      },
      "source": [
        "\n",
        "num_data5"
      ],
      "execution_count": null,
      "outputs": []
    },
    {
      "cell_type": "code",
      "metadata": {
        "id": "9S2WUEpj0Ex6"
      },
      "source": [
        "dict_dataframe_3 = pd.DataFrame({'key1':(1,2,3,4,5,6,7,8,9)})\n",
        "\n",
        "dict_dataframe_3"
      ],
      "execution_count": null,
      "outputs": []
    },
    {
      "cell_type": "code",
      "metadata": {
        "id": "2bDBwxguE0bM"
      },
      "source": [
        "# Dict\n",
        "dict_test = pd.DataFrame({'Key 1':{2012:76,2014:45},'Key 2':{2012:2,2014:1}})\n",
        "dict_test"
      ],
      "execution_count": null,
      "outputs": []
    },
    {
      "cell_type": "code",
      "metadata": {
        "id": "cMhOmp0RK1Rh",
        "colab": {
          "base_uri": "https://localhost:8080/",
          "height": 225
        },
        "outputId": "cfcbced8-add7-41b3-ffae-9eae122176a7"
      },
      "source": [
        "# nd array\n",
        "numpy_test_data =  np.array([1,2,3,4,5,6,7,8,9])\n",
        "numpy_test = pd.DataFrame({'KEY 1':numpy_test_data})\n",
        "numpy_test"
      ],
      "execution_count": null,
      "outputs": [
        {
          "output_type": "error",
          "ename": "NameError",
          "evalue": "ignored",
          "traceback": [
            "\u001b[0;31m---------------------------------------------------------------------------\u001b[0m",
            "\u001b[0;31mNameError\u001b[0m                                 Traceback (most recent call last)",
            "\u001b[0;32m<ipython-input-30-513daa88f7bd>\u001b[0m in \u001b[0;36m<module>\u001b[0;34m()\u001b[0m\n\u001b[1;32m      1\u001b[0m \u001b[0;31m# nd array\u001b[0m\u001b[0;34m\u001b[0m\u001b[0;34m\u001b[0m\u001b[0;34m\u001b[0m\u001b[0m\n\u001b[0;32m----> 2\u001b[0;31m \u001b[0mnumpy_test_data\u001b[0m \u001b[0;34m=\u001b[0m  \u001b[0mnp\u001b[0m\u001b[0;34m.\u001b[0m\u001b[0marray\u001b[0m\u001b[0;34m(\u001b[0m\u001b[0;34m[\u001b[0m\u001b[0;36m1\u001b[0m\u001b[0;34m,\u001b[0m\u001b[0;36m2\u001b[0m\u001b[0;34m,\u001b[0m\u001b[0;36m3\u001b[0m\u001b[0;34m,\u001b[0m\u001b[0;36m4\u001b[0m\u001b[0;34m,\u001b[0m\u001b[0;36m5\u001b[0m\u001b[0;34m,\u001b[0m\u001b[0;36m6\u001b[0m\u001b[0;34m,\u001b[0m\u001b[0;36m7\u001b[0m\u001b[0;34m,\u001b[0m\u001b[0;36m8\u001b[0m\u001b[0;34m,\u001b[0m\u001b[0;36m9\u001b[0m\u001b[0;34m]\u001b[0m\u001b[0;34m)\u001b[0m\u001b[0;34m\u001b[0m\u001b[0;34m\u001b[0m\u001b[0m\n\u001b[0m\u001b[1;32m      3\u001b[0m \u001b[0mnumpy_test\u001b[0m \u001b[0;34m=\u001b[0m \u001b[0mpd\u001b[0m\u001b[0;34m.\u001b[0m\u001b[0mDataFrame\u001b[0m\u001b[0;34m(\u001b[0m\u001b[0;34m{\u001b[0m\u001b[0;34m'KEY 1'\u001b[0m\u001b[0;34m:\u001b[0m\u001b[0mnumpy_test_data\u001b[0m\u001b[0;34m}\u001b[0m\u001b[0;34m)\u001b[0m\u001b[0;34m\u001b[0m\u001b[0;34m\u001b[0m\u001b[0m\n\u001b[1;32m      4\u001b[0m \u001b[0mnumpy_test\u001b[0m\u001b[0;34m\u001b[0m\u001b[0;34m\u001b[0m\u001b[0m\n",
            "\u001b[0;31mNameError\u001b[0m: name 'np' is not defined"
          ]
        }
      ]
    },
    {
      "cell_type": "code",
      "metadata": {
        "id": "2Q9Wh_9gL4ht"
      },
      "source": [
        "# list\n",
        "list_test = pd.DataFrame({'K1':[753,951],'K2':[357,159]})\n",
        "list_test"
      ],
      "execution_count": null,
      "outputs": []
    },
    {
      "cell_type": "code",
      "metadata": {
        "id": "juzHVypTMOvc",
        "colab": {
          "base_uri": "https://localhost:8080/",
          "height": 288
        },
        "outputId": "f1e455f5-23eb-48a9-8279-e412b17a4c13"
      },
      "source": [
        "# Series\n",
        "series_test_data = pd.Series([1,2,3,4,5,6,78,9],index=['a','b','b','d','e','f','g','h'])\n",
        "series_test_data_1  = pd.Series(['he','df','fg','rt','rt','ewr','yu','ui'],index=['a','b','b','d','e','f','g','h'])\n",
        "series_test = pd.DataFrame({'Name':series_test_data_1,'Numbers':series_test_data})\n",
        "series_test"
      ],
      "execution_count": null,
      "outputs": [
        {
          "output_type": "execute_result",
          "data": {
            "text/html": [
              "<div>\n",
              "<style scoped>\n",
              "    .dataframe tbody tr th:only-of-type {\n",
              "        vertical-align: middle;\n",
              "    }\n",
              "\n",
              "    .dataframe tbody tr th {\n",
              "        vertical-align: top;\n",
              "    }\n",
              "\n",
              "    .dataframe thead th {\n",
              "        text-align: right;\n",
              "    }\n",
              "</style>\n",
              "<table border=\"1\" class=\"dataframe\">\n",
              "  <thead>\n",
              "    <tr style=\"text-align: right;\">\n",
              "      <th></th>\n",
              "      <th>Name</th>\n",
              "      <th>Numbers</th>\n",
              "    </tr>\n",
              "  </thead>\n",
              "  <tbody>\n",
              "    <tr>\n",
              "      <th>a</th>\n",
              "      <td>he</td>\n",
              "      <td>1</td>\n",
              "    </tr>\n",
              "    <tr>\n",
              "      <th>b</th>\n",
              "      <td>df</td>\n",
              "      <td>2</td>\n",
              "    </tr>\n",
              "    <tr>\n",
              "      <th>b</th>\n",
              "      <td>fg</td>\n",
              "      <td>3</td>\n",
              "    </tr>\n",
              "    <tr>\n",
              "      <th>d</th>\n",
              "      <td>rt</td>\n",
              "      <td>4</td>\n",
              "    </tr>\n",
              "    <tr>\n",
              "      <th>e</th>\n",
              "      <td>rt</td>\n",
              "      <td>5</td>\n",
              "    </tr>\n",
              "    <tr>\n",
              "      <th>f</th>\n",
              "      <td>ewr</td>\n",
              "      <td>6</td>\n",
              "    </tr>\n",
              "    <tr>\n",
              "      <th>g</th>\n",
              "      <td>yu</td>\n",
              "      <td>78</td>\n",
              "    </tr>\n",
              "    <tr>\n",
              "      <th>h</th>\n",
              "      <td>ui</td>\n",
              "      <td>9</td>\n",
              "    </tr>\n",
              "  </tbody>\n",
              "</table>\n",
              "</div>"
            ],
            "text/plain": [
              "  Name  Numbers\n",
              "a   he        1\n",
              "b   df        2\n",
              "b   fg        3\n",
              "d   rt        4\n",
              "e   rt        5\n",
              "f  ewr        6\n",
              "g   yu       78\n",
              "h   ui        9"
            ]
          },
          "metadata": {
            "tags": []
          },
          "execution_count": 31
        }
      ]
    },
    {
      "cell_type": "code",
      "metadata": {
        "id": "MhMLLnjxNLC2",
        "colab": {
          "base_uri": "https://localhost:8080/",
          "height": 288
        },
        "outputId": "0fc35c3d-0a83-495b-b02c-8ee11e9a9a8d"
      },
      "source": [
        "# Data Frame\n",
        "data_frame_test= pd.DataFrame(series_test)\n",
        "data_frame_test"
      ],
      "execution_count": null,
      "outputs": [
        {
          "output_type": "execute_result",
          "data": {
            "text/html": [
              "<div>\n",
              "<style scoped>\n",
              "    .dataframe tbody tr th:only-of-type {\n",
              "        vertical-align: middle;\n",
              "    }\n",
              "\n",
              "    .dataframe tbody tr th {\n",
              "        vertical-align: top;\n",
              "    }\n",
              "\n",
              "    .dataframe thead th {\n",
              "        text-align: right;\n",
              "    }\n",
              "</style>\n",
              "<table border=\"1\" class=\"dataframe\">\n",
              "  <thead>\n",
              "    <tr style=\"text-align: right;\">\n",
              "      <th></th>\n",
              "      <th>Name</th>\n",
              "      <th>Numbers</th>\n",
              "    </tr>\n",
              "  </thead>\n",
              "  <tbody>\n",
              "    <tr>\n",
              "      <th>a</th>\n",
              "      <td>he</td>\n",
              "      <td>1</td>\n",
              "    </tr>\n",
              "    <tr>\n",
              "      <th>b</th>\n",
              "      <td>df</td>\n",
              "      <td>2</td>\n",
              "    </tr>\n",
              "    <tr>\n",
              "      <th>b</th>\n",
              "      <td>fg</td>\n",
              "      <td>3</td>\n",
              "    </tr>\n",
              "    <tr>\n",
              "      <th>d</th>\n",
              "      <td>rt</td>\n",
              "      <td>4</td>\n",
              "    </tr>\n",
              "    <tr>\n",
              "      <th>e</th>\n",
              "      <td>rt</td>\n",
              "      <td>5</td>\n",
              "    </tr>\n",
              "    <tr>\n",
              "      <th>f</th>\n",
              "      <td>ewr</td>\n",
              "      <td>6</td>\n",
              "    </tr>\n",
              "    <tr>\n",
              "      <th>g</th>\n",
              "      <td>yu</td>\n",
              "      <td>78</td>\n",
              "    </tr>\n",
              "    <tr>\n",
              "      <th>h</th>\n",
              "      <td>ui</td>\n",
              "      <td>9</td>\n",
              "    </tr>\n",
              "  </tbody>\n",
              "</table>\n",
              "</div>"
            ],
            "text/plain": [
              "  Name  Numbers\n",
              "a   he        1\n",
              "b   df        2\n",
              "b   fg        3\n",
              "d   rt        4\n",
              "e   rt        5\n",
              "f  ewr        6\n",
              "g   yu       78\n",
              "h   ui        9"
            ]
          },
          "metadata": {
            "tags": []
          },
          "execution_count": 32
        }
      ]
    },
    {
      "cell_type": "markdown",
      "metadata": {
        "id": "zj0ZhzeKjFLr"
      },
      "source": [
        "\n",
        "\n",
        "> **Viewing and Selecting Data**\n",
        "\n"
      ]
    },
    {
      "cell_type": "code",
      "metadata": {
        "id": "oDXcFJVbNzSr"
      },
      "source": [
        "olympic_series_pariticipation = pd.Series([205,204,201,200,197],index=[2012,2008,2004,2000,1996])\n",
        "olympic_series_country = pd.Series(['London','Beijing','Athens','Sydney','Atlanta'],index=[2012,2008,2004,2000,1996])\n"
      ],
      "execution_count": null,
      "outputs": []
    },
    {
      "cell_type": "code",
      "metadata": {
        "id": "qhh-xNFPlENT"
      },
      "source": [
        "df_olympic_series = pd.DataFrame({'HOST CITY':olympic_series_country,'No. of participating countries':olympic_series_pariticipation})\n"
      ],
      "execution_count": null,
      "outputs": []
    },
    {
      "cell_type": "code",
      "metadata": {
        "colab": {
          "base_uri": "https://localhost:8080/",
          "height": 198
        },
        "id": "KO8EaPfgmauB",
        "outputId": "d589d645-6057-4cff-8395-69433c83b713"
      },
      "source": [
        "# Display the content of the dataframe\n",
        "df_olympic_series"
      ],
      "execution_count": null,
      "outputs": [
        {
          "output_type": "execute_result",
          "data": {
            "text/html": [
              "<div>\n",
              "<style scoped>\n",
              "    .dataframe tbody tr th:only-of-type {\n",
              "        vertical-align: middle;\n",
              "    }\n",
              "\n",
              "    .dataframe tbody tr th {\n",
              "        vertical-align: top;\n",
              "    }\n",
              "\n",
              "    .dataframe thead th {\n",
              "        text-align: right;\n",
              "    }\n",
              "</style>\n",
              "<table border=\"1\" class=\"dataframe\">\n",
              "  <thead>\n",
              "    <tr style=\"text-align: right;\">\n",
              "      <th></th>\n",
              "      <th>HOST CITY</th>\n",
              "      <th>No. of participating countries</th>\n",
              "    </tr>\n",
              "  </thead>\n",
              "  <tbody>\n",
              "    <tr>\n",
              "      <th>2012</th>\n",
              "      <td>London</td>\n",
              "      <td>205</td>\n",
              "    </tr>\n",
              "    <tr>\n",
              "      <th>2008</th>\n",
              "      <td>Beijing</td>\n",
              "      <td>204</td>\n",
              "    </tr>\n",
              "    <tr>\n",
              "      <th>2004</th>\n",
              "      <td>Athens</td>\n",
              "      <td>201</td>\n",
              "    </tr>\n",
              "    <tr>\n",
              "      <th>2000</th>\n",
              "      <td>Sydney</td>\n",
              "      <td>200</td>\n",
              "    </tr>\n",
              "    <tr>\n",
              "      <th>1996</th>\n",
              "      <td>Atlanta</td>\n",
              "      <td>197</td>\n",
              "    </tr>\n",
              "  </tbody>\n",
              "</table>\n",
              "</div>"
            ],
            "text/plain": [
              "     HOST CITY  No. of participating countries\n",
              "2012    London                             205\n",
              "2008   Beijing                             204\n",
              "2004    Athens                             201\n",
              "2000    Sydney                             200\n",
              "1996   Atlanta                             197"
            ]
          },
          "metadata": {
            "tags": []
          },
          "execution_count": 35
        }
      ]
    },
    {
      "cell_type": "code",
      "metadata": {
        "id": "nN4xfbrkmhK9",
        "colab": {
          "base_uri": "https://localhost:8080/"
        },
        "outputId": "a19b6c94-d1a7-4940-f7f5-1253b01a0b15"
      },
      "source": [
        "# View dataframe using .describe vs .describe()\n",
        "print(df_olympic_series.describe)\n",
        "print(df_olympic_series.describe())"
      ],
      "execution_count": null,
      "outputs": [
        {
          "output_type": "stream",
          "text": [
            "<bound method NDFrame.describe of      HOST CITY  No. of participating countries\n",
            "2012    London                             205\n",
            "2008   Beijing                             204\n",
            "2004    Athens                             201\n",
            "2000    Sydney                             200\n",
            "1996   Atlanta                             197>\n",
            "       No. of participating countries\n",
            "count                        5.000000\n",
            "mean                       201.400000\n",
            "std                          3.209361\n",
            "min                        197.000000\n",
            "25%                        200.000000\n",
            "50%                        201.000000\n",
            "75%                        204.000000\n",
            "max                        205.000000\n"
          ],
          "name": "stdout"
        }
      ]
    },
    {
      "cell_type": "code",
      "metadata": {
        "id": "L7zgXYtgmrwm",
        "colab": {
          "base_uri": "https://localhost:8080/",
          "height": 108
        },
        "outputId": "8ec837ac-9140-4b29-bc82-c0b81ddcf4d9"
      },
      "source": [
        "# .head(n)\n",
        "df_olympic_series.head(2)"
      ],
      "execution_count": null,
      "outputs": [
        {
          "output_type": "execute_result",
          "data": {
            "text/html": [
              "<div>\n",
              "<style scoped>\n",
              "    .dataframe tbody tr th:only-of-type {\n",
              "        vertical-align: middle;\n",
              "    }\n",
              "\n",
              "    .dataframe tbody tr th {\n",
              "        vertical-align: top;\n",
              "    }\n",
              "\n",
              "    .dataframe thead th {\n",
              "        text-align: right;\n",
              "    }\n",
              "</style>\n",
              "<table border=\"1\" class=\"dataframe\">\n",
              "  <thead>\n",
              "    <tr style=\"text-align: right;\">\n",
              "      <th></th>\n",
              "      <th>HOST CITY</th>\n",
              "      <th>No. of participating countries</th>\n",
              "    </tr>\n",
              "  </thead>\n",
              "  <tbody>\n",
              "    <tr>\n",
              "      <th>2012</th>\n",
              "      <td>London</td>\n",
              "      <td>205</td>\n",
              "    </tr>\n",
              "    <tr>\n",
              "      <th>2008</th>\n",
              "      <td>Beijing</td>\n",
              "      <td>204</td>\n",
              "    </tr>\n",
              "  </tbody>\n",
              "</table>\n",
              "</div>"
            ],
            "text/plain": [
              "     HOST CITY  No. of participating countries\n",
              "2012    London                             205\n",
              "2008   Beijing                             204"
            ]
          },
          "metadata": {
            "tags": []
          },
          "execution_count": 37
        }
      ]
    },
    {
      "cell_type": "code",
      "metadata": {
        "id": "e85COgdVnCZd",
        "colab": {
          "base_uri": "https://localhost:8080/",
          "height": 108
        },
        "outputId": "ea85970a-f46d-438b-970b-885ddd2a5c1e"
      },
      "source": [
        "# .tail(n)\n",
        "df_olympic_series.tail(2)"
      ],
      "execution_count": null,
      "outputs": [
        {
          "output_type": "execute_result",
          "data": {
            "text/html": [
              "<div>\n",
              "<style scoped>\n",
              "    .dataframe tbody tr th:only-of-type {\n",
              "        vertical-align: middle;\n",
              "    }\n",
              "\n",
              "    .dataframe tbody tr th {\n",
              "        vertical-align: top;\n",
              "    }\n",
              "\n",
              "    .dataframe thead th {\n",
              "        text-align: right;\n",
              "    }\n",
              "</style>\n",
              "<table border=\"1\" class=\"dataframe\">\n",
              "  <thead>\n",
              "    <tr style=\"text-align: right;\">\n",
              "      <th></th>\n",
              "      <th>HOST CITY</th>\n",
              "      <th>No. of participating countries</th>\n",
              "    </tr>\n",
              "  </thead>\n",
              "  <tbody>\n",
              "    <tr>\n",
              "      <th>2000</th>\n",
              "      <td>Sydney</td>\n",
              "      <td>200</td>\n",
              "    </tr>\n",
              "    <tr>\n",
              "      <th>1996</th>\n",
              "      <td>Atlanta</td>\n",
              "      <td>197</td>\n",
              "    </tr>\n",
              "  </tbody>\n",
              "</table>\n",
              "</div>"
            ],
            "text/plain": [
              "     HOST CITY  No. of participating countries\n",
              "2000    Sydney                             200\n",
              "1996   Atlanta                             197"
            ]
          },
          "metadata": {
            "tags": []
          },
          "execution_count": 38
        }
      ]
    },
    {
      "cell_type": "code",
      "metadata": {
        "id": "XVJdGqminF34",
        "colab": {
          "base_uri": "https://localhost:8080/"
        },
        "outputId": "00065ebc-7e24-468b-e1e8-e03dd171175a"
      },
      "source": [
        "# View indexes of the dataframe\n",
        "df_olympic_series.index = [104,205,45,23,45]  # Index can be changed\n",
        "\n",
        "print(df_olympic_series.index)\n",
        "df_olympic_series.index = [2012, 2008, 2004, 2000, 1996]  # Setting the indexes back to default\n",
        "print(df_olympic_series.index)"
      ],
      "execution_count": null,
      "outputs": [
        {
          "output_type": "stream",
          "text": [
            "Int64Index([104, 205, 45, 23, 45], dtype='int64')\n",
            "Int64Index([2012, 2008, 2004, 2000, 1996], dtype='int64')\n"
          ],
          "name": "stdout"
        }
      ]
    },
    {
      "cell_type": "code",
      "metadata": {
        "id": "ZWfqFntgnTc9",
        "colab": {
          "base_uri": "https://localhost:8080/"
        },
        "outputId": "bec73fbb-383d-4cbc-e3b6-912a8cb8537f"
      },
      "source": [
        "# View the columns\n",
        "df_olympic_series.columns"
      ],
      "execution_count": null,
      "outputs": [
        {
          "output_type": "execute_result",
          "data": {
            "text/plain": [
              "Index(['HOST CITY', 'No. of participating countries'], dtype='object')"
            ]
          },
          "metadata": {
            "tags": []
          },
          "execution_count": 40
        }
      ]
    },
    {
      "cell_type": "markdown",
      "metadata": {
        "id": "SzK704VIn_nB"
      },
      "source": [
        "\n",
        "\n",
        "> *SELECTING DATA*\n",
        "\n"
      ]
    },
    {
      "cell_type": "code",
      "metadata": {
        "colab": {
          "base_uri": "https://localhost:8080/"
        },
        "id": "odlcdoBbn5fm",
        "outputId": "be2697b6-4b3b-423e-9d03-27870e412fd1"
      },
      "source": [
        "# Select the data for HOST CITY\n",
        "df_olympic_series['HOST CITY']"
      ],
      "execution_count": null,
      "outputs": [
        {
          "output_type": "execute_result",
          "data": {
            "text/plain": [
              "2012     London\n",
              "2008    Beijing\n",
              "2004     Athens\n",
              "2000     Sydney\n",
              "1996    Atlanta\n",
              "Name: HOST CITY, dtype: object"
            ]
          },
          "metadata": {
            "tags": []
          },
          "execution_count": 41
        }
      ]
    },
    {
      "cell_type": "code",
      "metadata": {
        "id": "8EzMzxWqodct",
        "colab": {
          "base_uri": "https://localhost:8080/"
        },
        "outputId": "5f98edd7-51e1-47cf-cc04-f66075b3f75b"
      },
      "source": [
        "\n",
        "# select label location based access by label\n",
        "\n",
        "df_olympic_series.loc[2008]"
      ],
      "execution_count": null,
      "outputs": [
        {
          "output_type": "execute_result",
          "data": {
            "text/plain": [
              "HOST CITY                         Beijing\n",
              "No. of participating countries        204\n",
              "Name: 2008, dtype: object"
            ]
          },
          "metadata": {
            "tags": []
          },
          "execution_count": 42
        }
      ]
    },
    {
      "cell_type": "code",
      "metadata": {
        "id": "W32ldslEoqOt",
        "colab": {
          "base_uri": "https://localhost:8080/",
          "height": 108
        },
        "outputId": "491123f0-694b-4307-f281-af43250cc9e8"
      },
      "source": [
        "list_6"
      ],
      "execution_count": null,
      "outputs": [
        {
          "output_type": "execute_result",
          "data": {
            "text/html": [
              "<div>\n",
              "<style scoped>\n",
              "    .dataframe tbody tr th:only-of-type {\n",
              "        vertical-align: middle;\n",
              "    }\n",
              "\n",
              "    .dataframe tbody tr th {\n",
              "        vertical-align: top;\n",
              "    }\n",
              "\n",
              "    .dataframe thead th {\n",
              "        text-align: right;\n",
              "    }\n",
              "</style>\n",
              "<table border=\"1\" class=\"dataframe\">\n",
              "  <thead>\n",
              "    <tr style=\"text-align: right;\">\n",
              "      <th></th>\n",
              "      <th>0</th>\n",
              "    </tr>\n",
              "  </thead>\n",
              "  <tbody>\n",
              "    <tr>\n",
              "      <th>0</th>\n",
              "      <td>{'KEY1': {'2012': 45}}</td>\n",
              "    </tr>\n",
              "    <tr>\n",
              "      <th>1</th>\n",
              "      <td>{'key2': {2008: 45}}</td>\n",
              "    </tr>\n",
              "  </tbody>\n",
              "</table>\n",
              "</div>"
            ],
            "text/plain": [
              "                        0\n",
              "0  {'KEY1': {'2012': 45}}\n",
              "1    {'key2': {2008: 45}}"
            ]
          },
          "metadata": {
            "tags": []
          },
          "execution_count": 43
        }
      ]
    },
    {
      "cell_type": "markdown",
      "metadata": {
        "id": "8b4oU8PPw5f_"
      },
      "source": [
        "### Handling Missing Values\n",
        "\n",
        "---\n",
        "\n",
        "---\n",
        "\n",
        "\n",
        "\n"
      ]
    },
    {
      "cell_type": "markdown",
      "metadata": {
        "id": "01gwu1vcxAQP"
      },
      "source": [
        "**.dropna( )**\n",
        "\n",
        "**.fillna(_)**"
      ]
    },
    {
      "cell_type": "code",
      "metadata": {
        "id": "qg_ShygI_Mnb"
      },
      "source": [
        "missing_1 = pd.Series([1,2,3,4,5],index=['a','b','c','d','e'])\n",
        "missing_2 = pd.Series([9,5,1,7,5],index=['c','d','e','f','g'])"
      ],
      "execution_count": null,
      "outputs": []
    },
    {
      "cell_type": "code",
      "metadata": {
        "id": "tvl0585mxve4",
        "colab": {
          "base_uri": "https://localhost:8080/"
        },
        "outputId": "ace18f71-c067-427e-eecc-10a6b589f7f0"
      },
      "source": [
        "sum_missing = missing_1 + missing_2\n",
        "sum_missing"
      ],
      "execution_count": null,
      "outputs": [
        {
          "output_type": "execute_result",
          "data": {
            "text/plain": [
              "a     NaN\n",
              "b     NaN\n",
              "c    12.0\n",
              "d     9.0\n",
              "e     6.0\n",
              "f     NaN\n",
              "g     NaN\n",
              "dtype: float64"
            ]
          },
          "metadata": {
            "tags": []
          },
          "execution_count": 45
        }
      ]
    },
    {
      "cell_type": "code",
      "metadata": {
        "id": "V2bAKW-Cx5SO",
        "colab": {
          "base_uri": "https://localhost:8080/"
        },
        "outputId": "6382e750-d878-47dc-c176-870220ca6d53"
      },
      "source": [
        "dropped_missing = sum_missing.dropna()\n",
        "dropped_missing"
      ],
      "execution_count": null,
      "outputs": [
        {
          "output_type": "execute_result",
          "data": {
            "text/plain": [
              "c    12.0\n",
              "d     9.0\n",
              "e     6.0\n",
              "dtype: float64"
            ]
          },
          "metadata": {
            "tags": []
          },
          "execution_count": 46
        }
      ]
    },
    {
      "cell_type": "code",
      "metadata": {
        "id": "3s2pA18WyOux",
        "colab": {
          "base_uri": "https://localhost:8080/"
        },
        "outputId": "33447710-b466-4ead-b5fe-2bebbc0c57f8"
      },
      "source": [
        "# .fillna()\n",
        "filled_missing = sum_missing.fillna(0)\n",
        "filled_missing"
      ],
      "execution_count": null,
      "outputs": [
        {
          "output_type": "execute_result",
          "data": {
            "text/plain": [
              "a     0.0\n",
              "b     0.0\n",
              "c    12.0\n",
              "d     9.0\n",
              "e     6.0\n",
              "f     0.0\n",
              "g     0.0\n",
              "dtype: float64"
            ]
          },
          "metadata": {
            "tags": []
          },
          "execution_count": 47
        }
      ]
    },
    {
      "cell_type": "code",
      "metadata": {
        "id": "OSZHx04tyYPl",
        "colab": {
          "base_uri": "https://localhost:8080/"
        },
        "outputId": "2ea19f10-1e58-4a39-b113-0fe0320852f0"
      },
      "source": [
        "# .add()\n",
        "sum_a = missing_1.add(missing_2,fill_value=0)\n",
        "sum_a"
      ],
      "execution_count": null,
      "outputs": [
        {
          "output_type": "execute_result",
          "data": {
            "text/plain": [
              "a     1.0\n",
              "b     2.0\n",
              "c    12.0\n",
              "d     9.0\n",
              "e     6.0\n",
              "f     7.0\n",
              "g     5.0\n",
              "dtype: float64"
            ]
          },
          "metadata": {
            "tags": []
          },
          "execution_count": 48
        }
      ]
    },
    {
      "cell_type": "code",
      "metadata": {
        "id": "g5CVIgVfy0BN",
        "colab": {
          "base_uri": "https://localhost:8080/"
        },
        "outputId": "cc29c813-f0fe-4008-e4a4-9c9e9d21029c"
      },
      "source": [
        "sum_missing.isnull().any()"
      ],
      "execution_count": null,
      "outputs": [
        {
          "output_type": "execute_result",
          "data": {
            "text/plain": [
              "True"
            ]
          },
          "metadata": {
            "tags": []
          },
          "execution_count": 49
        }
      ]
    },
    {
      "cell_type": "code",
      "metadata": {
        "id": "Fj201a4mHwGB",
        "colab": {
          "base_uri": "https://localhost:8080/"
        },
        "outputId": "c46530af-d6a2-498d-9093-1401a9cf042f"
      },
      "source": [
        "sum_missing.isnull().sum()"
      ],
      "execution_count": null,
      "outputs": [
        {
          "output_type": "execute_result",
          "data": {
            "text/plain": [
              "4"
            ]
          },
          "metadata": {
            "tags": []
          },
          "execution_count": 50
        }
      ]
    },
    {
      "cell_type": "markdown",
      "metadata": {
        "id": "kKxwSHqsSB4T"
      },
      "source": [
        "\n",
        "\n",
        "> Data Operations\n",
        "\n"
      ]
    },
    {
      "cell_type": "code",
      "metadata": {
        "colab": {
          "base_uri": "https://localhost:8080/",
          "height": 228
        },
        "id": "PGqbdVeyKt-T",
        "outputId": "74867e0c-e810-4936-f879-529d3849f231"
      },
      "source": [
        "movie_rating = pd.DataFrame({'movie 1':[5,4,3,3,2,1],'movie 2':[4,5,2,3,4,2]},index=['Tom','Jeff','Peter','Ram','Ted','Paul'])\n",
        "movie_rating"
      ],
      "execution_count": null,
      "outputs": [
        {
          "output_type": "execute_result",
          "data": {
            "text/html": [
              "<div>\n",
              "<style scoped>\n",
              "    .dataframe tbody tr th:only-of-type {\n",
              "        vertical-align: middle;\n",
              "    }\n",
              "\n",
              "    .dataframe tbody tr th {\n",
              "        vertical-align: top;\n",
              "    }\n",
              "\n",
              "    .dataframe thead th {\n",
              "        text-align: right;\n",
              "    }\n",
              "</style>\n",
              "<table border=\"1\" class=\"dataframe\">\n",
              "  <thead>\n",
              "    <tr style=\"text-align: right;\">\n",
              "      <th></th>\n",
              "      <th>movie 1</th>\n",
              "      <th>movie 2</th>\n",
              "    </tr>\n",
              "  </thead>\n",
              "  <tbody>\n",
              "    <tr>\n",
              "      <th>Tom</th>\n",
              "      <td>5</td>\n",
              "      <td>4</td>\n",
              "    </tr>\n",
              "    <tr>\n",
              "      <th>Jeff</th>\n",
              "      <td>4</td>\n",
              "      <td>5</td>\n",
              "    </tr>\n",
              "    <tr>\n",
              "      <th>Peter</th>\n",
              "      <td>3</td>\n",
              "      <td>2</td>\n",
              "    </tr>\n",
              "    <tr>\n",
              "      <th>Ram</th>\n",
              "      <td>3</td>\n",
              "      <td>3</td>\n",
              "    </tr>\n",
              "    <tr>\n",
              "      <th>Ted</th>\n",
              "      <td>2</td>\n",
              "      <td>4</td>\n",
              "    </tr>\n",
              "    <tr>\n",
              "      <th>Paul</th>\n",
              "      <td>1</td>\n",
              "      <td>2</td>\n",
              "    </tr>\n",
              "  </tbody>\n",
              "</table>\n",
              "</div>"
            ],
            "text/plain": [
              "       movie 1  movie 2\n",
              "Tom          5        4\n",
              "Jeff         4        5\n",
              "Peter        3        2\n",
              "Ram          3        3\n",
              "Ted          2        4\n",
              "Paul         1        2"
            ]
          },
          "metadata": {
            "tags": []
          },
          "execution_count": 51
        }
      ]
    },
    {
      "cell_type": "code",
      "metadata": {
        "id": "bBo2XIEnS4TS"
      },
      "source": [
        "def movie_grade(rating):\n",
        "  if(rating==5):\n",
        "    return 'A'\n",
        "  elif rating==4:\n",
        "    return 'B'\n",
        "  elif rating==3:\n",
        "    return 'C'\n",
        "  elif rating==2:\n",
        "    return 'D'\n",
        "  else:\n",
        "    return 'E'"
      ],
      "execution_count": null,
      "outputs": []
    },
    {
      "cell_type": "code",
      "metadata": {
        "colab": {
          "base_uri": "https://localhost:8080/"
        },
        "id": "eLANFhp6T58A",
        "outputId": "2730d4ed-d4e2-4e2e-f389-8b43e95ea845"
      },
      "source": [
        "print(movie_grade(5))"
      ],
      "execution_count": null,
      "outputs": [
        {
          "output_type": "stream",
          "text": [
            "A\n"
          ],
          "name": "stdout"
        }
      ]
    },
    {
      "cell_type": "code",
      "metadata": {
        "id": "XmrazatSUC_5"
      },
      "source": [
        "movie_rating = movie_rating.applymap(movie_grade)"
      ],
      "execution_count": null,
      "outputs": []
    },
    {
      "cell_type": "code",
      "metadata": {
        "colab": {
          "base_uri": "https://localhost:8080/",
          "height": 228
        },
        "id": "nkIaRO1XUOig",
        "outputId": "11e66a9c-6b83-4fab-f591-5ffc809dcf80"
      },
      "source": [
        "movie_rating"
      ],
      "execution_count": null,
      "outputs": [
        {
          "output_type": "execute_result",
          "data": {
            "text/html": [
              "<div>\n",
              "<style scoped>\n",
              "    .dataframe tbody tr th:only-of-type {\n",
              "        vertical-align: middle;\n",
              "    }\n",
              "\n",
              "    .dataframe tbody tr th {\n",
              "        vertical-align: top;\n",
              "    }\n",
              "\n",
              "    .dataframe thead th {\n",
              "        text-align: right;\n",
              "    }\n",
              "</style>\n",
              "<table border=\"1\" class=\"dataframe\">\n",
              "  <thead>\n",
              "    <tr style=\"text-align: right;\">\n",
              "      <th></th>\n",
              "      <th>movie 1</th>\n",
              "      <th>movie 2</th>\n",
              "    </tr>\n",
              "  </thead>\n",
              "  <tbody>\n",
              "    <tr>\n",
              "      <th>Tom</th>\n",
              "      <td>A</td>\n",
              "      <td>B</td>\n",
              "    </tr>\n",
              "    <tr>\n",
              "      <th>Jeff</th>\n",
              "      <td>B</td>\n",
              "      <td>A</td>\n",
              "    </tr>\n",
              "    <tr>\n",
              "      <th>Peter</th>\n",
              "      <td>C</td>\n",
              "      <td>D</td>\n",
              "    </tr>\n",
              "    <tr>\n",
              "      <th>Ram</th>\n",
              "      <td>C</td>\n",
              "      <td>C</td>\n",
              "    </tr>\n",
              "    <tr>\n",
              "      <th>Ted</th>\n",
              "      <td>D</td>\n",
              "      <td>B</td>\n",
              "    </tr>\n",
              "    <tr>\n",
              "      <th>Paul</th>\n",
              "      <td>E</td>\n",
              "      <td>D</td>\n",
              "    </tr>\n",
              "  </tbody>\n",
              "</table>\n",
              "</div>"
            ],
            "text/plain": [
              "      movie 1 movie 2\n",
              "Tom         A       B\n",
              "Jeff        B       A\n",
              "Peter       C       D\n",
              "Ram         C       C\n",
              "Ted         D       B\n",
              "Paul        E       D"
            ]
          },
          "metadata": {
            "tags": []
          },
          "execution_count": 55
        }
      ]
    },
    {
      "cell_type": "code",
      "metadata": {
        "colab": {
          "base_uri": "https://localhost:8080/",
          "height": 228
        },
        "id": "lh3LekNmUS9g",
        "outputId": "5808a1d2-cdbd-4c09-ee39-d481c290b822"
      },
      "source": [
        "df_test_scores = pd.DataFrame({'test 1':[78,45,56,91,23,45],'test 2':[12,56,35,95,48,99]},index=['Jack','Lewis','Patrick','Rich','Kelly','Paul'])\n",
        "df_test_scores"
      ],
      "execution_count": null,
      "outputs": [
        {
          "output_type": "execute_result",
          "data": {
            "text/html": [
              "<div>\n",
              "<style scoped>\n",
              "    .dataframe tbody tr th:only-of-type {\n",
              "        vertical-align: middle;\n",
              "    }\n",
              "\n",
              "    .dataframe tbody tr th {\n",
              "        vertical-align: top;\n",
              "    }\n",
              "\n",
              "    .dataframe thead th {\n",
              "        text-align: right;\n",
              "    }\n",
              "</style>\n",
              "<table border=\"1\" class=\"dataframe\">\n",
              "  <thead>\n",
              "    <tr style=\"text-align: right;\">\n",
              "      <th></th>\n",
              "      <th>test 1</th>\n",
              "      <th>test 2</th>\n",
              "    </tr>\n",
              "  </thead>\n",
              "  <tbody>\n",
              "    <tr>\n",
              "      <th>Jack</th>\n",
              "      <td>78</td>\n",
              "      <td>12</td>\n",
              "    </tr>\n",
              "    <tr>\n",
              "      <th>Lewis</th>\n",
              "      <td>45</td>\n",
              "      <td>56</td>\n",
              "    </tr>\n",
              "    <tr>\n",
              "      <th>Patrick</th>\n",
              "      <td>56</td>\n",
              "      <td>35</td>\n",
              "    </tr>\n",
              "    <tr>\n",
              "      <th>Rich</th>\n",
              "      <td>91</td>\n",
              "      <td>95</td>\n",
              "    </tr>\n",
              "    <tr>\n",
              "      <th>Kelly</th>\n",
              "      <td>23</td>\n",
              "      <td>48</td>\n",
              "    </tr>\n",
              "    <tr>\n",
              "      <th>Paul</th>\n",
              "      <td>45</td>\n",
              "      <td>99</td>\n",
              "    </tr>\n",
              "  </tbody>\n",
              "</table>\n",
              "</div>"
            ],
            "text/plain": [
              "         test 1  test 2\n",
              "Jack         78      12\n",
              "Lewis        45      56\n",
              "Patrick      56      35\n",
              "Rich         91      95\n",
              "Kelly        23      48\n",
              "Paul         45      99"
            ]
          },
          "metadata": {
            "tags": []
          },
          "execution_count": 56
        }
      ]
    },
    {
      "cell_type": "code",
      "metadata": {
        "colab": {
          "base_uri": "https://localhost:8080/"
        },
        "id": "qzZDkjQTYHWc",
        "outputId": "14cf877e-371f-4cea-a1ae-a60327146e6d"
      },
      "source": [
        "df_test_scores.max()"
      ],
      "execution_count": null,
      "outputs": [
        {
          "output_type": "execute_result",
          "data": {
            "text/plain": [
              "test 1    91\n",
              "test 2    99\n",
              "dtype: int64"
            ]
          },
          "metadata": {
            "tags": []
          },
          "execution_count": 57
        }
      ]
    },
    {
      "cell_type": "code",
      "metadata": {
        "colab": {
          "base_uri": "https://localhost:8080/"
        },
        "id": "d1vf5dHeYKso",
        "outputId": "d7f23ea4-1e44-4338-d2ff-07a9086d3ce2"
      },
      "source": [
        "df_test_scores.min()"
      ],
      "execution_count": null,
      "outputs": [
        {
          "output_type": "execute_result",
          "data": {
            "text/plain": [
              "test 1    23\n",
              "test 2    12\n",
              "dtype: int64"
            ]
          },
          "metadata": {
            "tags": []
          },
          "execution_count": 58
        }
      ]
    },
    {
      "cell_type": "code",
      "metadata": {
        "colab": {
          "base_uri": "https://localhost:8080/"
        },
        "id": "rKaAUvhYYMZY",
        "outputId": "816d5de3-d5d8-4c6e-ad60-a7f773973de3"
      },
      "source": [
        "df_test_scores.mean()"
      ],
      "execution_count": null,
      "outputs": [
        {
          "output_type": "execute_result",
          "data": {
            "text/plain": [
              "test 1    56.333333\n",
              "test 2    57.500000\n",
              "dtype: float64"
            ]
          },
          "metadata": {
            "tags": []
          },
          "execution_count": 59
        }
      ]
    },
    {
      "cell_type": "code",
      "metadata": {
        "colab": {
          "base_uri": "https://localhost:8080/"
        },
        "id": "COiOGXHNYUNw",
        "outputId": "60c525ad-801d-4b91-916d-f4f8bcc3c1a4"
      },
      "source": [
        "df_test_scores.std()"
      ],
      "execution_count": null,
      "outputs": [
        {
          "output_type": "execute_result",
          "data": {
            "text/plain": [
              "test 1    24.654952\n",
              "test 2    34.051432\n",
              "dtype: float64"
            ]
          },
          "metadata": {
            "tags": []
          },
          "execution_count": 60
        }
      ]
    },
    {
      "cell_type": "markdown",
      "metadata": {
        "id": "uSYD6sV2YmRF"
      },
      "source": [
        "\n",
        "\n",
        "> Groupby()\n",
        "\n"
      ]
    },
    {
      "cell_type": "code",
      "metadata": {
        "colab": {
          "base_uri": "https://localhost:8080/",
          "height": 198
        },
        "id": "hwbYBmYbYXoI",
        "outputId": "a3763bb7-8b4d-4581-d728-234e5d8391f9"
      },
      "source": [
        "df_president_name = pd.DataFrame({'First name':['George','Bill','Ronald','Jimmy','George'],'Last Name':['Bush','Clinton','Regan','Carter','Washington']})\n",
        "df_president_name"
      ],
      "execution_count": null,
      "outputs": [
        {
          "output_type": "execute_result",
          "data": {
            "text/html": [
              "<div>\n",
              "<style scoped>\n",
              "    .dataframe tbody tr th:only-of-type {\n",
              "        vertical-align: middle;\n",
              "    }\n",
              "\n",
              "    .dataframe tbody tr th {\n",
              "        vertical-align: top;\n",
              "    }\n",
              "\n",
              "    .dataframe thead th {\n",
              "        text-align: right;\n",
              "    }\n",
              "</style>\n",
              "<table border=\"1\" class=\"dataframe\">\n",
              "  <thead>\n",
              "    <tr style=\"text-align: right;\">\n",
              "      <th></th>\n",
              "      <th>First name</th>\n",
              "      <th>Last Name</th>\n",
              "    </tr>\n",
              "  </thead>\n",
              "  <tbody>\n",
              "    <tr>\n",
              "      <th>0</th>\n",
              "      <td>George</td>\n",
              "      <td>Bush</td>\n",
              "    </tr>\n",
              "    <tr>\n",
              "      <th>1</th>\n",
              "      <td>Bill</td>\n",
              "      <td>Clinton</td>\n",
              "    </tr>\n",
              "    <tr>\n",
              "      <th>2</th>\n",
              "      <td>Ronald</td>\n",
              "      <td>Regan</td>\n",
              "    </tr>\n",
              "    <tr>\n",
              "      <th>3</th>\n",
              "      <td>Jimmy</td>\n",
              "      <td>Carter</td>\n",
              "    </tr>\n",
              "    <tr>\n",
              "      <th>4</th>\n",
              "      <td>George</td>\n",
              "      <td>Washington</td>\n",
              "    </tr>\n",
              "  </tbody>\n",
              "</table>\n",
              "</div>"
            ],
            "text/plain": [
              "  First name   Last Name\n",
              "0     George        Bush\n",
              "1       Bill     Clinton\n",
              "2     Ronald       Regan\n",
              "3      Jimmy      Carter\n",
              "4     George  Washington"
            ]
          },
          "metadata": {
            "tags": []
          },
          "execution_count": 61
        }
      ]
    },
    {
      "cell_type": "code",
      "metadata": {
        "colab": {
          "base_uri": "https://localhost:8080/"
        },
        "id": "nZetSSVxZN3m",
        "outputId": "1a0b6d49-e5aa-4f57-af30-912189666530"
      },
      "source": [
        "grouped = df_president_name.groupby('Last Name')  # Groups according to last name\n",
        "grouped"
      ],
      "execution_count": null,
      "outputs": [
        {
          "output_type": "execute_result",
          "data": {
            "text/plain": [
              "<pandas.core.groupby.generic.DataFrameGroupBy object at 0x7f861f0a27f0>"
            ]
          },
          "metadata": {
            "tags": []
          },
          "execution_count": 62
        }
      ]
    },
    {
      "cell_type": "code",
      "metadata": {
        "colab": {
          "base_uri": "https://localhost:8080/",
          "height": 78
        },
        "id": "H7TVQ-WRZajw",
        "outputId": "4b82a5d2-4051-43e2-8657-4a1b55553d31"
      },
      "source": [
        "grp_data = grouped.get_group('Clinton')\n",
        "grp_data"
      ],
      "execution_count": null,
      "outputs": [
        {
          "output_type": "execute_result",
          "data": {
            "text/html": [
              "<div>\n",
              "<style scoped>\n",
              "    .dataframe tbody tr th:only-of-type {\n",
              "        vertical-align: middle;\n",
              "    }\n",
              "\n",
              "    .dataframe tbody tr th {\n",
              "        vertical-align: top;\n",
              "    }\n",
              "\n",
              "    .dataframe thead th {\n",
              "        text-align: right;\n",
              "    }\n",
              "</style>\n",
              "<table border=\"1\" class=\"dataframe\">\n",
              "  <thead>\n",
              "    <tr style=\"text-align: right;\">\n",
              "      <th></th>\n",
              "      <th>First name</th>\n",
              "      <th>Last Name</th>\n",
              "    </tr>\n",
              "  </thead>\n",
              "  <tbody>\n",
              "    <tr>\n",
              "      <th>1</th>\n",
              "      <td>Bill</td>\n",
              "      <td>Clinton</td>\n",
              "    </tr>\n",
              "  </tbody>\n",
              "</table>\n",
              "</div>"
            ],
            "text/plain": [
              "  First name Last Name\n",
              "1       Bill   Clinton"
            ]
          },
          "metadata": {
            "tags": []
          },
          "execution_count": 63
        }
      ]
    },
    {
      "cell_type": "markdown",
      "metadata": {
        "id": "B9CUrDXEcgGW"
      },
      "source": [
        "\n",
        "\n",
        "> Sorting\n",
        "\n"
      ]
    },
    {
      "cell_type": "code",
      "metadata": {
        "colab": {
          "base_uri": "https://localhost:8080/",
          "height": 198
        },
        "id": "QfoiTotxcbRg",
        "outputId": "506871f7-d5f3-489d-ef99-9b65732bd1b4"
      },
      "source": [
        "df_president_name.sort_values('Last Name')"
      ],
      "execution_count": null,
      "outputs": [
        {
          "output_type": "execute_result",
          "data": {
            "text/html": [
              "<div>\n",
              "<style scoped>\n",
              "    .dataframe tbody tr th:only-of-type {\n",
              "        vertical-align: middle;\n",
              "    }\n",
              "\n",
              "    .dataframe tbody tr th {\n",
              "        vertical-align: top;\n",
              "    }\n",
              "\n",
              "    .dataframe thead th {\n",
              "        text-align: right;\n",
              "    }\n",
              "</style>\n",
              "<table border=\"1\" class=\"dataframe\">\n",
              "  <thead>\n",
              "    <tr style=\"text-align: right;\">\n",
              "      <th></th>\n",
              "      <th>First name</th>\n",
              "      <th>Last Name</th>\n",
              "    </tr>\n",
              "  </thead>\n",
              "  <tbody>\n",
              "    <tr>\n",
              "      <th>0</th>\n",
              "      <td>George</td>\n",
              "      <td>Bush</td>\n",
              "    </tr>\n",
              "    <tr>\n",
              "      <th>3</th>\n",
              "      <td>Jimmy</td>\n",
              "      <td>Carter</td>\n",
              "    </tr>\n",
              "    <tr>\n",
              "      <th>1</th>\n",
              "      <td>Bill</td>\n",
              "      <td>Clinton</td>\n",
              "    </tr>\n",
              "    <tr>\n",
              "      <th>2</th>\n",
              "      <td>Ronald</td>\n",
              "      <td>Regan</td>\n",
              "    </tr>\n",
              "    <tr>\n",
              "      <th>4</th>\n",
              "      <td>George</td>\n",
              "      <td>Washington</td>\n",
              "    </tr>\n",
              "  </tbody>\n",
              "</table>\n",
              "</div>"
            ],
            "text/plain": [
              "  First name   Last Name\n",
              "0     George        Bush\n",
              "3      Jimmy      Carter\n",
              "1       Bill     Clinton\n",
              "2     Ronald       Regan\n",
              "4     George  Washington"
            ]
          },
          "metadata": {
            "tags": []
          },
          "execution_count": 64
        }
      ]
    },
    {
      "cell_type": "markdown",
      "metadata": {
        "id": "RFmgkscqg2wo"
      },
      "source": [
        "\n",
        "\n",
        "> Data Standardization\n"
      ]
    },
    {
      "cell_type": "code",
      "metadata": {
        "id": "kzT_s_A0crcS"
      },
      "source": [
        "def standardize_test(test):\n",
        "  return (test-test.mean()) / test.std()\n"
      ],
      "execution_count": null,
      "outputs": []
    },
    {
      "cell_type": "code",
      "metadata": {
        "colab": {
          "base_uri": "https://localhost:8080/"
        },
        "id": "LPERE4_MhNeD",
        "outputId": "234dacd9-3cac-4056-8075-4e620dd01365"
      },
      "source": [
        "standardize_test(df_test_scores['test 1'])"
      ],
      "execution_count": null,
      "outputs": [
        {
          "output_type": "execute_result",
          "data": {
            "text/plain": [
              "Jack       0.878796\n",
              "Lewis     -0.459678\n",
              "Patrick   -0.013520\n",
              "Rich       1.406073\n",
              "Kelly     -1.351993\n",
              "Paul      -0.459678\n",
              "Name: test 1, dtype: float64"
            ]
          },
          "metadata": {
            "tags": []
          },
          "execution_count": 66
        }
      ]
    },
    {
      "cell_type": "code",
      "metadata": {
        "id": "eHors34ThRWq"
      },
      "source": [
        "def standardize_df(datafrm):\n",
        "  return  datafrm.apply(standardize_test)\n",
        ""
      ],
      "execution_count": null,
      "outputs": []
    },
    {
      "cell_type": "code",
      "metadata": {
        "id": "T-mhJ0w-hxzH"
      },
      "source": [
        "standardized_test_scores  = standardize_df(df_test_scores)"
      ],
      "execution_count": null,
      "outputs": []
    },
    {
      "cell_type": "code",
      "metadata": {
        "colab": {
          "base_uri": "https://localhost:8080/"
        },
        "id": "pfLxq_YDiUBR",
        "outputId": "73ebe963-1106-4e77-832f-cc95ebdae10c"
      },
      "source": [
        "standardized_test_scores.std()"
      ],
      "execution_count": null,
      "outputs": [
        {
          "output_type": "execute_result",
          "data": {
            "text/plain": [
              "test 1    1.0\n",
              "test 2    1.0\n",
              "dtype: float64"
            ]
          },
          "metadata": {
            "tags": []
          },
          "execution_count": 69
        }
      ]
    },
    {
      "cell_type": "markdown",
      "metadata": {
        "id": "NdvXlPqurQdg"
      },
      "source": [
        "\n",
        "\n",
        "> Merge ,  Concatenation , Duplicate\n",
        "\n"
      ]
    },
    {
      "cell_type": "code",
      "metadata": {
        "id": "wptRRxvWNr8o"
      },
      "source": [
        "import pandas as pd"
      ],
      "execution_count": null,
      "outputs": []
    },
    {
      "cell_type": "code",
      "metadata": {
        "id": "VcLBtb3EjIi8",
        "colab": {
          "base_uri": "https://localhost:8080/",
          "height": 228
        },
        "outputId": "dd24ad09-76f7-4138-b90c-4a8c0a261ea0"
      },
      "source": [
        "df_student_math = pd.DataFrame({'student':['Tom','Jack','Dan','Ram','Jeff','David'],'ID':[10,56,31,85,9,22]})\n",
        "df_student_math"
      ],
      "execution_count": null,
      "outputs": [
        {
          "output_type": "execute_result",
          "data": {
            "text/html": [
              "<div>\n",
              "<style scoped>\n",
              "    .dataframe tbody tr th:only-of-type {\n",
              "        vertical-align: middle;\n",
              "    }\n",
              "\n",
              "    .dataframe tbody tr th {\n",
              "        vertical-align: top;\n",
              "    }\n",
              "\n",
              "    .dataframe thead th {\n",
              "        text-align: right;\n",
              "    }\n",
              "</style>\n",
              "<table border=\"1\" class=\"dataframe\">\n",
              "  <thead>\n",
              "    <tr style=\"text-align: right;\">\n",
              "      <th></th>\n",
              "      <th>student</th>\n",
              "      <th>ID</th>\n",
              "    </tr>\n",
              "  </thead>\n",
              "  <tbody>\n",
              "    <tr>\n",
              "      <th>0</th>\n",
              "      <td>Tom</td>\n",
              "      <td>10</td>\n",
              "    </tr>\n",
              "    <tr>\n",
              "      <th>1</th>\n",
              "      <td>Jack</td>\n",
              "      <td>56</td>\n",
              "    </tr>\n",
              "    <tr>\n",
              "      <th>2</th>\n",
              "      <td>Dan</td>\n",
              "      <td>31</td>\n",
              "    </tr>\n",
              "    <tr>\n",
              "      <th>3</th>\n",
              "      <td>Ram</td>\n",
              "      <td>85</td>\n",
              "    </tr>\n",
              "    <tr>\n",
              "      <th>4</th>\n",
              "      <td>Jeff</td>\n",
              "      <td>9</td>\n",
              "    </tr>\n",
              "    <tr>\n",
              "      <th>5</th>\n",
              "      <td>David</td>\n",
              "      <td>22</td>\n",
              "    </tr>\n",
              "  </tbody>\n",
              "</table>\n",
              "</div>"
            ],
            "text/plain": [
              "  student  ID\n",
              "0     Tom  10\n",
              "1    Jack  56\n",
              "2     Dan  31\n",
              "3     Ram  85\n",
              "4    Jeff   9\n",
              "5   David  22"
            ]
          },
          "metadata": {
            "tags": []
          },
          "execution_count": 71
        }
      ]
    },
    {
      "cell_type": "code",
      "metadata": {
        "colab": {
          "base_uri": "https://localhost:8080/",
          "height": 168
        },
        "id": "xgGgfbxxrzX2",
        "outputId": "f6983b28-9791-4d3e-ae36-9d0d5aedaaf2"
      },
      "source": [
        "df_student_science = pd.DataFrame({'student':['Tom','Ram','David','PARTH'],'ID':[10,12,22,85]})\n",
        "df_student_science"
      ],
      "execution_count": null,
      "outputs": [
        {
          "output_type": "execute_result",
          "data": {
            "text/html": [
              "<div>\n",
              "<style scoped>\n",
              "    .dataframe tbody tr th:only-of-type {\n",
              "        vertical-align: middle;\n",
              "    }\n",
              "\n",
              "    .dataframe tbody tr th {\n",
              "        vertical-align: top;\n",
              "    }\n",
              "\n",
              "    .dataframe thead th {\n",
              "        text-align: right;\n",
              "    }\n",
              "</style>\n",
              "<table border=\"1\" class=\"dataframe\">\n",
              "  <thead>\n",
              "    <tr style=\"text-align: right;\">\n",
              "      <th></th>\n",
              "      <th>student</th>\n",
              "      <th>ID</th>\n",
              "    </tr>\n",
              "  </thead>\n",
              "  <tbody>\n",
              "    <tr>\n",
              "      <th>0</th>\n",
              "      <td>Tom</td>\n",
              "      <td>10</td>\n",
              "    </tr>\n",
              "    <tr>\n",
              "      <th>1</th>\n",
              "      <td>Ram</td>\n",
              "      <td>12</td>\n",
              "    </tr>\n",
              "    <tr>\n",
              "      <th>2</th>\n",
              "      <td>David</td>\n",
              "      <td>22</td>\n",
              "    </tr>\n",
              "    <tr>\n",
              "      <th>3</th>\n",
              "      <td>PARTH</td>\n",
              "      <td>85</td>\n",
              "    </tr>\n",
              "  </tbody>\n",
              "</table>\n",
              "</div>"
            ],
            "text/plain": [
              "  student  ID\n",
              "0     Tom  10\n",
              "1     Ram  12\n",
              "2   David  22\n",
              "3   PARTH  85"
            ]
          },
          "metadata": {
            "tags": []
          },
          "execution_count": 72
        }
      ]
    },
    {
      "cell_type": "code",
      "metadata": {
        "colab": {
          "base_uri": "https://localhost:8080/",
          "height": 108
        },
        "id": "xdyggZ27siIq",
        "outputId": "b9995bd7-b809-4de6-f65d-b97bed3444af"
      },
      "source": [
        "# Prints the matching rows in both the dataset\n",
        "pd.merge(df_student_math,df_student_science)"
      ],
      "execution_count": null,
      "outputs": [
        {
          "output_type": "execute_result",
          "data": {
            "text/html": [
              "<div>\n",
              "<style scoped>\n",
              "    .dataframe tbody tr th:only-of-type {\n",
              "        vertical-align: middle;\n",
              "    }\n",
              "\n",
              "    .dataframe tbody tr th {\n",
              "        vertical-align: top;\n",
              "    }\n",
              "\n",
              "    .dataframe thead th {\n",
              "        text-align: right;\n",
              "    }\n",
              "</style>\n",
              "<table border=\"1\" class=\"dataframe\">\n",
              "  <thead>\n",
              "    <tr style=\"text-align: right;\">\n",
              "      <th></th>\n",
              "      <th>student</th>\n",
              "      <th>ID</th>\n",
              "    </tr>\n",
              "  </thead>\n",
              "  <tbody>\n",
              "    <tr>\n",
              "      <th>0</th>\n",
              "      <td>Tom</td>\n",
              "      <td>10</td>\n",
              "    </tr>\n",
              "    <tr>\n",
              "      <th>1</th>\n",
              "      <td>David</td>\n",
              "      <td>22</td>\n",
              "    </tr>\n",
              "  </tbody>\n",
              "</table>\n",
              "</div>"
            ],
            "text/plain": [
              "  student  ID\n",
              "0     Tom  10\n",
              "1   David  22"
            ]
          },
          "metadata": {
            "tags": []
          },
          "execution_count": 73
        }
      ]
    },
    {
      "cell_type": "code",
      "metadata": {
        "colab": {
          "base_uri": "https://localhost:8080/",
          "height": 138
        },
        "id": "OMOLxKg6srhy",
        "outputId": "9d2b43fb-947a-40a8-dbe6-97acceefcc53"
      },
      "source": [
        "# Passing column student as a key\n",
        "pd.merge(df_student_math,df_student_science,on='student')"
      ],
      "execution_count": null,
      "outputs": [
        {
          "output_type": "execute_result",
          "data": {
            "text/html": [
              "<div>\n",
              "<style scoped>\n",
              "    .dataframe tbody tr th:only-of-type {\n",
              "        vertical-align: middle;\n",
              "    }\n",
              "\n",
              "    .dataframe tbody tr th {\n",
              "        vertical-align: top;\n",
              "    }\n",
              "\n",
              "    .dataframe thead th {\n",
              "        text-align: right;\n",
              "    }\n",
              "</style>\n",
              "<table border=\"1\" class=\"dataframe\">\n",
              "  <thead>\n",
              "    <tr style=\"text-align: right;\">\n",
              "      <th></th>\n",
              "      <th>student</th>\n",
              "      <th>ID_x</th>\n",
              "      <th>ID_y</th>\n",
              "    </tr>\n",
              "  </thead>\n",
              "  <tbody>\n",
              "    <tr>\n",
              "      <th>0</th>\n",
              "      <td>Tom</td>\n",
              "      <td>10</td>\n",
              "      <td>10</td>\n",
              "    </tr>\n",
              "    <tr>\n",
              "      <th>1</th>\n",
              "      <td>Ram</td>\n",
              "      <td>85</td>\n",
              "      <td>12</td>\n",
              "    </tr>\n",
              "    <tr>\n",
              "      <th>2</th>\n",
              "      <td>David</td>\n",
              "      <td>22</td>\n",
              "      <td>22</td>\n",
              "    </tr>\n",
              "  </tbody>\n",
              "</table>\n",
              "</div>"
            ],
            "text/plain": [
              "  student  ID_x  ID_y\n",
              "0     Tom    10    10\n",
              "1     Ram    85    12\n",
              "2   David    22    22"
            ]
          },
          "metadata": {
            "tags": []
          },
          "execution_count": 74
        }
      ]
    },
    {
      "cell_type": "code",
      "metadata": {
        "id": "Vvnn5oBntl-Q",
        "colab": {
          "base_uri": "https://localhost:8080/",
          "height": 228
        },
        "outputId": "8c19fd9a-ca5f-4afd-fa5a-86cdedc371d1"
      },
      "source": [
        "df_student_math"
      ],
      "execution_count": null,
      "outputs": [
        {
          "output_type": "execute_result",
          "data": {
            "text/html": [
              "<div>\n",
              "<style scoped>\n",
              "    .dataframe tbody tr th:only-of-type {\n",
              "        vertical-align: middle;\n",
              "    }\n",
              "\n",
              "    .dataframe tbody tr th {\n",
              "        vertical-align: top;\n",
              "    }\n",
              "\n",
              "    .dataframe thead th {\n",
              "        text-align: right;\n",
              "    }\n",
              "</style>\n",
              "<table border=\"1\" class=\"dataframe\">\n",
              "  <thead>\n",
              "    <tr style=\"text-align: right;\">\n",
              "      <th></th>\n",
              "      <th>student</th>\n",
              "      <th>ID</th>\n",
              "    </tr>\n",
              "  </thead>\n",
              "  <tbody>\n",
              "    <tr>\n",
              "      <th>0</th>\n",
              "      <td>Tom</td>\n",
              "      <td>10</td>\n",
              "    </tr>\n",
              "    <tr>\n",
              "      <th>1</th>\n",
              "      <td>Jack</td>\n",
              "      <td>56</td>\n",
              "    </tr>\n",
              "    <tr>\n",
              "      <th>2</th>\n",
              "      <td>Dan</td>\n",
              "      <td>31</td>\n",
              "    </tr>\n",
              "    <tr>\n",
              "      <th>3</th>\n",
              "      <td>Ram</td>\n",
              "      <td>85</td>\n",
              "    </tr>\n",
              "    <tr>\n",
              "      <th>4</th>\n",
              "      <td>Jeff</td>\n",
              "      <td>9</td>\n",
              "    </tr>\n",
              "    <tr>\n",
              "      <th>5</th>\n",
              "      <td>David</td>\n",
              "      <td>22</td>\n",
              "    </tr>\n",
              "  </tbody>\n",
              "</table>\n",
              "</div>"
            ],
            "text/plain": [
              "  student  ID\n",
              "0     Tom  10\n",
              "1    Jack  56\n",
              "2     Dan  31\n",
              "3     Ram  85\n",
              "4    Jeff   9\n",
              "5   David  22"
            ]
          },
          "metadata": {
            "tags": []
          },
          "execution_count": 75
        }
      ]
    },
    {
      "cell_type": "code",
      "metadata": {
        "colab": {
          "base_uri": "https://localhost:8080/",
          "height": 168
        },
        "id": "OK0VZYZ9OCS5",
        "outputId": "bc8c99bc-3752-4eb2-a64c-252d3e709ea6"
      },
      "source": [
        "df_student_science"
      ],
      "execution_count": null,
      "outputs": [
        {
          "output_type": "execute_result",
          "data": {
            "text/html": [
              "<div>\n",
              "<style scoped>\n",
              "    .dataframe tbody tr th:only-of-type {\n",
              "        vertical-align: middle;\n",
              "    }\n",
              "\n",
              "    .dataframe tbody tr th {\n",
              "        vertical-align: top;\n",
              "    }\n",
              "\n",
              "    .dataframe thead th {\n",
              "        text-align: right;\n",
              "    }\n",
              "</style>\n",
              "<table border=\"1\" class=\"dataframe\">\n",
              "  <thead>\n",
              "    <tr style=\"text-align: right;\">\n",
              "      <th></th>\n",
              "      <th>student</th>\n",
              "      <th>ID</th>\n",
              "    </tr>\n",
              "  </thead>\n",
              "  <tbody>\n",
              "    <tr>\n",
              "      <th>0</th>\n",
              "      <td>Tom</td>\n",
              "      <td>10</td>\n",
              "    </tr>\n",
              "    <tr>\n",
              "      <th>1</th>\n",
              "      <td>Ram</td>\n",
              "      <td>12</td>\n",
              "    </tr>\n",
              "    <tr>\n",
              "      <th>2</th>\n",
              "      <td>David</td>\n",
              "      <td>22</td>\n",
              "    </tr>\n",
              "    <tr>\n",
              "      <th>3</th>\n",
              "      <td>PARTH</td>\n",
              "      <td>85</td>\n",
              "    </tr>\n",
              "  </tbody>\n",
              "</table>\n",
              "</div>"
            ],
            "text/plain": [
              "  student  ID\n",
              "0     Tom  10\n",
              "1     Ram  12\n",
              "2   David  22\n",
              "3   PARTH  85"
            ]
          },
          "metadata": {
            "tags": []
          },
          "execution_count": 76
        }
      ]
    },
    {
      "cell_type": "code",
      "metadata": {
        "colab": {
          "base_uri": "https://localhost:8080/",
          "height": 168
        },
        "id": "ZuDN7DvgtQpR",
        "outputId": "27e74431-ca7a-41f2-e5a0-bb46962be3d8"
      },
      "source": [
        "# Left join and on key ID and filling missing values with X\n",
        "pd.merge(df_student_math,df_student_science,on='ID',how='outer')  # Returns all rows from the left table\n",
        "                                                                            # but returns only those rows of  the second table whose  ID match with the first table"
      ],
      "execution_count": null,
      "outputs": [
        {
          "output_type": "execute_result",
          "data": {
            "text/html": [
              "<div>\n",
              "<style scoped>\n",
              "    .dataframe tbody tr th:only-of-type {\n",
              "        vertical-align: middle;\n",
              "    }\n",
              "\n",
              "    .dataframe tbody tr th {\n",
              "        vertical-align: top;\n",
              "    }\n",
              "\n",
              "    .dataframe thead th {\n",
              "        text-align: right;\n",
              "    }\n",
              "</style>\n",
              "<table border=\"1\" class=\"dataframe\">\n",
              "  <thead>\n",
              "    <tr style=\"text-align: right;\">\n",
              "      <th></th>\n",
              "      <th>student_x</th>\n",
              "      <th>ID</th>\n",
              "      <th>student_y</th>\n",
              "    </tr>\n",
              "  </thead>\n",
              "  <tbody>\n",
              "    <tr>\n",
              "      <th>0</th>\n",
              "      <td>Tom</td>\n",
              "      <td>10</td>\n",
              "      <td>Tom</td>\n",
              "    </tr>\n",
              "    <tr>\n",
              "      <th>1</th>\n",
              "      <td>NaN</td>\n",
              "      <td>12</td>\n",
              "      <td>Ram</td>\n",
              "    </tr>\n",
              "    <tr>\n",
              "      <th>2</th>\n",
              "      <td>David</td>\n",
              "      <td>22</td>\n",
              "      <td>David</td>\n",
              "    </tr>\n",
              "    <tr>\n",
              "      <th>3</th>\n",
              "      <td>Ram</td>\n",
              "      <td>85</td>\n",
              "      <td>PARTH</td>\n",
              "    </tr>\n",
              "  </tbody>\n",
              "</table>\n",
              "</div>"
            ],
            "text/plain": [
              "  student_x  ID student_y\n",
              "0       Tom  10       Tom\n",
              "1       NaN  12       Ram\n",
              "2     David  22     David\n",
              "3       Ram  85     PARTH"
            ]
          },
          "metadata": {
            "tags": []
          },
          "execution_count": 80
        }
      ]
    },
    {
      "cell_type": "code",
      "metadata": {
        "colab": {
          "base_uri": "https://localhost:8080/",
          "height": 138
        },
        "id": "OlolVMpdODlH",
        "outputId": "78bcbe3f-cb7c-42d1-89de-f4595d9f8c13"
      },
      "source": [
        "pd.merge(df_student_science,df_student_math,on='student') # Prints all the other columns based on student"
      ],
      "execution_count": null,
      "outputs": [
        {
          "output_type": "execute_result",
          "data": {
            "text/html": [
              "<div>\n",
              "<style scoped>\n",
              "    .dataframe tbody tr th:only-of-type {\n",
              "        vertical-align: middle;\n",
              "    }\n",
              "\n",
              "    .dataframe tbody tr th {\n",
              "        vertical-align: top;\n",
              "    }\n",
              "\n",
              "    .dataframe thead th {\n",
              "        text-align: right;\n",
              "    }\n",
              "</style>\n",
              "<table border=\"1\" class=\"dataframe\">\n",
              "  <thead>\n",
              "    <tr style=\"text-align: right;\">\n",
              "      <th></th>\n",
              "      <th>student</th>\n",
              "      <th>ID_x</th>\n",
              "      <th>ID_y</th>\n",
              "    </tr>\n",
              "  </thead>\n",
              "  <tbody>\n",
              "    <tr>\n",
              "      <th>0</th>\n",
              "      <td>Tom</td>\n",
              "      <td>10</td>\n",
              "      <td>10</td>\n",
              "    </tr>\n",
              "    <tr>\n",
              "      <th>1</th>\n",
              "      <td>Ram</td>\n",
              "      <td>12</td>\n",
              "      <td>85</td>\n",
              "    </tr>\n",
              "    <tr>\n",
              "      <th>2</th>\n",
              "      <td>David</td>\n",
              "      <td>22</td>\n",
              "      <td>22</td>\n",
              "    </tr>\n",
              "  </tbody>\n",
              "</table>\n",
              "</div>"
            ],
            "text/plain": [
              "  student  ID_x  ID_y\n",
              "0     Tom    10    10\n",
              "1     Ram    12    85\n",
              "2   David    22    22"
            ]
          },
          "metadata": {
            "tags": []
          },
          "execution_count": 78
        }
      ]
    },
    {
      "cell_type": "code",
      "metadata": {
        "colab": {
          "base_uri": "https://localhost:8080/"
        },
        "id": "1NG5TCZur9OI",
        "outputId": "9029e7fc-6e62-489b-9b88-e60ad9f1efac"
      },
      "source": [
        "duplicate_data.duplicated()"
      ],
      "execution_count": null,
      "outputs": [
        {
          "output_type": "execute_result",
          "data": {
            "text/plain": [
              "0    False\n",
              "1    False\n",
              "2    False\n",
              "3    False\n",
              "4    False\n",
              "5    False\n",
              "6     True\n",
              "7    False\n",
              "8     True\n",
              "9    False\n",
              "dtype: bool"
            ]
          },
          "metadata": {
            "tags": []
          },
          "execution_count": 89
        }
      ]
    },
    {
      "cell_type": "code",
      "metadata": {
        "colab": {
          "base_uri": "https://localhost:8080/",
          "height": 258
        },
        "id": "W20_1mzHtcmv",
        "outputId": "b0840a1e-4de5-4d2a-f9d9-d4e388a52281"
      },
      "source": [
        "duplicate_data.drop_duplicates('student')"
      ],
      "execution_count": null,
      "outputs": [
        {
          "output_type": "execute_result",
          "data": {
            "text/html": [
              "<div>\n",
              "<style scoped>\n",
              "    .dataframe tbody tr th:only-of-type {\n",
              "        vertical-align: middle;\n",
              "    }\n",
              "\n",
              "    .dataframe tbody tr th {\n",
              "        vertical-align: top;\n",
              "    }\n",
              "\n",
              "    .dataframe thead th {\n",
              "        text-align: right;\n",
              "    }\n",
              "</style>\n",
              "<table border=\"1\" class=\"dataframe\">\n",
              "  <thead>\n",
              "    <tr style=\"text-align: right;\">\n",
              "      <th></th>\n",
              "      <th>student</th>\n",
              "      <th>ID</th>\n",
              "    </tr>\n",
              "  </thead>\n",
              "  <tbody>\n",
              "    <tr>\n",
              "      <th>0</th>\n",
              "      <td>Tom</td>\n",
              "      <td>10</td>\n",
              "    </tr>\n",
              "    <tr>\n",
              "      <th>1</th>\n",
              "      <td>Jack</td>\n",
              "      <td>56</td>\n",
              "    </tr>\n",
              "    <tr>\n",
              "      <th>2</th>\n",
              "      <td>Dan</td>\n",
              "      <td>31</td>\n",
              "    </tr>\n",
              "    <tr>\n",
              "      <th>3</th>\n",
              "      <td>Ram</td>\n",
              "      <td>85</td>\n",
              "    </tr>\n",
              "    <tr>\n",
              "      <th>4</th>\n",
              "      <td>Jeff</td>\n",
              "      <td>9</td>\n",
              "    </tr>\n",
              "    <tr>\n",
              "      <th>5</th>\n",
              "      <td>David</td>\n",
              "      <td>22</td>\n",
              "    </tr>\n",
              "    <tr>\n",
              "      <th>9</th>\n",
              "      <td>PARTH</td>\n",
              "      <td>85</td>\n",
              "    </tr>\n",
              "  </tbody>\n",
              "</table>\n",
              "</div>"
            ],
            "text/plain": [
              "  student  ID\n",
              "0     Tom  10\n",
              "1    Jack  56\n",
              "2     Dan  31\n",
              "3     Ram  85\n",
              "4    Jeff   9\n",
              "5   David  22\n",
              "9   PARTH  85"
            ]
          },
          "metadata": {
            "tags": []
          },
          "execution_count": 90
        }
      ]
    },
    {
      "cell_type": "code",
      "metadata": {
        "colab": {
          "base_uri": "https://localhost:8080/",
          "height": 258
        },
        "id": "lrnW-6BitjmF",
        "outputId": "01dcd2c2-0b7c-4965-cbc6-060ed3ccd29a"
      },
      "source": [
        "duplicate_data.drop_duplicates('ID')"
      ],
      "execution_count": null,
      "outputs": [
        {
          "output_type": "execute_result",
          "data": {
            "text/html": [
              "<div>\n",
              "<style scoped>\n",
              "    .dataframe tbody tr th:only-of-type {\n",
              "        vertical-align: middle;\n",
              "    }\n",
              "\n",
              "    .dataframe tbody tr th {\n",
              "        vertical-align: top;\n",
              "    }\n",
              "\n",
              "    .dataframe thead th {\n",
              "        text-align: right;\n",
              "    }\n",
              "</style>\n",
              "<table border=\"1\" class=\"dataframe\">\n",
              "  <thead>\n",
              "    <tr style=\"text-align: right;\">\n",
              "      <th></th>\n",
              "      <th>student</th>\n",
              "      <th>ID</th>\n",
              "    </tr>\n",
              "  </thead>\n",
              "  <tbody>\n",
              "    <tr>\n",
              "      <th>0</th>\n",
              "      <td>Tom</td>\n",
              "      <td>10</td>\n",
              "    </tr>\n",
              "    <tr>\n",
              "      <th>1</th>\n",
              "      <td>Jack</td>\n",
              "      <td>56</td>\n",
              "    </tr>\n",
              "    <tr>\n",
              "      <th>2</th>\n",
              "      <td>Dan</td>\n",
              "      <td>31</td>\n",
              "    </tr>\n",
              "    <tr>\n",
              "      <th>3</th>\n",
              "      <td>Ram</td>\n",
              "      <td>85</td>\n",
              "    </tr>\n",
              "    <tr>\n",
              "      <th>4</th>\n",
              "      <td>Jeff</td>\n",
              "      <td>9</td>\n",
              "    </tr>\n",
              "    <tr>\n",
              "      <th>5</th>\n",
              "      <td>David</td>\n",
              "      <td>22</td>\n",
              "    </tr>\n",
              "    <tr>\n",
              "      <th>7</th>\n",
              "      <td>Ram</td>\n",
              "      <td>12</td>\n",
              "    </tr>\n",
              "  </tbody>\n",
              "</table>\n",
              "</div>"
            ],
            "text/plain": [
              "  student  ID\n",
              "0     Tom  10\n",
              "1    Jack  56\n",
              "2     Dan  31\n",
              "3     Ram  85\n",
              "4    Jeff   9\n",
              "5   David  22\n",
              "7     Ram  12"
            ]
          },
          "metadata": {
            "tags": []
          },
          "execution_count": 91
        }
      ]
    },
    {
      "cell_type": "code",
      "metadata": {
        "id": "wTF0ui9xinE9",
        "colab": {
          "base_uri": "https://localhost:8080/",
          "height": 348
        },
        "outputId": "3637b14e-eb87-48aa-daca-de4b32059fbf"
      },
      "source": [
        "# Concatinating both the datasets with ignore_index='True'\n",
        "duplicate_data  = pd.concat([df_student_math,df_student_science],ignore_index='True')\n",
        "duplicate_data"
      ],
      "execution_count": null,
      "outputs": [
        {
          "output_type": "execute_result",
          "data": {
            "text/html": [
              "<div>\n",
              "<style scoped>\n",
              "    .dataframe tbody tr th:only-of-type {\n",
              "        vertical-align: middle;\n",
              "    }\n",
              "\n",
              "    .dataframe tbody tr th {\n",
              "        vertical-align: top;\n",
              "    }\n",
              "\n",
              "    .dataframe thead th {\n",
              "        text-align: right;\n",
              "    }\n",
              "</style>\n",
              "<table border=\"1\" class=\"dataframe\">\n",
              "  <thead>\n",
              "    <tr style=\"text-align: right;\">\n",
              "      <th></th>\n",
              "      <th>student</th>\n",
              "      <th>ID</th>\n",
              "    </tr>\n",
              "  </thead>\n",
              "  <tbody>\n",
              "    <tr>\n",
              "      <th>0</th>\n",
              "      <td>Tom</td>\n",
              "      <td>10</td>\n",
              "    </tr>\n",
              "    <tr>\n",
              "      <th>1</th>\n",
              "      <td>Jack</td>\n",
              "      <td>56</td>\n",
              "    </tr>\n",
              "    <tr>\n",
              "      <th>2</th>\n",
              "      <td>Dan</td>\n",
              "      <td>31</td>\n",
              "    </tr>\n",
              "    <tr>\n",
              "      <th>3</th>\n",
              "      <td>Ram</td>\n",
              "      <td>85</td>\n",
              "    </tr>\n",
              "    <tr>\n",
              "      <th>4</th>\n",
              "      <td>Jeff</td>\n",
              "      <td>9</td>\n",
              "    </tr>\n",
              "    <tr>\n",
              "      <th>5</th>\n",
              "      <td>David</td>\n",
              "      <td>22</td>\n",
              "    </tr>\n",
              "    <tr>\n",
              "      <th>6</th>\n",
              "      <td>Tom</td>\n",
              "      <td>10</td>\n",
              "    </tr>\n",
              "    <tr>\n",
              "      <th>7</th>\n",
              "      <td>Ram</td>\n",
              "      <td>12</td>\n",
              "    </tr>\n",
              "    <tr>\n",
              "      <th>8</th>\n",
              "      <td>David</td>\n",
              "      <td>22</td>\n",
              "    </tr>\n",
              "    <tr>\n",
              "      <th>9</th>\n",
              "      <td>PARTH</td>\n",
              "      <td>85</td>\n",
              "    </tr>\n",
              "  </tbody>\n",
              "</table>\n",
              "</div>"
            ],
            "text/plain": [
              "  student  ID\n",
              "0     Tom  10\n",
              "1    Jack  56\n",
              "2     Dan  31\n",
              "3     Ram  85\n",
              "4    Jeff   9\n",
              "5   David  22\n",
              "6     Tom  10\n",
              "7     Ram  12\n",
              "8   David  22\n",
              "9   PARTH  85"
            ]
          },
          "metadata": {
            "tags": []
          },
          "execution_count": 88
        }
      ]
    },
    {
      "cell_type": "code",
      "metadata": {
        "colab": {
          "base_uri": "https://localhost:8080/",
          "height": 228
        },
        "id": "havz_ry-uGi2",
        "outputId": "1357ed7f-673a-47b6-c50a-8f9c3ba8028b"
      },
      "source": [
        "duplicate_data_1 = pd.DataFrame({'student':['Tom','Jack','Tom','Alastair','ALTER','Alastair'],'ID':[45,12,78,56,12,56]})\n",
        "duplicate_data_1\n"
      ],
      "execution_count": null,
      "outputs": [
        {
          "output_type": "execute_result",
          "data": {
            "text/html": [
              "<div>\n",
              "<style scoped>\n",
              "    .dataframe tbody tr th:only-of-type {\n",
              "        vertical-align: middle;\n",
              "    }\n",
              "\n",
              "    .dataframe tbody tr th {\n",
              "        vertical-align: top;\n",
              "    }\n",
              "\n",
              "    .dataframe thead th {\n",
              "        text-align: right;\n",
              "    }\n",
              "</style>\n",
              "<table border=\"1\" class=\"dataframe\">\n",
              "  <thead>\n",
              "    <tr style=\"text-align: right;\">\n",
              "      <th></th>\n",
              "      <th>student</th>\n",
              "      <th>ID</th>\n",
              "    </tr>\n",
              "  </thead>\n",
              "  <tbody>\n",
              "    <tr>\n",
              "      <th>0</th>\n",
              "      <td>Tom</td>\n",
              "      <td>45</td>\n",
              "    </tr>\n",
              "    <tr>\n",
              "      <th>1</th>\n",
              "      <td>Jack</td>\n",
              "      <td>12</td>\n",
              "    </tr>\n",
              "    <tr>\n",
              "      <th>2</th>\n",
              "      <td>Tom</td>\n",
              "      <td>78</td>\n",
              "    </tr>\n",
              "    <tr>\n",
              "      <th>3</th>\n",
              "      <td>Alastair</td>\n",
              "      <td>56</td>\n",
              "    </tr>\n",
              "    <tr>\n",
              "      <th>4</th>\n",
              "      <td>ALTER</td>\n",
              "      <td>12</td>\n",
              "    </tr>\n",
              "    <tr>\n",
              "      <th>5</th>\n",
              "      <td>Alastair</td>\n",
              "      <td>56</td>\n",
              "    </tr>\n",
              "  </tbody>\n",
              "</table>\n",
              "</div>"
            ],
            "text/plain": [
              "    student  ID\n",
              "0       Tom  45\n",
              "1      Jack  12\n",
              "2       Tom  78\n",
              "3  Alastair  56\n",
              "4     ALTER  12\n",
              "5  Alastair  56"
            ]
          },
          "metadata": {
            "tags": []
          },
          "execution_count": 116
        }
      ]
    },
    {
      "cell_type": "code",
      "metadata": {
        "id": "jM58IWc0w7-m"
      },
      "source": [],
      "execution_count": null,
      "outputs": []
    },
    {
      "cell_type": "code",
      "metadata": {
        "colab": {
          "base_uri": "https://localhost:8080/"
        },
        "id": "fPOcSQ7Pu0im",
        "outputId": "c1f12188-a13e-4fa4-b78e-956a86ff7bc8"
      },
      "source": [
        "duplicate_data_1.duplicated()  # Check for duplicated values which have same values in all the column"
      ],
      "execution_count": null,
      "outputs": [
        {
          "output_type": "execute_result",
          "data": {
            "text/plain": [
              "0    False\n",
              "1    False\n",
              "2    False\n",
              "3    False\n",
              "4    False\n",
              "5     True\n",
              "dtype: bool"
            ]
          },
          "metadata": {
            "tags": []
          },
          "execution_count": 117
        }
      ]
    },
    {
      "cell_type": "code",
      "metadata": {
        "colab": {
          "base_uri": "https://localhost:8080/",
          "height": 168
        },
        "id": "51GeifG2u4lt",
        "outputId": "f21434a1-0f66-419b-9a72-6c70f513ad99"
      },
      "source": [
        "duplicate_data_1.drop_duplicates('ID') # Drops the duplicated  rows which are below by column 'ID'"
      ],
      "execution_count": null,
      "outputs": [
        {
          "output_type": "execute_result",
          "data": {
            "text/html": [
              "<div>\n",
              "<style scoped>\n",
              "    .dataframe tbody tr th:only-of-type {\n",
              "        vertical-align: middle;\n",
              "    }\n",
              "\n",
              "    .dataframe tbody tr th {\n",
              "        vertical-align: top;\n",
              "    }\n",
              "\n",
              "    .dataframe thead th {\n",
              "        text-align: right;\n",
              "    }\n",
              "</style>\n",
              "<table border=\"1\" class=\"dataframe\">\n",
              "  <thead>\n",
              "    <tr style=\"text-align: right;\">\n",
              "      <th></th>\n",
              "      <th>student</th>\n",
              "      <th>ID</th>\n",
              "    </tr>\n",
              "  </thead>\n",
              "  <tbody>\n",
              "    <tr>\n",
              "      <th>0</th>\n",
              "      <td>Tom</td>\n",
              "      <td>45</td>\n",
              "    </tr>\n",
              "    <tr>\n",
              "      <th>1</th>\n",
              "      <td>Jack</td>\n",
              "      <td>12</td>\n",
              "    </tr>\n",
              "    <tr>\n",
              "      <th>2</th>\n",
              "      <td>Tom</td>\n",
              "      <td>78</td>\n",
              "    </tr>\n",
              "    <tr>\n",
              "      <th>3</th>\n",
              "      <td>Alastair</td>\n",
              "      <td>56</td>\n",
              "    </tr>\n",
              "  </tbody>\n",
              "</table>\n",
              "</div>"
            ],
            "text/plain": [
              "    student  ID\n",
              "0       Tom  45\n",
              "1      Jack  12\n",
              "2       Tom  78\n",
              "3  Alastair  56"
            ]
          },
          "metadata": {
            "tags": []
          },
          "execution_count": 118
        }
      ]
    },
    {
      "cell_type": "code",
      "metadata": {
        "colab": {
          "base_uri": "https://localhost:8080/",
          "height": 108
        },
        "id": "zcpvAFm8u8Lu",
        "outputId": "f6effe4b-2a93-49f8-9c24-686603d37808"
      },
      "source": [
        "duplicate_data[2:4]"
      ],
      "execution_count": null,
      "outputs": [
        {
          "output_type": "execute_result",
          "data": {
            "text/html": [
              "<div>\n",
              "<style scoped>\n",
              "    .dataframe tbody tr th:only-of-type {\n",
              "        vertical-align: middle;\n",
              "    }\n",
              "\n",
              "    .dataframe tbody tr th {\n",
              "        vertical-align: top;\n",
              "    }\n",
              "\n",
              "    .dataframe thead th {\n",
              "        text-align: right;\n",
              "    }\n",
              "</style>\n",
              "<table border=\"1\" class=\"dataframe\">\n",
              "  <thead>\n",
              "    <tr style=\"text-align: right;\">\n",
              "      <th></th>\n",
              "      <th>student</th>\n",
              "      <th>ID</th>\n",
              "    </tr>\n",
              "  </thead>\n",
              "  <tbody>\n",
              "    <tr>\n",
              "      <th>2</th>\n",
              "      <td>Dan</td>\n",
              "      <td>31</td>\n",
              "    </tr>\n",
              "    <tr>\n",
              "      <th>3</th>\n",
              "      <td>Ram</td>\n",
              "      <td>85</td>\n",
              "    </tr>\n",
              "  </tbody>\n",
              "</table>\n",
              "</div>"
            ],
            "text/plain": [
              "  student  ID\n",
              "2     Dan  31\n",
              "3     Ram  85"
            ]
          },
          "metadata": {
            "tags": []
          },
          "execution_count": 121
        }
      ]
    },
    {
      "cell_type": "markdown",
      "metadata": {
        "id": "pygHXZnv_zEj"
      },
      "source": [
        "\n",
        "\n",
        "> PANDAS SQL OPERATION\n",
        "\n"
      ]
    },
    {
      "cell_type": "code",
      "metadata": {
        "id": "ktU_d2vGx6QA"
      },
      "source": [
        "# import libraries\n",
        "import pandas as pd\n",
        "import sqlite3"
      ],
      "execution_count": null,
      "outputs": []
    },
    {
      "cell_type": "code",
      "metadata": {
        "id": "ONz71415ABNP"
      },
      "source": [
        "# Create SQL table\n",
        "create_table = \"\"\"\n",
        "CREATE TABLE student_score\n",
        "(Id INTEGER,Name VARCHAR(20),Math REAL,\n",
        "Science REAL\n",
        ");\"\"\""
      ],
      "execution_count": null,
      "outputs": []
    },
    {
      "cell_type": "code",
      "metadata": {
        "id": "in4RsYX4AgUH"
      },
      "source": [
        "# execute the SQL statement\n",
        "executeSQL = sqlite3.connect(':memory:')\n",
        "executeSQL.execute(create_table)  # Executes the create_table\n",
        "executeSQL.commit()               # Completes the transaction of creating a table"
      ],
      "execution_count": null,
      "outputs": []
    },
    {
      "cell_type": "code",
      "metadata": {
        "id": "trLBOn50A8Lg"
      },
      "source": [
        "# prepare a SQL query\n",
        "SQL_query = executeSQL.execute('select * from student_score')"
      ],
      "execution_count": null,
      "outputs": []
    },
    {
      "cell_type": "code",
      "metadata": {
        "id": "8CInigQYBKTa"
      },
      "source": [
        "# fetch the result from the SQLite Database\n",
        "result_SQL = SQL_query.fetchall()"
      ],
      "execution_count": null,
      "outputs": []
    },
    {
      "cell_type": "code",
      "metadata": {
        "colab": {
          "base_uri": "https://localhost:8080/"
        },
        "id": "-3Fc7-ypCBMK",
        "outputId": "ac71e7f3-85a5-4934-9d99-69c3cd04c8c7"
      },
      "source": [
        "result_SQL"
      ],
      "execution_count": null,
      "outputs": [
        {
          "output_type": "execute_result",
          "data": {
            "text/plain": [
              "[]"
            ]
          },
          "metadata": {
            "tags": []
          },
          "execution_count": 6
        }
      ]
    },
    {
      "cell_type": "code",
      "metadata": {
        "id": "ofXdQjtPCDJ6"
      },
      "source": [
        "# prepare records to be inserted into SQL table through SQL statements\n",
        "insert_sql = [(10,'Jack',85,92),(29,'Tom',73,89),(65,'Ram',65,77),(5,'Steve',55,91)]\n"
      ],
      "execution_count": null,
      "outputs": []
    },
    {
      "cell_type": "code",
      "metadata": {
        "id": "miN5QOX0DlzJ"
      },
      "source": [
        "# insert record into SQL table through SQL statements\n",
        "insert_statement = 'Insert into student_score values(?,?,?,?)'\n",
        "executeSQL.executemany(insert_statement,insert_sql)\n",
        "executeSQL.commit()  # Completes the transaction and inserts the values"
      ],
      "execution_count": null,
      "outputs": []
    },
    {
      "cell_type": "code",
      "metadata": {
        "id": "7WIB1dGuEI-E"
      },
      "source": [
        "# prepare sql query\n",
        "SQL_query_=  executeSQL.execute('select * from student_score')"
      ],
      "execution_count": null,
      "outputs": []
    },
    {
      "cell_type": "code",
      "metadata": {
        "colab": {
          "base_uri": "https://localhost:8080/"
        },
        "id": "UHxwq9esEzpN",
        "outputId": "9a938f92-38ae-4d24-ce32-86a10eba6194"
      },
      "source": [
        "# fetch the result for the query\n",
        "result_SQL1 = SQL_query_.fetchall()\n",
        "result_SQL1"
      ],
      "execution_count": null,
      "outputs": [
        {
          "output_type": "execute_result",
          "data": {
            "text/plain": [
              "[(10, 'Jack', 85.0, 92.0),\n",
              " (29, 'Tom', 73.0, 89.0),\n",
              " (65, 'Ram', 65.0, 77.0),\n",
              " (5, 'Steve', 55.0, 91.0)]"
            ]
          },
          "metadata": {
            "tags": []
          },
          "execution_count": 10
        }
      ]
    },
    {
      "cell_type": "code",
      "metadata": {
        "id": "7cmw3l4mFDdb",
        "colab": {
          "base_uri": "https://localhost:8080/",
          "height": 169
        },
        "outputId": "926722da-7c96-4ab7-8255-d284acded862"
      },
      "source": [
        "# put the records together in a dataset\n",
        "df_student_records = pd.DataFrame(result_SQL1,columns=list(zip(*SQL_query_.description))[0])\n",
        "df_student_records"
      ],
      "execution_count": null,
      "outputs": [
        {
          "output_type": "execute_result",
          "data": {
            "text/html": [
              "<div>\n",
              "<style scoped>\n",
              "    .dataframe tbody tr th:only-of-type {\n",
              "        vertical-align: middle;\n",
              "    }\n",
              "\n",
              "    .dataframe tbody tr th {\n",
              "        vertical-align: top;\n",
              "    }\n",
              "\n",
              "    .dataframe thead th {\n",
              "        text-align: right;\n",
              "    }\n",
              "</style>\n",
              "<table border=\"1\" class=\"dataframe\">\n",
              "  <thead>\n",
              "    <tr style=\"text-align: right;\">\n",
              "      <th></th>\n",
              "      <th>Id</th>\n",
              "      <th>Name</th>\n",
              "      <th>Math</th>\n",
              "      <th>Science</th>\n",
              "    </tr>\n",
              "  </thead>\n",
              "  <tbody>\n",
              "    <tr>\n",
              "      <th>0</th>\n",
              "      <td>10</td>\n",
              "      <td>Jack</td>\n",
              "      <td>85.0</td>\n",
              "      <td>92.0</td>\n",
              "    </tr>\n",
              "    <tr>\n",
              "      <th>1</th>\n",
              "      <td>29</td>\n",
              "      <td>Tom</td>\n",
              "      <td>73.0</td>\n",
              "      <td>89.0</td>\n",
              "    </tr>\n",
              "    <tr>\n",
              "      <th>2</th>\n",
              "      <td>65</td>\n",
              "      <td>Ram</td>\n",
              "      <td>65.0</td>\n",
              "      <td>77.0</td>\n",
              "    </tr>\n",
              "    <tr>\n",
              "      <th>3</th>\n",
              "      <td>5</td>\n",
              "      <td>Steve</td>\n",
              "      <td>55.0</td>\n",
              "      <td>91.0</td>\n",
              "    </tr>\n",
              "  </tbody>\n",
              "</table>\n",
              "</div>"
            ],
            "text/plain": [
              "   Id   Name  Math  Science\n",
              "0  10   Jack  85.0     92.0\n",
              "1  29    Tom  73.0     89.0\n",
              "2  65    Ram  65.0     77.0\n",
              "3   5  Steve  55.0     91.0"
            ]
          },
          "metadata": {
            "tags": []
          },
          "execution_count": 15
        }
      ]
    },
    {
      "cell_type": "code",
      "metadata": {
        "colab": {
          "base_uri": "https://localhost:8080/"
        },
        "id": "o-Yry2Gj28gt",
        "outputId": "c3739552-b771-4f08-8e3d-1f764a4ea314"
      },
      "source": [
        "zip(*SQL_query_.description)"
      ],
      "execution_count": null,
      "outputs": [
        {
          "output_type": "execute_result",
          "data": {
            "text/plain": [
              "<zip at 0x7f96dd54e508>"
            ]
          },
          "metadata": {
            "tags": []
          },
          "execution_count": 13
        }
      ]
    },
    {
      "cell_type": "code",
      "metadata": {
        "id": "tP3TtvGV3aqk"
      },
      "source": [],
      "execution_count": null,
      "outputs": []
    }
  ]
}