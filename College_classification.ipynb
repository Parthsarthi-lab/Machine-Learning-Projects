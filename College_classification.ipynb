{
  "nbformat": 4,
  "nbformat_minor": 0,
  "metadata": {
    "colab": {
      "provenance": [],
      "authorship_tag": "ABX9TyN9LkOFFquK+YhryrE2ja71",
      "include_colab_link": true
    },
    "kernelspec": {
      "name": "python3",
      "display_name": "Python 3"
    },
    "language_info": {
      "name": "python"
    }
  },
  "cells": [
    {
      "cell_type": "markdown",
      "metadata": {
        "id": "view-in-github",
        "colab_type": "text"
      },
      "source": [
        "<a href=\"https://colab.research.google.com/github/Parthsarthi-lab/Machine-Learning-Projects/blob/main/College_classification.ipynb\" target=\"_parent\"><img src=\"https://colab.research.google.com/assets/colab-badge.svg\" alt=\"Open In Colab\"/></a>"
      ]
    },
    {
      "cell_type": "code",
      "metadata": {
        "colab": {
          "base_uri": "https://localhost:8080/"
        },
        "id": "WfuDfh10ZfwA",
        "outputId": "fb73c842-7946-4ae5-968e-ee61b807bf8f"
      },
      "source": [
        "from google.colab import drive\n",
        "drive.mount('/content/drive')"
      ],
      "execution_count": null,
      "outputs": [
        {
          "output_type": "stream",
          "text": [
            "Mounted at /content/drive\n"
          ],
          "name": "stdout"
        }
      ]
    },
    {
      "cell_type": "code",
      "metadata": {
        "id": "TD80vi8rZ73W"
      },
      "source": [
        "import pandas as pd\n",
        "import numpy as np\n",
        "import matplotlib.pyplot as plt\n",
        "%matplotlib inline\n",
        "from sklearn.metrics import accuracy_score,confusion_matrix,classification_report\n",
        "from sklearn.model_selection import train_test_split\n"
      ],
      "execution_count": null,
      "outputs": []
    },
    {
      "cell_type": "code",
      "metadata": {
        "colab": {
          "base_uri": "https://localhost:8080/",
          "height": 420
        },
        "id": "Us-mJNg7c_Tq",
        "outputId": "fe1d2d7b-b8e6-480e-dc56-6404db81a0a7"
      },
      "source": [
        "college = pd.read_csv(\"/content/drive/MyDrive/Datasets/PYTHON/Demo_Datasets.zip (Unzipped Files)/Demo Datasets/Lesson 6/College.csv\")\n",
        "college"
      ],
      "execution_count": null,
      "outputs": [
        {
          "output_type": "execute_result",
          "data": {
            "text/html": [
              "<div>\n",
              "<style scoped>\n",
              "    .dataframe tbody tr th:only-of-type {\n",
              "        vertical-align: middle;\n",
              "    }\n",
              "\n",
              "    .dataframe tbody tr th {\n",
              "        vertical-align: top;\n",
              "    }\n",
              "\n",
              "    .dataframe thead th {\n",
              "        text-align: right;\n",
              "    }\n",
              "</style>\n",
              "<table border=\"1\" class=\"dataframe\">\n",
              "  <thead>\n",
              "    <tr style=\"text-align: right;\">\n",
              "      <th></th>\n",
              "      <th>Private</th>\n",
              "      <th>Apps</th>\n",
              "      <th>Accept</th>\n",
              "      <th>Enroll</th>\n",
              "      <th>Top10perc</th>\n",
              "      <th>Top25perc</th>\n",
              "      <th>F.Undergrad</th>\n",
              "      <th>P.Undergrad</th>\n",
              "      <th>Outstate</th>\n",
              "      <th>Room.Board</th>\n",
              "      <th>Books</th>\n",
              "      <th>Personal</th>\n",
              "      <th>PhD</th>\n",
              "      <th>Terminal</th>\n",
              "      <th>S.F.Ratio</th>\n",
              "      <th>perc.alumni</th>\n",
              "      <th>Expend</th>\n",
              "      <th>Grad.Rate</th>\n",
              "    </tr>\n",
              "  </thead>\n",
              "  <tbody>\n",
              "    <tr>\n",
              "      <th>0</th>\n",
              "      <td>Yes</td>\n",
              "      <td>1660</td>\n",
              "      <td>1232</td>\n",
              "      <td>721</td>\n",
              "      <td>23</td>\n",
              "      <td>52</td>\n",
              "      <td>2885</td>\n",
              "      <td>537</td>\n",
              "      <td>7440</td>\n",
              "      <td>3300</td>\n",
              "      <td>450</td>\n",
              "      <td>2200</td>\n",
              "      <td>70</td>\n",
              "      <td>78</td>\n",
              "      <td>18.1</td>\n",
              "      <td>12</td>\n",
              "      <td>7041</td>\n",
              "      <td>60</td>\n",
              "    </tr>\n",
              "    <tr>\n",
              "      <th>1</th>\n",
              "      <td>Yes</td>\n",
              "      <td>2186</td>\n",
              "      <td>1924</td>\n",
              "      <td>512</td>\n",
              "      <td>16</td>\n",
              "      <td>29</td>\n",
              "      <td>2683</td>\n",
              "      <td>1227</td>\n",
              "      <td>12280</td>\n",
              "      <td>6450</td>\n",
              "      <td>750</td>\n",
              "      <td>1500</td>\n",
              "      <td>29</td>\n",
              "      <td>30</td>\n",
              "      <td>12.2</td>\n",
              "      <td>16</td>\n",
              "      <td>10527</td>\n",
              "      <td>56</td>\n",
              "    </tr>\n",
              "    <tr>\n",
              "      <th>2</th>\n",
              "      <td>Yes</td>\n",
              "      <td>1428</td>\n",
              "      <td>1097</td>\n",
              "      <td>336</td>\n",
              "      <td>22</td>\n",
              "      <td>50</td>\n",
              "      <td>1036</td>\n",
              "      <td>99</td>\n",
              "      <td>11250</td>\n",
              "      <td>3750</td>\n",
              "      <td>400</td>\n",
              "      <td>1165</td>\n",
              "      <td>53</td>\n",
              "      <td>66</td>\n",
              "      <td>12.9</td>\n",
              "      <td>30</td>\n",
              "      <td>8735</td>\n",
              "      <td>54</td>\n",
              "    </tr>\n",
              "    <tr>\n",
              "      <th>3</th>\n",
              "      <td>Yes</td>\n",
              "      <td>417</td>\n",
              "      <td>349</td>\n",
              "      <td>137</td>\n",
              "      <td>60</td>\n",
              "      <td>89</td>\n",
              "      <td>510</td>\n",
              "      <td>63</td>\n",
              "      <td>12960</td>\n",
              "      <td>5450</td>\n",
              "      <td>450</td>\n",
              "      <td>875</td>\n",
              "      <td>92</td>\n",
              "      <td>97</td>\n",
              "      <td>7.7</td>\n",
              "      <td>37</td>\n",
              "      <td>19016</td>\n",
              "      <td>59</td>\n",
              "    </tr>\n",
              "    <tr>\n",
              "      <th>4</th>\n",
              "      <td>Yes</td>\n",
              "      <td>193</td>\n",
              "      <td>146</td>\n",
              "      <td>55</td>\n",
              "      <td>16</td>\n",
              "      <td>44</td>\n",
              "      <td>249</td>\n",
              "      <td>869</td>\n",
              "      <td>7560</td>\n",
              "      <td>4120</td>\n",
              "      <td>800</td>\n",
              "      <td>1500</td>\n",
              "      <td>76</td>\n",
              "      <td>72</td>\n",
              "      <td>11.9</td>\n",
              "      <td>2</td>\n",
              "      <td>10922</td>\n",
              "      <td>15</td>\n",
              "    </tr>\n",
              "    <tr>\n",
              "      <th>...</th>\n",
              "      <td>...</td>\n",
              "      <td>...</td>\n",
              "      <td>...</td>\n",
              "      <td>...</td>\n",
              "      <td>...</td>\n",
              "      <td>...</td>\n",
              "      <td>...</td>\n",
              "      <td>...</td>\n",
              "      <td>...</td>\n",
              "      <td>...</td>\n",
              "      <td>...</td>\n",
              "      <td>...</td>\n",
              "      <td>...</td>\n",
              "      <td>...</td>\n",
              "      <td>...</td>\n",
              "      <td>...</td>\n",
              "      <td>...</td>\n",
              "      <td>...</td>\n",
              "    </tr>\n",
              "    <tr>\n",
              "      <th>772</th>\n",
              "      <td>No</td>\n",
              "      <td>2197</td>\n",
              "      <td>1515</td>\n",
              "      <td>543</td>\n",
              "      <td>4</td>\n",
              "      <td>26</td>\n",
              "      <td>3089</td>\n",
              "      <td>2029</td>\n",
              "      <td>6797</td>\n",
              "      <td>3900</td>\n",
              "      <td>500</td>\n",
              "      <td>1200</td>\n",
              "      <td>60</td>\n",
              "      <td>60</td>\n",
              "      <td>21.0</td>\n",
              "      <td>14</td>\n",
              "      <td>4469</td>\n",
              "      <td>40</td>\n",
              "    </tr>\n",
              "    <tr>\n",
              "      <th>773</th>\n",
              "      <td>Yes</td>\n",
              "      <td>1959</td>\n",
              "      <td>1805</td>\n",
              "      <td>695</td>\n",
              "      <td>24</td>\n",
              "      <td>47</td>\n",
              "      <td>2849</td>\n",
              "      <td>1107</td>\n",
              "      <td>11520</td>\n",
              "      <td>4960</td>\n",
              "      <td>600</td>\n",
              "      <td>1250</td>\n",
              "      <td>73</td>\n",
              "      <td>75</td>\n",
              "      <td>13.3</td>\n",
              "      <td>31</td>\n",
              "      <td>9189</td>\n",
              "      <td>83</td>\n",
              "    </tr>\n",
              "    <tr>\n",
              "      <th>774</th>\n",
              "      <td>Yes</td>\n",
              "      <td>2097</td>\n",
              "      <td>1915</td>\n",
              "      <td>695</td>\n",
              "      <td>34</td>\n",
              "      <td>61</td>\n",
              "      <td>2793</td>\n",
              "      <td>166</td>\n",
              "      <td>6900</td>\n",
              "      <td>4200</td>\n",
              "      <td>617</td>\n",
              "      <td>781</td>\n",
              "      <td>67</td>\n",
              "      <td>75</td>\n",
              "      <td>14.4</td>\n",
              "      <td>20</td>\n",
              "      <td>8323</td>\n",
              "      <td>49</td>\n",
              "    </tr>\n",
              "    <tr>\n",
              "      <th>775</th>\n",
              "      <td>Yes</td>\n",
              "      <td>10705</td>\n",
              "      <td>2453</td>\n",
              "      <td>1317</td>\n",
              "      <td>95</td>\n",
              "      <td>99</td>\n",
              "      <td>5217</td>\n",
              "      <td>83</td>\n",
              "      <td>19840</td>\n",
              "      <td>6510</td>\n",
              "      <td>630</td>\n",
              "      <td>2115</td>\n",
              "      <td>96</td>\n",
              "      <td>96</td>\n",
              "      <td>5.8</td>\n",
              "      <td>49</td>\n",
              "      <td>40386</td>\n",
              "      <td>99</td>\n",
              "    </tr>\n",
              "    <tr>\n",
              "      <th>776</th>\n",
              "      <td>Yes</td>\n",
              "      <td>2989</td>\n",
              "      <td>1855</td>\n",
              "      <td>691</td>\n",
              "      <td>28</td>\n",
              "      <td>63</td>\n",
              "      <td>2988</td>\n",
              "      <td>1726</td>\n",
              "      <td>4990</td>\n",
              "      <td>3560</td>\n",
              "      <td>500</td>\n",
              "      <td>1250</td>\n",
              "      <td>75</td>\n",
              "      <td>75</td>\n",
              "      <td>18.1</td>\n",
              "      <td>28</td>\n",
              "      <td>4509</td>\n",
              "      <td>99</td>\n",
              "    </tr>\n",
              "  </tbody>\n",
              "</table>\n",
              "<p>777 rows × 18 columns</p>\n",
              "</div>"
            ],
            "text/plain": [
              "    Private   Apps  Accept  Enroll  ...  S.F.Ratio  perc.alumni  Expend  Grad.Rate\n",
              "0       Yes   1660    1232     721  ...       18.1           12    7041         60\n",
              "1       Yes   2186    1924     512  ...       12.2           16   10527         56\n",
              "2       Yes   1428    1097     336  ...       12.9           30    8735         54\n",
              "3       Yes    417     349     137  ...        7.7           37   19016         59\n",
              "4       Yes    193     146      55  ...       11.9            2   10922         15\n",
              "..      ...    ...     ...     ...  ...        ...          ...     ...        ...\n",
              "772      No   2197    1515     543  ...       21.0           14    4469         40\n",
              "773     Yes   1959    1805     695  ...       13.3           31    9189         83\n",
              "774     Yes   2097    1915     695  ...       14.4           20    8323         49\n",
              "775     Yes  10705    2453    1317  ...        5.8           49   40386         99\n",
              "776     Yes   2989    1855     691  ...       18.1           28    4509         99\n",
              "\n",
              "[777 rows x 18 columns]"
            ]
          },
          "metadata": {
            "tags": []
          },
          "execution_count": 4
        }
      ]
    },
    {
      "cell_type": "code",
      "metadata": {
        "colab": {
          "base_uri": "https://localhost:8080/"
        },
        "id": "zBJNOQRVdmsl",
        "outputId": "db4e9e21-00b2-46b0-8e6a-ff480323b60c"
      },
      "source": [
        "college.isna().sum() # Check for missing data"
      ],
      "execution_count": null,
      "outputs": [
        {
          "output_type": "execute_result",
          "data": {
            "text/plain": [
              "Private        0\n",
              "Apps           0\n",
              "Accept         0\n",
              "Enroll         0\n",
              "Top10perc      0\n",
              "Top25perc      0\n",
              "F.Undergrad    0\n",
              "P.Undergrad    0\n",
              "Outstate       0\n",
              "Room.Board     0\n",
              "Books          0\n",
              "Personal       0\n",
              "PhD            0\n",
              "Terminal       0\n",
              "S.F.Ratio      0\n",
              "perc.alumni    0\n",
              "Expend         0\n",
              "Grad.Rate      0\n",
              "dtype: int64"
            ]
          },
          "metadata": {
            "tags": []
          },
          "execution_count": 5
        }
      ]
    },
    {
      "cell_type": "code",
      "metadata": {
        "colab": {
          "base_uri": "https://localhost:8080/"
        },
        "id": "1uPE9mhgelDt",
        "outputId": "950a250c-c484-46a3-94e2-cd1365705843"
      },
      "source": [
        "college.dtypes"
      ],
      "execution_count": null,
      "outputs": [
        {
          "output_type": "execute_result",
          "data": {
            "text/plain": [
              "Private         object\n",
              "Apps             int64\n",
              "Accept           int64\n",
              "Enroll           int64\n",
              "Top10perc        int64\n",
              "Top25perc        int64\n",
              "F.Undergrad      int64\n",
              "P.Undergrad      int64\n",
              "Outstate         int64\n",
              "Room.Board       int64\n",
              "Books            int64\n",
              "Personal         int64\n",
              "PhD              int64\n",
              "Terminal         int64\n",
              "S.F.Ratio      float64\n",
              "perc.alumni      int64\n",
              "Expend           int64\n",
              "Grad.Rate        int64\n",
              "dtype: object"
            ]
          },
          "metadata": {
            "tags": []
          },
          "execution_count": 6
        }
      ]
    },
    {
      "cell_type": "code",
      "metadata": {
        "colab": {
          "base_uri": "https://localhost:8080/",
          "height": 420
        },
        "id": "onc0M9_XeCgx",
        "outputId": "040e1d7e-6feb-4c46-d659-c1463fe253d9"
      },
      "source": [
        "from sklearn.preprocessing import LabelEncoder\n",
        "le = LabelEncoder()\n",
        "college['Private'] = le.fit_transform(college['Private'])\n",
        "college"
      ],
      "execution_count": null,
      "outputs": [
        {
          "output_type": "execute_result",
          "data": {
            "text/html": [
              "<div>\n",
              "<style scoped>\n",
              "    .dataframe tbody tr th:only-of-type {\n",
              "        vertical-align: middle;\n",
              "    }\n",
              "\n",
              "    .dataframe tbody tr th {\n",
              "        vertical-align: top;\n",
              "    }\n",
              "\n",
              "    .dataframe thead th {\n",
              "        text-align: right;\n",
              "    }\n",
              "</style>\n",
              "<table border=\"1\" class=\"dataframe\">\n",
              "  <thead>\n",
              "    <tr style=\"text-align: right;\">\n",
              "      <th></th>\n",
              "      <th>Private</th>\n",
              "      <th>Apps</th>\n",
              "      <th>Accept</th>\n",
              "      <th>Enroll</th>\n",
              "      <th>Top10perc</th>\n",
              "      <th>Top25perc</th>\n",
              "      <th>F.Undergrad</th>\n",
              "      <th>P.Undergrad</th>\n",
              "      <th>Outstate</th>\n",
              "      <th>Room.Board</th>\n",
              "      <th>Books</th>\n",
              "      <th>Personal</th>\n",
              "      <th>PhD</th>\n",
              "      <th>Terminal</th>\n",
              "      <th>S.F.Ratio</th>\n",
              "      <th>perc.alumni</th>\n",
              "      <th>Expend</th>\n",
              "      <th>Grad.Rate</th>\n",
              "    </tr>\n",
              "  </thead>\n",
              "  <tbody>\n",
              "    <tr>\n",
              "      <th>0</th>\n",
              "      <td>1</td>\n",
              "      <td>1660</td>\n",
              "      <td>1232</td>\n",
              "      <td>721</td>\n",
              "      <td>23</td>\n",
              "      <td>52</td>\n",
              "      <td>2885</td>\n",
              "      <td>537</td>\n",
              "      <td>7440</td>\n",
              "      <td>3300</td>\n",
              "      <td>450</td>\n",
              "      <td>2200</td>\n",
              "      <td>70</td>\n",
              "      <td>78</td>\n",
              "      <td>18.1</td>\n",
              "      <td>12</td>\n",
              "      <td>7041</td>\n",
              "      <td>60</td>\n",
              "    </tr>\n",
              "    <tr>\n",
              "      <th>1</th>\n",
              "      <td>1</td>\n",
              "      <td>2186</td>\n",
              "      <td>1924</td>\n",
              "      <td>512</td>\n",
              "      <td>16</td>\n",
              "      <td>29</td>\n",
              "      <td>2683</td>\n",
              "      <td>1227</td>\n",
              "      <td>12280</td>\n",
              "      <td>6450</td>\n",
              "      <td>750</td>\n",
              "      <td>1500</td>\n",
              "      <td>29</td>\n",
              "      <td>30</td>\n",
              "      <td>12.2</td>\n",
              "      <td>16</td>\n",
              "      <td>10527</td>\n",
              "      <td>56</td>\n",
              "    </tr>\n",
              "    <tr>\n",
              "      <th>2</th>\n",
              "      <td>1</td>\n",
              "      <td>1428</td>\n",
              "      <td>1097</td>\n",
              "      <td>336</td>\n",
              "      <td>22</td>\n",
              "      <td>50</td>\n",
              "      <td>1036</td>\n",
              "      <td>99</td>\n",
              "      <td>11250</td>\n",
              "      <td>3750</td>\n",
              "      <td>400</td>\n",
              "      <td>1165</td>\n",
              "      <td>53</td>\n",
              "      <td>66</td>\n",
              "      <td>12.9</td>\n",
              "      <td>30</td>\n",
              "      <td>8735</td>\n",
              "      <td>54</td>\n",
              "    </tr>\n",
              "    <tr>\n",
              "      <th>3</th>\n",
              "      <td>1</td>\n",
              "      <td>417</td>\n",
              "      <td>349</td>\n",
              "      <td>137</td>\n",
              "      <td>60</td>\n",
              "      <td>89</td>\n",
              "      <td>510</td>\n",
              "      <td>63</td>\n",
              "      <td>12960</td>\n",
              "      <td>5450</td>\n",
              "      <td>450</td>\n",
              "      <td>875</td>\n",
              "      <td>92</td>\n",
              "      <td>97</td>\n",
              "      <td>7.7</td>\n",
              "      <td>37</td>\n",
              "      <td>19016</td>\n",
              "      <td>59</td>\n",
              "    </tr>\n",
              "    <tr>\n",
              "      <th>4</th>\n",
              "      <td>1</td>\n",
              "      <td>193</td>\n",
              "      <td>146</td>\n",
              "      <td>55</td>\n",
              "      <td>16</td>\n",
              "      <td>44</td>\n",
              "      <td>249</td>\n",
              "      <td>869</td>\n",
              "      <td>7560</td>\n",
              "      <td>4120</td>\n",
              "      <td>800</td>\n",
              "      <td>1500</td>\n",
              "      <td>76</td>\n",
              "      <td>72</td>\n",
              "      <td>11.9</td>\n",
              "      <td>2</td>\n",
              "      <td>10922</td>\n",
              "      <td>15</td>\n",
              "    </tr>\n",
              "    <tr>\n",
              "      <th>...</th>\n",
              "      <td>...</td>\n",
              "      <td>...</td>\n",
              "      <td>...</td>\n",
              "      <td>...</td>\n",
              "      <td>...</td>\n",
              "      <td>...</td>\n",
              "      <td>...</td>\n",
              "      <td>...</td>\n",
              "      <td>...</td>\n",
              "      <td>...</td>\n",
              "      <td>...</td>\n",
              "      <td>...</td>\n",
              "      <td>...</td>\n",
              "      <td>...</td>\n",
              "      <td>...</td>\n",
              "      <td>...</td>\n",
              "      <td>...</td>\n",
              "      <td>...</td>\n",
              "    </tr>\n",
              "    <tr>\n",
              "      <th>772</th>\n",
              "      <td>0</td>\n",
              "      <td>2197</td>\n",
              "      <td>1515</td>\n",
              "      <td>543</td>\n",
              "      <td>4</td>\n",
              "      <td>26</td>\n",
              "      <td>3089</td>\n",
              "      <td>2029</td>\n",
              "      <td>6797</td>\n",
              "      <td>3900</td>\n",
              "      <td>500</td>\n",
              "      <td>1200</td>\n",
              "      <td>60</td>\n",
              "      <td>60</td>\n",
              "      <td>21.0</td>\n",
              "      <td>14</td>\n",
              "      <td>4469</td>\n",
              "      <td>40</td>\n",
              "    </tr>\n",
              "    <tr>\n",
              "      <th>773</th>\n",
              "      <td>1</td>\n",
              "      <td>1959</td>\n",
              "      <td>1805</td>\n",
              "      <td>695</td>\n",
              "      <td>24</td>\n",
              "      <td>47</td>\n",
              "      <td>2849</td>\n",
              "      <td>1107</td>\n",
              "      <td>11520</td>\n",
              "      <td>4960</td>\n",
              "      <td>600</td>\n",
              "      <td>1250</td>\n",
              "      <td>73</td>\n",
              "      <td>75</td>\n",
              "      <td>13.3</td>\n",
              "      <td>31</td>\n",
              "      <td>9189</td>\n",
              "      <td>83</td>\n",
              "    </tr>\n",
              "    <tr>\n",
              "      <th>774</th>\n",
              "      <td>1</td>\n",
              "      <td>2097</td>\n",
              "      <td>1915</td>\n",
              "      <td>695</td>\n",
              "      <td>34</td>\n",
              "      <td>61</td>\n",
              "      <td>2793</td>\n",
              "      <td>166</td>\n",
              "      <td>6900</td>\n",
              "      <td>4200</td>\n",
              "      <td>617</td>\n",
              "      <td>781</td>\n",
              "      <td>67</td>\n",
              "      <td>75</td>\n",
              "      <td>14.4</td>\n",
              "      <td>20</td>\n",
              "      <td>8323</td>\n",
              "      <td>49</td>\n",
              "    </tr>\n",
              "    <tr>\n",
              "      <th>775</th>\n",
              "      <td>1</td>\n",
              "      <td>10705</td>\n",
              "      <td>2453</td>\n",
              "      <td>1317</td>\n",
              "      <td>95</td>\n",
              "      <td>99</td>\n",
              "      <td>5217</td>\n",
              "      <td>83</td>\n",
              "      <td>19840</td>\n",
              "      <td>6510</td>\n",
              "      <td>630</td>\n",
              "      <td>2115</td>\n",
              "      <td>96</td>\n",
              "      <td>96</td>\n",
              "      <td>5.8</td>\n",
              "      <td>49</td>\n",
              "      <td>40386</td>\n",
              "      <td>99</td>\n",
              "    </tr>\n",
              "    <tr>\n",
              "      <th>776</th>\n",
              "      <td>1</td>\n",
              "      <td>2989</td>\n",
              "      <td>1855</td>\n",
              "      <td>691</td>\n",
              "      <td>28</td>\n",
              "      <td>63</td>\n",
              "      <td>2988</td>\n",
              "      <td>1726</td>\n",
              "      <td>4990</td>\n",
              "      <td>3560</td>\n",
              "      <td>500</td>\n",
              "      <td>1250</td>\n",
              "      <td>75</td>\n",
              "      <td>75</td>\n",
              "      <td>18.1</td>\n",
              "      <td>28</td>\n",
              "      <td>4509</td>\n",
              "      <td>99</td>\n",
              "    </tr>\n",
              "  </tbody>\n",
              "</table>\n",
              "<p>777 rows × 18 columns</p>\n",
              "</div>"
            ],
            "text/plain": [
              "     Private   Apps  Accept  Enroll  ...  S.F.Ratio  perc.alumni  Expend  Grad.Rate\n",
              "0          1   1660    1232     721  ...       18.1           12    7041         60\n",
              "1          1   2186    1924     512  ...       12.2           16   10527         56\n",
              "2          1   1428    1097     336  ...       12.9           30    8735         54\n",
              "3          1    417     349     137  ...        7.7           37   19016         59\n",
              "4          1    193     146      55  ...       11.9            2   10922         15\n",
              "..       ...    ...     ...     ...  ...        ...          ...     ...        ...\n",
              "772        0   2197    1515     543  ...       21.0           14    4469         40\n",
              "773        1   1959    1805     695  ...       13.3           31    9189         83\n",
              "774        1   2097    1915     695  ...       14.4           20    8323         49\n",
              "775        1  10705    2453    1317  ...        5.8           49   40386         99\n",
              "776        1   2989    1855     691  ...       18.1           28    4509         99\n",
              "\n",
              "[777 rows x 18 columns]"
            ]
          },
          "metadata": {
            "tags": []
          },
          "execution_count": 7
        }
      ]
    },
    {
      "cell_type": "code",
      "metadata": {
        "colab": {
          "base_uri": "https://localhost:8080/"
        },
        "id": "0Z6EqlxSe8YJ",
        "outputId": "bd8d72b5-54bf-4921-97ca-17c99f592476"
      },
      "source": [
        "X = college.iloc[:,1:]\n",
        "y=  college.iloc[:,:1]\n",
        "\n",
        "xtrain,xtest,ytrain,ytest = train_test_split(X,y,test_size=0.2,random_state=1)\n",
        "print(xtrain.shape)"
      ],
      "execution_count": null,
      "outputs": [
        {
          "output_type": "stream",
          "text": [
            "(621, 17)\n"
          ],
          "name": "stdout"
        }
      ]
    },
    {
      "cell_type": "code",
      "metadata": {
        "id": "dcyychKLfQDF"
      },
      "source": [
        "from sklearn.svm import LinearSVC,SVC\n",
        "classifier = LinearSVC()"
      ],
      "execution_count": null,
      "outputs": []
    },
    {
      "cell_type": "code",
      "metadata": {
        "colab": {
          "base_uri": "https://localhost:8080/"
        },
        "id": "oy_YecE4fvzS",
        "outputId": "eabf1f27-2765-4d94-e8e8-f09324767d26"
      },
      "source": [
        "classifier.fit(xtrain,ytrain)\n",
        "y_pred = classifier.predict(xtest)\n"
      ],
      "execution_count": null,
      "outputs": [
        {
          "output_type": "stream",
          "text": [
            "/usr/local/lib/python3.7/dist-packages/sklearn/utils/validation.py:760: DataConversionWarning: A column-vector y was passed when a 1d array was expected. Please change the shape of y to (n_samples, ), for example using ravel().\n",
            "  y = column_or_1d(y, warn=True)\n",
            "/usr/local/lib/python3.7/dist-packages/sklearn/svm/_base.py:947: ConvergenceWarning: Liblinear failed to converge, increase the number of iterations.\n",
            "  \"the number of iterations.\", ConvergenceWarning)\n"
          ],
          "name": "stderr"
        }
      ]
    },
    {
      "cell_type": "code",
      "metadata": {
        "colab": {
          "base_uri": "https://localhost:8080/"
        },
        "id": "k_qqxLdFf65w",
        "outputId": "e3fe4c83-4b29-4f67-af81-1a37b0479749"
      },
      "source": [
        "classifier.score(xtest,ytest)"
      ],
      "execution_count": null,
      "outputs": [
        {
          "output_type": "execute_result",
          "data": {
            "text/plain": [
              "0.9551282051282052"
            ]
          },
          "metadata": {
            "tags": []
          },
          "execution_count": 11
        }
      ]
    },
    {
      "cell_type": "code",
      "metadata": {
        "colab": {
          "base_uri": "https://localhost:8080/"
        },
        "id": "ASKOlnRXgDjh",
        "outputId": "fe6f9a1e-d35f-4ff3-d966-aaaeb09c9463"
      },
      "source": [
        "print(confusion_matrix(ytest,y_pred))"
      ],
      "execution_count": null,
      "outputs": [
        {
          "output_type": "stream",
          "text": [
            "[[ 34   5]\n",
            " [  2 115]]\n"
          ],
          "name": "stdout"
        }
      ]
    },
    {
      "cell_type": "code",
      "metadata": {
        "colab": {
          "base_uri": "https://localhost:8080/"
        },
        "id": "csKV05WqgNOh",
        "outputId": "328a0cff-b9c8-4455-e359-baf931014de4"
      },
      "source": [
        "classifier = SVC()\n",
        "classifier.fit(xtrain,ytrain)\n",
        "classifier.score(xtest,ytest)"
      ],
      "execution_count": null,
      "outputs": [
        {
          "output_type": "stream",
          "text": [
            "/usr/local/lib/python3.7/dist-packages/sklearn/utils/validation.py:760: DataConversionWarning: A column-vector y was passed when a 1d array was expected. Please change the shape of y to (n_samples, ), for example using ravel().\n",
            "  y = column_or_1d(y, warn=True)\n"
          ],
          "name": "stderr"
        },
        {
          "output_type": "execute_result",
          "data": {
            "text/plain": [
              "0.9230769230769231"
            ]
          },
          "metadata": {
            "tags": []
          },
          "execution_count": 13
        }
      ]
    },
    {
      "cell_type": "code",
      "metadata": {
        "colab": {
          "base_uri": "https://localhost:8080/"
        },
        "id": "ITobbNhmgrGh",
        "outputId": "dc0d5924-d1fd-419e-d5db-f7fa58c3c7b5"
      },
      "source": [
        "from sklearn.model_selection import GridSearchCV\n",
        "from sklearn.preprocessing import StandardScaler\n",
        "scaler = StandardScaler()\n",
        "X,y = college.iloc[:,1:].values,college.iloc[:,:1].values\n",
        "X = scaler.fit_transform(X)\n",
        "target_encoder = LabelEncoder()\n",
        "y = target_encoder.fit_transform(y)"
      ],
      "execution_count": null,
      "outputs": [
        {
          "output_type": "stream",
          "text": [
            "/usr/local/lib/python3.7/dist-packages/sklearn/preprocessing/_label.py:251: DataConversionWarning: A column-vector y was passed when a 1d array was expected. Please change the shape of y to (n_samples, ), for example using ravel().\n",
            "  y = column_or_1d(y, warn=True)\n"
          ],
          "name": "stderr"
        }
      ]
    },
    {
      "cell_type": "code",
      "metadata": {
        "colab": {
          "base_uri": "https://localhost:8080/"
        },
        "id": "XfY2APD8hsz_",
        "outputId": "7c71bb96-1aef-4f12-db91-3ad59dfe7ef6"
      },
      "source": [
        "xtrain,xtest,ytrain,ytest = train_test_split(X,y,test_size=0.2,random_state=1)\n",
        "print(xtrain.shape)"
      ],
      "execution_count": null,
      "outputs": [
        {
          "output_type": "stream",
          "text": [
            "(621, 17)\n"
          ],
          "name": "stdout"
        }
      ]
    },
    {
      "cell_type": "code",
      "metadata": {
        "colab": {
          "base_uri": "https://localhost:8080/"
        },
        "id": "LIk_KP_OiFnu",
        "outputId": "77e076d0-4707-4d49-83ee-bdb9f242b7dc"
      },
      "source": [
        "classifier = SVC()\n",
        "classifier.fit(xtrain,ytrain)\n",
        "classifier.score(xtest,ytest)"
      ],
      "execution_count": null,
      "outputs": [
        {
          "output_type": "execute_result",
          "data": {
            "text/plain": [
              "0.9423076923076923"
            ]
          },
          "metadata": {
            "tags": []
          },
          "execution_count": 16
        }
      ]
    },
    {
      "cell_type": "code",
      "metadata": {
        "colab": {
          "base_uri": "https://localhost:8080/"
        },
        "id": "nzghROT2ik4B",
        "outputId": "8d462b70-26c0-4a44-d389-b6c106bb8ac6"
      },
      "source": [
        "from sklearn.model_selection import StratifiedShuffleSplit\n",
        "C_range = np.logspace(-2, 10, 13)\n",
        "gamma_range = np.logspace(-9, 3, 13)\n",
        "param_grid = dict( gamma=gamma_range,C=C_range)\n",
        "grid = GridSearchCV(SVC(), param_grid=param_grid)\n",
        "grid.fit(xtrain,ytrain)"
      ],
      "execution_count": null,
      "outputs": [
        {
          "output_type": "execute_result",
          "data": {
            "text/plain": [
              "GridSearchCV(cv=None, error_score=nan,\n",
              "             estimator=SVC(C=1.0, break_ties=False, cache_size=200,\n",
              "                           class_weight=None, coef0=0.0,\n",
              "                           decision_function_shape='ovr', degree=3,\n",
              "                           gamma='scale', kernel='rbf', max_iter=-1,\n",
              "                           probability=False, random_state=None, shrinking=True,\n",
              "                           tol=0.001, verbose=False),\n",
              "             iid='deprecated', n_jobs=None,\n",
              "             param_grid={'C': array([1.e-02, 1.e-01, 1.e+00, 1.e+01, 1.e+02, 1.e+03, 1.e+04, 1.e+05,\n",
              "       1.e+06, 1.e+07, 1.e+08, 1.e+09, 1.e+10]),\n",
              "                         'gamma': array([1.e-09, 1.e-08, 1.e-07, 1.e-06, 1.e-05, 1.e-04, 1.e-03, 1.e-02,\n",
              "       1.e-01, 1.e+00, 1.e+01, 1.e+02, 1.e+03])},\n",
              "             pre_dispatch='2*n_jobs', refit=True, return_train_score=False,\n",
              "             scoring=None, verbose=0)"
            ]
          },
          "metadata": {
            "tags": []
          },
          "execution_count": 17
        }
      ]
    },
    {
      "cell_type": "code",
      "metadata": {
        "colab": {
          "base_uri": "https://localhost:8080/"
        },
        "id": "kLKLrQWduYDV",
        "outputId": "86bbc7c8-d802-4757-e35b-d8355f982efb"
      },
      "source": [
        "print(\"The best parameters are %s with a score of %0.2f\"% (grid.best_params_, grid.best_score_))"
      ],
      "execution_count": null,
      "outputs": [
        {
          "output_type": "stream",
          "text": [
            "The best parameters are {'C': 1000000.0, 'gamma': 1e-07} with a score of 0.94\n"
          ],
          "name": "stdout"
        }
      ]
    },
    {
      "cell_type": "markdown",
      "metadata": {
        "id": "8uGLNuQePar_"
      },
      "source": [
        "![image.png](data:image/png;base64,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)"
      ]
    },
    {
      "cell_type": "markdown",
      "metadata": {
        "id": "tN7Yq9dNPgyL"
      },
      "source": [
        "THEREFORE THE LINEAR SVM CLASSIFIER IS THE BEST MODEL FOR PREDICTION"
      ]
    }
  ]
}